{
 "metadata": {
  "name": ""
 },
 "nbformat": 3,
 "nbformat_minor": 0,
 "worksheets": [
  {
   "cells": [
    {
     "cell_type": "heading",
     "level": 1,
     "metadata": {},
     "source": [
      "Predicting Oil Prices Based on Geopolitical Events"
     ]
    },
    {
     "cell_type": "heading",
     "level": 3,
     "metadata": {},
     "source": [
      "The Problem:"
     ]
    },
    {
     "cell_type": "raw",
     "metadata": {},
     "source": [
      "Global oil prices are affected by a number of factors. A very simple view of the problem would suggest supply and demand are the main drivers of price. Determining what drives the supply of and demand for oil can yeild a model for oil prices around the world. Hedgers use the market to remove uncertainty from the future of the market, allowing them to make plans that require stable prices over longer terms.\n",
      "\n",
      "A second component of the oil market is speculation. Market speculators enter the market when they believe they have actionable information about the future of the market. Through their actions, they position themselves to make money on the movements of the market predicted by whatever model they use.\n",
      "\n",
      "The models used to predict prices of a commodity may be rational or irrational, but it is reasonable to expect that the market reacts to news events affecting the production or consumption of a commodity because these events directly change the supply or demand curves.\n",
      "\n",
      "The question we will investigate is whether these reactions to geopolitical events such as war, negotiation, and assistance have any predictive power on the oil market."
     ]
    },
    {
     "cell_type": "heading",
     "level": 3,
     "metadata": {},
     "source": [
      "The Data:"
     ]
    },
    {
     "cell_type": "markdown",
     "metadata": {},
     "source": [
      "We use three sources of data here:"
     ]
    },
    {
     "cell_type": "heading",
     "level": 5,
     "metadata": {},
     "source": [
      "Quandl historical Oil prices"
     ]
    },
    {
     "cell_type": "heading",
     "level": 5,
     "metadata": {},
     "source": [
      "The GDelt database"
     ]
    },
    {
     "cell_type": "heading",
     "level": 5,
     "metadata": {},
     "source": [
      "The St. Louis Federal Bank"
     ]
    },
    {
     "cell_type": "code",
     "collapsed": false,
     "input": [],
     "language": "python",
     "metadata": {},
     "outputs": []
    }
   ],
   "metadata": {}
  }
 ]
}