{
 "metadata": {
  "name": "",
  "signature": "sha256:90a6996d38d8b68237d2e01535ad54c4d6b5469e8730275cd7ce2165e7058d0d"
 },
 "nbformat": 3,
 "nbformat_minor": 0,
 "worksheets": [
  {
   "cells": [
    {
     "cell_type": "markdown",
     "metadata": {},
     "source": [
      "The program \"ProSharesUltraProShort_SQQQ_vs_Nasdaq100\" is used for single pair exploration so that we could understand the details of the problem and the data. This program is to apply what we formulate there to multiple fund-index pairs."
     ]
    },
    {
     "cell_type": "code",
     "collapsed": false,
     "input": [
      "# the data frame way is not quite convinient, so we make it dictionary way\n",
      "fund_index_pair_codes = {\n",
      "\"GOOG/NYSE_SQQQ\": [\"YAHOO/INDEX_NDX\", -3, \"2005-01-01\"],\n",
      "\"GOOG/NYSEARCA_QID\": [\"YAHOO/INDEX_NDX\", -2, \"2005-01-01\"],\n",
      "\"GOOG/NYSE_TZA\": [\"YAHOO/INDEX_RUT\", -3, \"2005-01-01\"],\n",
      "\"GOOG/NYSEARCA_SSO\": [\"YAHOO/INDEX_GSPC\", 2, \"2005-01-01\"],\n",
      "\"GOOG/NYSEARCA_SPXL\": [\"YAHOO/INDEX_GSPC\", 3, \"2005-01-01\"]\n",
      "}"
     ],
     "language": "python",
     "metadata": {},
     "outputs": [],
     "prompt_number": 36
    },
    {
     "cell_type": "code",
     "collapsed": false,
     "input": [
      "fund_index_pair_codes"
     ],
     "language": "python",
     "metadata": {},
     "outputs": [
      {
       "metadata": {},
       "output_type": "pyout",
       "prompt_number": 37,
       "text": [
        "{'GOOG/NYSEARCA_QID': ['YAHOO/INDEX_NDX', -2, '2005-01-01'],\n",
        " 'GOOG/NYSEARCA_SPXL': ['YAHOO/INDEX_GSPC', 3, '2005-01-01'],\n",
        " 'GOOG/NYSEARCA_SSO': ['YAHOO/INDEX_GSPC', 2, '2005-01-01'],\n",
        " 'GOOG/NYSE_SQQQ': ['YAHOO/INDEX_NDX', -3, '2005-01-01'],\n",
        " 'GOOG/NYSE_TZA': ['YAHOO/INDEX_RUT', -3, '2005-01-01']}"
       ]
      }
     ],
     "prompt_number": 37
    },
    {
     "cell_type": "code",
     "collapsed": false,
     "input": [],
     "language": "python",
     "metadata": {},
     "outputs": []
    }
   ],
   "metadata": {}
  }
 ]
}