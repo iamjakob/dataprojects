{
 "metadata": {
  "name": "",
  "signature": "sha256:8ff3d6e5b15cda90456038a5061fb7bc13ea38dd293385ce791d6f68f93620a7"
 },
 "nbformat": 3,
 "nbformat_minor": 0,
 "worksheets": [
  {
   "cells": [
    {
     "cell_type": "code",
     "collapsed": false,
     "input": [
      "import Quandl\n",
      "mydata = Quandl.get(\"GOOG/NASDAQ_MONT\",trim_start=\"2012-01-01\", authtoken=\"XANwfFd9CmdoE3PdFzRg\")\n",
      "mydata.to_csv('test.csv')\n",
      "quandl_code = 'GOOG/NASDAQ_VNET'\n",
      "print quandl_code\n",
      "#i_data = Quandl.get(quandl_code, trim_start=\"2005-01-01\", authtoken=\"XANwfFd9CmdoE3PdFzRg\")"
     ],
     "language": "python",
     "metadata": {},
     "outputs": [
      {
       "output_type": "stream",
       "stream": "stdout",
       "text": [
        "Token XANwfFd9CmdoE3PdFzRg activated and saved for later use.\n",
        "Returning Dataframe for "
       ]
      },
      {
       "output_type": "stream",
       "stream": "stdout",
       "text": [
        " GOOG/NASDAQ_MONT\n",
        "GOOG/NASDAQ_VNET\n"
       ]
      }
     ],
     "prompt_number": 55
    },
    {
     "cell_type": "code",
     "collapsed": false,
     "input": [
      "import pandas as pd\n",
      "mydata = pd.read_csv('test.csv', index_col=0)"
     ],
     "language": "python",
     "metadata": {},
     "outputs": [],
     "prompt_number": 54
    },
    {
     "cell_type": "code",
     "collapsed": false,
     "input": [
      "mydata[5:6]"
     ],
     "language": "python",
     "metadata": {},
     "outputs": [
      {
       "html": [
        "<div style=\"max-height:1000px;max-width:1500px;overflow:auto;\">\n",
        "<table border=\"1\" class=\"dataframe\">\n",
        "  <thead>\n",
        "    <tr style=\"text-align: right;\">\n",
        "      <th></th>\n",
        "      <th>Open</th>\n",
        "      <th>High</th>\n",
        "      <th>Low</th>\n",
        "      <th>Close</th>\n",
        "      <th>Volume</th>\n",
        "    </tr>\n",
        "    <tr>\n",
        "      <th>Date</th>\n",
        "      <th></th>\n",
        "      <th></th>\n",
        "      <th></th>\n",
        "      <th></th>\n",
        "      <th></th>\n",
        "    </tr>\n",
        "  </thead>\n",
        "  <tbody>\n",
        "    <tr>\n",
        "      <th>2013-10-03</th>\n",
        "      <td> 13.67</td>\n",
        "      <td> 14.75</td>\n",
        "      <td> 13.6</td>\n",
        "      <td> 14.7</td>\n",
        "      <td> 88040</td>\n",
        "    </tr>\n",
        "  </tbody>\n",
        "</table>\n",
        "</div>"
       ],
       "metadata": {},
       "output_type": "pyout",
       "prompt_number": 24,
       "text": [
        "             Open   High   Low  Close  Volume\n",
        "Date                                         \n",
        "2013-10-03  13.67  14.75  13.6   14.7   88040"
       ]
      }
     ],
     "prompt_number": 24
    },
    {
     "cell_type": "code",
     "collapsed": false,
     "input": [
      "!ls -l"
     ],
     "language": "python",
     "metadata": {},
     "outputs": [],
     "prompt_number": 47
    },
    {
     "cell_type": "code",
     "collapsed": false,
     "input": [
      "%cd csv_files/"
     ],
     "language": "python",
     "metadata": {},
     "outputs": [
      {
       "output_type": "stream",
       "stream": "stdout",
       "text": [
        "/home/wuyang/dataprojects/wuyang/csv_files\n"
       ]
      }
     ],
     "prompt_number": 45
    },
    {
     "cell_type": "code",
     "collapsed": false,
     "input": [
      "import Quandl\n",
      "mydata = Quandl.get(\"QUANDL/USDCNY\",trim_start=\"2012-01-01\", authtoken=\"XANwfFd9CmdoE3PdFzRg\")"
     ],
     "language": "python",
     "metadata": {},
     "outputs": [
      {
       "output_type": "stream",
       "stream": "stdout",
       "text": [
        "Token XANwfFd9CmdoE3PdFzRg activated and saved for later use.\n",
        "Returning Dataframe for "
       ]
      },
      {
       "output_type": "stream",
       "stream": "stdout",
       "text": [
        " QUANDL/USDCNY\n"
       ]
      }
     ],
     "prompt_number": 25
    },
    {
     "cell_type": "code",
     "collapsed": false,
     "input": [
      "START_DATE = \"2005-01-01\"\n",
      "import pandas as pd\n",
      "import Quandl\n",
      "company_list = pd.read_csv('../nasdaqchinesecompanylist.csv', index_col=0)\n",
      "company_code = company_list.index\n",
      "print len(company_code)"
     ],
     "language": "python",
     "metadata": {},
     "outputs": [
      {
       "output_type": "stream",
       "stream": "stdout",
       "text": [
        "118\n"
       ]
      }
     ],
     "prompt_number": 5
    },
    {
     "cell_type": "code",
     "collapsed": false,
     "input": [
      "NUM_DOWNLOADED = 0\n",
      "FAILED_COMPANY = []\n",
      "SUCCESS_COMPANY = []\n",
      "for i_company in xrange(0,len(company_code)):\n",
      "    i_code = company_code[i_company]\n",
      "    quandl_code = \"GOOG/NASDAQ_\" + i_code\n",
      "    try:\n",
      "        i_data = Quandl.get(quandl_code, trim_start=START_DATE, authtoken=\"XANwfFd9CmdoE3PdFzRg\")\n",
      "        NUM_DOWNLOADED = NUM_DOWNLOADED + 1\n",
      "        i_data.to_csv(i_code + '.csv')\n",
      "        SUCCESS_COMPANY.append(i_code)\n",
      "    except:\n",
      "        FAILED_COMPANY.append(i_code)\n",
      "print NUM_DOWNLOADED\n",
      "print len(FAILED_COMPANY)"
     ],
     "language": "python",
     "metadata": {},
     "outputs": [
      {
       "output_type": "stream",
       "stream": "stdout",
       "text": [
        "Token XANwfFd9CmdoE3PdFzRg activated and saved for later use.\n",
        "Returning Dataframe for "
       ]
      },
      {
       "output_type": "stream",
       "stream": "stdout",
       "text": [
        " GOOG/NASDAQ_VNET\n",
        "Token XANwfFd9CmdoE3PdFzRg activated and saved for later use.\n",
        "Returning Dataframe for "
       ]
      },
      {
       "output_type": "stream",
       "stream": "stdout",
       "text": [
        " GOOG/NASDAQ_JOBS\n",
        "Token XANwfFd9CmdoE3PdFzRg activated and saved for later use."
       ]
      },
      {
       "output_type": "stream",
       "stream": "stdout",
       "text": [
        "\n",
        "Returning Dataframe for "
       ]
      },
      {
       "output_type": "stream",
       "stream": "stdout",
       "text": [
        " GOOG/NASDAQ_ACTS\n",
        "Token XANwfFd9CmdoE3PdFzRg activated and saved for later use."
       ]
      },
      {
       "output_type": "stream",
       "stream": "stdout",
       "text": [
        "\n",
        "Returning Dataframe for "
       ]
      },
      {
       "output_type": "stream",
       "stream": "stdout",
       "text": [
        " GOOG/NASDAQ_AMCN\n",
        "Token XANwfFd9CmdoE3PdFzRg activated and saved for later use."
       ]
      },
      {
       "output_type": "stream",
       "stream": "stdout",
       "text": [
        "\n",
        "Token XANwfFd9CmdoE3PdFzRg activated and saved for later use."
       ]
      },
      {
       "output_type": "stream",
       "stream": "stdout",
       "text": [
        "\n",
        "Token XANwfFd9CmdoE3PdFzRg activated and saved for later use."
       ]
      },
      {
       "output_type": "stream",
       "stream": "stdout",
       "text": [
        "\n",
        "Returning Dataframe for "
       ]
      },
      {
       "output_type": "stream",
       "stream": "stdout",
       "text": [
        " GOOG/NASDAQ_AMCF\n",
        "Token XANwfFd9CmdoE3PdFzRg activated and saved for later use.\n",
        "Returning Dataframe for "
       ]
      },
      {
       "output_type": "stream",
       "stream": "stdout",
       "text": [
        " GOOG/NASDAQ_ATAI\n",
        "Token XANwfFd9CmdoE3PdFzRg activated and saved for later use.\n",
        "Returning Dataframe for "
       ]
      },
      {
       "output_type": "stream",
       "stream": "stdout",
       "text": [
        " GOOG/NASDAQ_AMAP\n",
        "Token XANwfFd9CmdoE3PdFzRg activated and saved for later use.\n",
        "Returning Dataframe for "
       ]
      },
      {
       "output_type": "stream",
       "stream": "stdout",
       "text": [
        " GOOG/NASDAQ_BIDU\n",
        "Token XANwfFd9CmdoE3PdFzRg activated and saved for later use."
       ]
      },
      {
       "output_type": "stream",
       "stream": "stdout",
       "text": [
        "\n",
        "Returning Dataframe for "
       ]
      },
      {
       "output_type": "stream",
       "stream": "stdout",
       "text": [
        " GOOG/NASDAQ_BSPM\n",
        "Token XANwfFd9CmdoE3PdFzRg activated and saved for later use.\n",
        "Returning Dataframe for "
       ]
      },
      {
       "output_type": "stream",
       "stream": "stdout",
       "text": [
        " GOOG/NASDAQ_BONA\n",
        "Token XANwfFd9CmdoE3PdFzRg activated and saved for later use.\n",
        "Returning Dataframe for "
       ]
      },
      {
       "output_type": "stream",
       "stream": "stdout",
       "text": [
        " GOOG/NASDAQ_CSIQ\n",
        "Token XANwfFd9CmdoE3PdFzRg activated and saved for later use.\n",
        "Returning Dataframe for "
       ]
      },
      {
       "output_type": "stream",
       "stream": "stdout",
       "text": [
        " GOOG/NASDAQ_CYOU\n",
        "Token XANwfFd9CmdoE3PdFzRg activated and saved for later use.\n",
        "Returning Dataframe for "
       ]
      },
      {
       "output_type": "stream",
       "stream": "stdout",
       "text": [
        " GOOG/NASDAQ_CHRM\n",
        "Token XANwfFd9CmdoE3PdFzRg activated and saved for later use.\n",
        "Returning Dataframe for "
       ]
      },
      {
       "output_type": "stream",
       "stream": "stdout",
       "text": [
        " GOOG/NASDAQ_CADC\n",
        "Token XANwfFd9CmdoE3PdFzRg activated and saved for later use.\n",
        "Returning Dataframe for "
       ]
      },
      {
       "output_type": "stream",
       "stream": "stdout",
       "text": [
        " GOOG/NASDAQ_CALI\n",
        "Token XANwfFd9CmdoE3PdFzRg activated and saved for later use.\n",
        "Returning Dataframe for "
       ]
      },
      {
       "output_type": "stream",
       "stream": "stdout",
       "text": [
        " GOOG/NASDAQ_CAAS\n",
        "Token XANwfFd9CmdoE3PdFzRg activated and saved for later use."
       ]
      },
      {
       "output_type": "stream",
       "stream": "stdout",
       "text": [
        "\n",
        "Returning Dataframe for "
       ]
      },
      {
       "output_type": "stream",
       "stream": "stdout",
       "text": [
        " GOOG/NASDAQ_CBAK\n",
        "Token XANwfFd9CmdoE3PdFzRg activated and saved for later use."
       ]
      },
      {
       "output_type": "stream",
       "stream": "stdout",
       "text": [
        "\n",
        "Returning Dataframe for "
       ]
      },
      {
       "output_type": "stream",
       "stream": "stdout",
       "text": [
        " GOOG/NASDAQ_CBPO\n",
        "Token XANwfFd9CmdoE3PdFzRg activated and saved for later use.\n",
        "Returning Dataframe for "
       ]
      },
      {
       "output_type": "stream",
       "stream": "stdout",
       "text": [
        " GOOG/NASDAQ_CCCL\n",
        "Token XANwfFd9CmdoE3PdFzRg activated and saved for later use.\n",
        "Returning Dataframe for "
       ]
      },
      {
       "output_type": "stream",
       "stream": "stdout",
       "text": [
        " GOOG/NASDAQ_CCCR\n",
        "Token XANwfFd9CmdoE3PdFzRg activated and saved for later use.\n",
        "Token XANwfFd9CmdoE3PdFzRg activated and saved for later use."
       ]
      },
      {
       "output_type": "stream",
       "stream": "stdout",
       "text": [
        "\n",
        "Returning Dataframe for "
       ]
      },
      {
       "output_type": "stream",
       "stream": "stdout",
       "text": [
        " GOOG/NASDAQ_JRJC\n",
        "Token XANwfFd9CmdoE3PdFzRg activated and saved for later use."
       ]
      },
      {
       "output_type": "stream",
       "stream": "stdout",
       "text": [
        "\n",
        "Returning Dataframe for "
       ]
      },
      {
       "output_type": "stream",
       "stream": "stdout",
       "text": [
        " GOOG/NASDAQ_CHOP\n",
        "Token XANwfFd9CmdoE3PdFzRg activated and saved for later use.\n",
        "Token XANwfFd9CmdoE3PdFzRg activated and saved for later use."
       ]
      },
      {
       "output_type": "stream",
       "stream": "stdout",
       "text": [
        "\n",
        "Returning Dataframe for "
       ]
      },
      {
       "output_type": "stream",
       "stream": "stdout",
       "text": [
        " GOOG/NASDAQ_HGSH\n",
        "Token XANwfFd9CmdoE3PdFzRg activated and saved for later use.\n",
        "Returning Dataframe for "
       ]
      },
      {
       "output_type": "stream",
       "stream": "stdout",
       "text": [
        " GOOG/NASDAQ_CHLN\n",
        "Token XANwfFd9CmdoE3PdFzRg activated and saved for later use."
       ]
      },
      {
       "output_type": "stream",
       "stream": "stdout",
       "text": [
        "\n",
        "Returning Dataframe for "
       ]
      },
      {
       "output_type": "stream",
       "stream": "stdout",
       "text": [
        " GOOG/NASDAQ_CNIT\n",
        "Token XANwfFd9CmdoE3PdFzRg activated and saved for later use.\n",
        "Returning Dataframe for "
       ]
      },
      {
       "output_type": "stream",
       "stream": "stdout",
       "text": [
        " GOOG/NASDAQ_CJJD\n",
        "Token XANwfFd9CmdoE3PdFzRg activated and saved for later use.\n",
        "Token XANwfFd9CmdoE3PdFzRg activated and saved for later use."
       ]
      },
      {
       "output_type": "stream",
       "stream": "stdout",
       "text": [
        "\n",
        "Returning Dataframe for "
       ]
      },
      {
       "output_type": "stream",
       "stream": "stdout",
       "text": [
        " GOOG/NASDAQ_HTHT\n",
        "Token XANwfFd9CmdoE3PdFzRg activated and saved for later use.\n",
        "Token XANwfFd9CmdoE3PdFzRg activated and saved for later use."
       ]
      },
      {
       "output_type": "stream",
       "stream": "stdout",
       "text": [
        "\n",
        "Token XANwfFd9CmdoE3PdFzRg activated and saved for later use."
       ]
      },
      {
       "output_type": "stream",
       "stream": "stdout",
       "text": [
        "\n",
        "Returning Dataframe for "
       ]
      },
      {
       "output_type": "stream",
       "stream": "stdout",
       "text": [
        " GOOG/NASDAQ_CREG\n",
        "Token XANwfFd9CmdoE3PdFzRg activated and saved for later use.\n",
        "Returning Dataframe for "
       ]
      },
      {
       "output_type": "stream",
       "stream": "stdout",
       "text": [
        " GOOG/NASDAQ_CPGI\n",
        "Token XANwfFd9CmdoE3PdFzRg activated and saved for later use.\n",
        "Token XANwfFd9CmdoE3PdFzRg activated and saved for later use."
       ]
      },
      {
       "output_type": "stream",
       "stream": "stdout",
       "text": [
        "\n",
        "Returning Dataframe for "
       ]
      },
      {
       "output_type": "stream",
       "stream": "stdout",
       "text": [
        " GOOG/NASDAQ_CSUN\n",
        "Token XANwfFd9CmdoE3PdFzRg activated and saved for later use."
       ]
      },
      {
       "output_type": "stream",
       "stream": "stdout",
       "text": [
        "\n",
        "Returning Dataframe for "
       ]
      },
      {
       "output_type": "stream",
       "stream": "stdout",
       "text": [
        " GOOG/NASDAQ_CNTF\n",
        "Token XANwfFd9CmdoE3PdFzRg activated and saved for later use."
       ]
      },
      {
       "output_type": "stream",
       "stream": "stdout",
       "text": [
        "\n",
        "Returning Dataframe for "
       ]
      },
      {
       "output_type": "stream",
       "stream": "stdout",
       "text": [
        " GOOG/NASDAQ_CXDC\n",
        "Token XANwfFd9CmdoE3PdFzRg activated and saved for later use.\n",
        "Returning Dataframe for "
       ]
      },
      {
       "output_type": "stream",
       "stream": "stdout",
       "text": [
        " GOOG/NASDAQ_CNYD\n",
        "Token XANwfFd9CmdoE3PdFzRg activated and saved for later use.\n",
        "Returning Dataframe for "
       ]
      },
      {
       "output_type": "stream",
       "stream": "stdout",
       "text": [
        " GOOG/NASDAQ_CCIH\n",
        "Token XANwfFd9CmdoE3PdFzRg activated and saved for later use.\n",
        "Returning Dataframe for "
       ]
      },
      {
       "output_type": "stream",
       "stream": "stdout",
       "text": [
        " GOOG/NASDAQ_CNET\n",
        "Token XANwfFd9CmdoE3PdFzRg activated and saved for later use.\n",
        "Returning Dataframe for "
       ]
      },
      {
       "output_type": "stream",
       "stream": "stdout",
       "text": [
        " GOOG/NASDAQ_CLNT\n",
        "Token XANwfFd9CmdoE3PdFzRg activated and saved for later use.\n",
        "Returning Dataframe for "
       ]
      },
      {
       "output_type": "stream",
       "stream": "stdout",
       "text": [
        " GOOG/NASDAQ_CISG\n",
        "Token XANwfFd9CmdoE3PdFzRg activated and saved for later use."
       ]
      },
      {
       "output_type": "stream",
       "stream": "stdout",
       "text": [
        "\n",
        "Token XANwfFd9CmdoE3PdFzRg activated and saved for later use."
       ]
      },
      {
       "output_type": "stream",
       "stream": "stdout",
       "text": [
        "\n",
        "Returning Dataframe for "
       ]
      },
      {
       "output_type": "stream",
       "stream": "stdout",
       "text": [
        " GOOG/NASDAQ_CTRP\n",
        "Token XANwfFd9CmdoE3PdFzRg activated and saved for later use."
       ]
      },
      {
       "output_type": "stream",
       "stream": "stdout",
       "text": [
        "\n",
        "Returning Dataframe for "
       ]
      },
      {
       "output_type": "stream",
       "stream": "stdout",
       "text": [
        " GOOG/NASDAQ_DHRM\n",
        "Token XANwfFd9CmdoE3PdFzRg activated and saved for later use.\n",
        "Token XANwfFd9CmdoE3PdFzRg activated and saved for later use."
       ]
      },
      {
       "output_type": "stream",
       "stream": "stdout",
       "text": [
        "\n",
        "Returning Dataframe for "
       ]
      },
      {
       "output_type": "stream",
       "stream": "stdout",
       "text": [
        " GOOG/NASDAQ_EFUT\n",
        "Token XANwfFd9CmdoE3PdFzRg activated and saved for later use."
       ]
      },
      {
       "output_type": "stream",
       "stream": "stdout",
       "text": [
        "\n",
        "Returning Dataframe for "
       ]
      },
      {
       "output_type": "stream",
       "stream": "stdout",
       "text": [
        " GOOG/NASDAQ_LONG\n",
        "Token XANwfFd9CmdoE3PdFzRg activated and saved for later use."
       ]
      },
      {
       "output_type": "stream",
       "stream": "stdout",
       "text": [
        "\n",
        "Token XANwfFd9CmdoE3PdFzRg activated and saved for later use."
       ]
      },
      {
       "output_type": "stream",
       "stream": "stdout",
       "text": [
        "\n",
        "Returning Dataframe for "
       ]
      },
      {
       "output_type": "stream",
       "stream": "stdout",
       "text": [
        " GOOG/NASDAQ_FFHL\n",
        "Token XANwfFd9CmdoE3PdFzRg activated and saved for later use."
       ]
      },
      {
       "output_type": "stream",
       "stream": "stdout",
       "text": [
        "\n",
        "Token XANwfFd9CmdoE3PdFzRg activated and saved for later use."
       ]
      },
      {
       "output_type": "stream",
       "stream": "stdout",
       "text": [
        "\n",
        "Token XANwfFd9CmdoE3PdFzRg activated and saved for later use."
       ]
      },
      {
       "output_type": "stream",
       "stream": "stdout",
       "text": [
        "\n",
        "Returning Dataframe for "
       ]
      },
      {
       "output_type": "stream",
       "stream": "stdout",
       "text": [
        " GOOG/NASDAQ_GPRC\n",
        "Token XANwfFd9CmdoE3PdFzRg activated and saved for later use.\n",
        "Returning Dataframe for "
       ]
      },
      {
       "output_type": "stream",
       "stream": "stdout",
       "text": [
        " GOOG/NASDAQ_GURE\n",
        "Token XANwfFd9CmdoE3PdFzRg activated and saved for later use.\n",
        "Returning Dataframe for "
       ]
      },
      {
       "output_type": "stream",
       "stream": "stdout",
       "text": [
        " GOOG/NASDAQ_HSOL\n",
        "Token XANwfFd9CmdoE3PdFzRg activated and saved for later use."
       ]
      },
      {
       "output_type": "stream",
       "stream": "stdout",
       "text": [
        "\n",
        "Returning Dataframe for "
       ]
      },
      {
       "output_type": "stream",
       "stream": "stdout",
       "text": [
        " GOOG/NASDAQ_HOLI\n",
        "Token XANwfFd9CmdoE3PdFzRg activated and saved for later use."
       ]
      },
      {
       "output_type": "stream",
       "stream": "stdout",
       "text": [
        "\n",
        "Returning Dataframe for "
       ]
      },
      {
       "output_type": "stream",
       "stream": "stdout",
       "text": [
        " GOOG/NASDAQ_HMIN\n",
        "Token XANwfFd9CmdoE3PdFzRg activated and saved for later use."
       ]
      },
      {
       "output_type": "stream",
       "stream": "stdout",
       "text": [
        "\n",
        "Token XANwfFd9CmdoE3PdFzRg activated and saved for later use."
       ]
      },
      {
       "output_type": "stream",
       "stream": "stdout",
       "text": [
        "\n",
        "Token XANwfFd9CmdoE3PdFzRg activated and saved for later use."
       ]
      },
      {
       "output_type": "stream",
       "stream": "stdout",
       "text": [
        "\n",
        "Returning Dataframe for "
       ]
      },
      {
       "output_type": "stream",
       "stream": "stdout",
       "text": [
        " GOOG/NASDAQ_JASO\n",
        "Token XANwfFd9CmdoE3PdFzRg activated and saved for later use."
       ]
      },
      {
       "output_type": "stream",
       "stream": "stdout",
       "text": [
        "\n",
        "Token XANwfFd9CmdoE3PdFzRg activated and saved for later use."
       ]
      },
      {
       "output_type": "stream",
       "stream": "stdout",
       "text": [
        "\n",
        "Returning Dataframe for "
       ]
      },
      {
       "output_type": "stream",
       "stream": "stdout",
       "text": [
        " GOOG/NASDAQ_DATE\n",
        "Token XANwfFd9CmdoE3PdFzRg activated and saved for later use.\n",
        "Returning Dataframe for "
       ]
      },
      {
       "output_type": "stream",
       "stream": "stdout",
       "text": [
        " GOOG/NASDAQ_JST\n",
        "Token XANwfFd9CmdoE3PdFzRg activated and saved for later use."
       ]
      },
      {
       "output_type": "stream",
       "stream": "stdout",
       "text": [
        "\n",
        "Returning Dataframe for "
       ]
      },
      {
       "output_type": "stream",
       "stream": "stdout",
       "text": [
        " GOOG/NASDAQ_KNDI\n",
        "Token XANwfFd9CmdoE3PdFzRg activated and saved for later use."
       ]
      },
      {
       "output_type": "stream",
       "stream": "stdout",
       "text": [
        "\n",
        "Returning Dataframe for "
       ]
      },
      {
       "output_type": "stream",
       "stream": "stdout",
       "text": [
        " GOOG/NASDAQ_KGJI\n",
        "Token XANwfFd9CmdoE3PdFzRg activated and saved for later use.\n",
        "Returning Dataframe for "
       ]
      },
      {
       "output_type": "stream",
       "stream": "stdout",
       "text": [
        " GOOG/NASDAQ_KONE\n",
        "Token XANwfFd9CmdoE3PdFzRg activated and saved for later use.\n",
        "Returning Dataframe for "
       ]
      },
      {
       "output_type": "stream",
       "stream": "stdout",
       "text": [
        " GOOG/NASDAQ_KONG\n",
        "Token XANwfFd9CmdoE3PdFzRg activated and saved for later use."
       ]
      },
      {
       "output_type": "stream",
       "stream": "stdout",
       "text": [
        "\n",
        "Returning Dataframe for "
       ]
      },
      {
       "output_type": "stream",
       "stream": "stdout",
       "text": [
        " GOOG/NASDAQ_KUTV\n",
        "Token XANwfFd9CmdoE3PdFzRg activated and saved for later use."
       ]
      },
      {
       "output_type": "stream",
       "stream": "stdout",
       "text": [
        "\n",
        "Returning Dataframe for "
       ]
      },
      {
       "output_type": "stream",
       "stream": "stdout",
       "text": [
        " GOOG/NASDAQ_LIWA\n",
        "Token XANwfFd9CmdoE3PdFzRg activated and saved for later use.\n",
        "Returning Dataframe for "
       ]
      },
      {
       "output_type": "stream",
       "stream": "stdout",
       "text": [
        " GOOG/NASDAQ_MCOX\n",
        "Token XANwfFd9CmdoE3PdFzRg activated and saved for later use.\n",
        "Returning Dataframe for "
       ]
      },
      {
       "output_type": "stream",
       "stream": "stdout",
       "text": [
        " GOOG/NASDAQ_MONT\n",
        "Token XANwfFd9CmdoE3PdFzRg activated and saved for later use.\n",
        "Token XANwfFd9CmdoE3PdFzRg activated and saved for later use."
       ]
      },
      {
       "output_type": "stream",
       "stream": "stdout",
       "text": [
        "\n",
        "Returning Dataframe for "
       ]
      },
      {
       "output_type": "stream",
       "stream": "stdout",
       "text": [
        " GOOG/NASDAQ_NTES\n",
        "Token XANwfFd9CmdoE3PdFzRg activated and saved for later use."
       ]
      },
      {
       "output_type": "stream",
       "stream": "stdout",
       "text": [
        "\n",
        "Returning Dataframe for "
       ]
      },
      {
       "output_type": "stream",
       "stream": "stdout",
       "text": [
        " GOOG/NASDAQ_NFEC\n",
        "Token XANwfFd9CmdoE3PdFzRg activated and saved for later use.\n",
        "Token XANwfFd9CmdoE3PdFzRg activated and saved for later use."
       ]
      },
      {
       "output_type": "stream",
       "stream": "stdout",
       "text": [
        "\n",
        "Token XANwfFd9CmdoE3PdFzRg activated and saved for later use."
       ]
      },
      {
       "output_type": "stream",
       "stream": "stdout",
       "text": [
        "\n",
        "Returning Dataframe for "
       ]
      },
      {
       "output_type": "stream",
       "stream": "stdout",
       "text": [
        " GOOG/NASDAQ_OSN\n",
        "Token XANwfFd9CmdoE3PdFzRg activated and saved for later use.\n",
        "Returning Dataframe for "
       ]
      },
      {
       "output_type": "stream",
       "stream": "stdout",
       "text": [
        " GOOG/NASDAQ_PWRD\n",
        "Token XANwfFd9CmdoE3PdFzRg activated and saved for later use."
       ]
      },
      {
       "output_type": "stream",
       "stream": "stdout",
       "text": [
        "\n",
        "Token XANwfFd9CmdoE3PdFzRg activated and saved for later use."
       ]
      },
      {
       "output_type": "stream",
       "stream": "stdout",
       "text": [
        "\n",
        "Returning Dataframe for "
       ]
      },
      {
       "output_type": "stream",
       "stream": "stdout",
       "text": [
        " GOOG/NASDAQ_PME\n",
        "Token XANwfFd9CmdoE3PdFzRg activated and saved for later use.\n",
        "Returning Dataframe for "
       ]
      },
      {
       "output_type": "stream",
       "stream": "stdout",
       "text": [
        " GOOG/NASDAQ_QKLS\n",
        "Token XANwfFd9CmdoE3PdFzRg activated and saved for later use.\n",
        "Token XANwfFd9CmdoE3PdFzRg activated and saved for later use."
       ]
      },
      {
       "output_type": "stream",
       "stream": "stdout",
       "text": [
        "\n",
        "Returning Dataframe for "
       ]
      },
      {
       "output_type": "stream",
       "stream": "stdout",
       "text": [
        " GOOG/NASDAQ_RCON\n",
        "Token XANwfFd9CmdoE3PdFzRg activated and saved for later use.\n",
        "Returning Dataframe for "
       ]
      },
      {
       "output_type": "stream",
       "stream": "stdout",
       "text": [
        " GOOG/NASDAQ_SGOC\n",
        "Token XANwfFd9CmdoE3PdFzRg activated and saved for later use.\n",
        "Returning Dataframe for "
       ]
      },
      {
       "output_type": "stream",
       "stream": "stdout",
       "text": [
        " GOOG/NASDAQ_GAME\n",
        "Token XANwfFd9CmdoE3PdFzRg activated and saved for later use.\n",
        "Returning Dataframe for "
       ]
      },
      {
       "output_type": "stream",
       "stream": "stdout",
       "text": [
        " GOOG/NASDAQ_SINA\n",
        "Token XANwfFd9CmdoE3PdFzRg activated and saved for later use."
       ]
      },
      {
       "output_type": "stream",
       "stream": "stdout",
       "text": [
        "\n",
        "Returning Dataframe for "
       ]
      },
      {
       "output_type": "stream",
       "stream": "stdout",
       "text": [
        " GOOG/NASDAQ_SCOK\n",
        "Token XANwfFd9CmdoE3PdFzRg activated and saved for later use.\n",
        "Token XANwfFd9CmdoE3PdFzRg activated and saved for later use."
       ]
      },
      {
       "output_type": "stream",
       "stream": "stdout",
       "text": [
        "\n",
        "Returning Dataframe for "
       ]
      },
      {
       "output_type": "stream",
       "stream": "stdout",
       "text": [
        " GOOG/NASDAQ_SVA\n",
        "Token XANwfFd9CmdoE3PdFzRg activated and saved for later use.\n",
        "Returning Dataframe for "
       ]
      },
      {
       "output_type": "stream",
       "stream": "stdout",
       "text": [
        " GOOG/NASDAQ_MOBI\n",
        "Token XANwfFd9CmdoE3PdFzRg activated and saved for later use.\n",
        "Returning Dataframe for "
       ]
      },
      {
       "output_type": "stream",
       "stream": "stdout",
       "text": [
        " GOOG/NASDAQ_SPU\n",
        "Token XANwfFd9CmdoE3PdFzRg activated and saved for later use.\n",
        "Returning Dataframe for "
       ]
      },
      {
       "output_type": "stream",
       "stream": "stdout",
       "text": [
        " GOOG/NASDAQ_SKBI\n",
        "Token XANwfFd9CmdoE3PdFzRg activated and saved for later use.\n",
        "Returning Dataframe for "
       ]
      },
      {
       "output_type": "stream",
       "stream": "stdout",
       "text": [
        " GOOG/NASDAQ_SOHU\n",
        "Token XANwfFd9CmdoE3PdFzRg activated and saved for later use."
       ]
      },
      {
       "output_type": "stream",
       "stream": "stdout",
       "text": [
        "\n",
        "Returning Dataframe for "
       ]
      },
      {
       "output_type": "stream",
       "stream": "stdout",
       "text": [
        " GOOG/NASDAQ_SORL\n",
        "Token XANwfFd9CmdoE3PdFzRg activated and saved for later use."
       ]
      },
      {
       "output_type": "stream",
       "stream": "stdout",
       "text": [
        "\n",
        "Returning Dataframe for "
       ]
      },
      {
       "output_type": "stream",
       "stream": "stdout",
       "text": [
        " GOOG/NASDAQ_GOMO\n",
        "Token XANwfFd9CmdoE3PdFzRg activated and saved for later use.\n",
        "Returning Dataframe for "
       ]
      },
      {
       "output_type": "stream",
       "stream": "stdout",
       "text": [
        " GOOG/NASDAQ_SUTR\n",
        "Token XANwfFd9CmdoE3PdFzRg activated and saved for later use."
       ]
      },
      {
       "output_type": "stream",
       "stream": "stdout",
       "text": [
        "\n",
        "Token XANwfFd9CmdoE3PdFzRg activated and saved for later use."
       ]
      },
      {
       "output_type": "stream",
       "stream": "stdout",
       "text": [
        "\n",
        "Token XANwfFd9CmdoE3PdFzRg activated and saved for later use."
       ]
      },
      {
       "output_type": "stream",
       "stream": "stdout",
       "text": [
        "\n",
        "Returning Dataframe for "
       ]
      },
      {
       "output_type": "stream",
       "stream": "stdout",
       "text": [
        " GOOG/NASDAQ_NCTY\n",
        "Token XANwfFd9CmdoE3PdFzRg activated and saved for later use."
       ]
      },
      {
       "output_type": "stream",
       "stream": "stdout",
       "text": [
        "\n",
        "Returning Dataframe for "
       ]
      },
      {
       "output_type": "stream",
       "stream": "stdout",
       "text": [
        " GOOG/NASDAQ_THTI\n",
        "Token XANwfFd9CmdoE3PdFzRg activated and saved for later use.\n",
        "Returning Dataframe for "
       ]
      },
      {
       "output_type": "stream",
       "stream": "stdout",
       "text": [
        " GOOG/NASDAQ_OINK\n",
        "Token XANwfFd9CmdoE3PdFzRg activated and saved for later use.\n",
        "Token XANwfFd9CmdoE3PdFzRg activated and saved for later use."
       ]
      },
      {
       "output_type": "stream",
       "stream": "stdout",
       "text": [
        "\n",
        "Token XANwfFd9CmdoE3PdFzRg activated and saved for later use."
       ]
      },
      {
       "output_type": "stream",
       "stream": "stdout",
       "text": [
        "\n",
        "Token XANwfFd9CmdoE3PdFzRg activated and saved for later use."
       ]
      },
      {
       "output_type": "stream",
       "stream": "stdout",
       "text": [
        "\n",
        "Returning Dataframe for "
       ]
      },
      {
       "output_type": "stream",
       "stream": "stdout",
       "text": [
        " GOOG/NASDAQ_UTSI\n",
        "Token XANwfFd9CmdoE3PdFzRg activated and saved for later use."
       ]
      },
      {
       "output_type": "stream",
       "stream": "stdout",
       "text": [
        "\n",
        "Returning Dataframe for "
       ]
      },
      {
       "output_type": "stream",
       "stream": "stdout",
       "text": [
        " GOOG/NASDAQ_VIEW\n",
        "Token XANwfFd9CmdoE3PdFzRg activated and saved for later use."
       ]
      },
      {
       "output_type": "stream",
       "stream": "stdout",
       "text": [
        "\n",
        "Returning Dataframe for "
       ]
      },
      {
       "output_type": "stream",
       "stream": "stdout",
       "text": [
        " GOOG/NASDAQ_VIMC\n",
        "Token XANwfFd9CmdoE3PdFzRg activated and saved for later use."
       ]
      },
      {
       "output_type": "stream",
       "stream": "stdout",
       "text": [
        "\n",
        "Returning Dataframe for "
       ]
      },
      {
       "output_type": "stream",
       "stream": "stdout",
       "text": [
        " GOOG/NASDAQ_VISN\n",
        "Token XANwfFd9CmdoE3PdFzRg activated and saved for later use."
       ]
      },
      {
       "output_type": "stream",
       "stream": "stdout",
       "text": [
        "\n",
        "Token XANwfFd9CmdoE3PdFzRg activated and saved for later use."
       ]
      },
      {
       "output_type": "stream",
       "stream": "stdout",
       "text": [
        "\n",
        "Token XANwfFd9CmdoE3PdFzRg activated and saved for later use."
       ]
      },
      {
       "output_type": "stream",
       "stream": "stdout",
       "text": [
        "\n",
        "Token XANwfFd9CmdoE3PdFzRg activated and saved for later use."
       ]
      },
      {
       "output_type": "stream",
       "stream": "stdout",
       "text": [
        "\n",
        "Returning Dataframe for "
       ]
      },
      {
       "output_type": "stream",
       "stream": "stdout",
       "text": [
        " GOOG/NASDAQ_YONG\n",
        "Token XANwfFd9CmdoE3PdFzRg activated and saved for later use.\n",
        "Token XANwfFd9CmdoE3PdFzRg activated and saved for later use."
       ]
      },
      {
       "output_type": "stream",
       "stream": "stdout",
       "text": [
        "\n",
        "Returning Dataframe for "
       ]
      },
      {
       "output_type": "stream",
       "stream": "stdout",
       "text": [
        " GOOG/NASDAQ_YY\n",
        "86\n",
        "31\n"
       ]
      }
     ],
     "prompt_number": 10
    },
    {
     "cell_type": "code",
     "collapsed": false,
     "input": [
      "print len(FAILED_COMPANY), len(SUCCESS_COMPANY),\n",
      "set1 = set(FAILED_COMPANY)\n",
      "set2 = set(SUCCESS_COMPANY)\n",
      "set3 = set1.union(set2)\n",
      "print set(company_code).difference(set3)"
     ],
     "language": "python",
     "metadata": {},
     "outputs": [
      {
       "output_type": "stream",
       "stream": "stdout",
       "text": [
        "31 86 set(['ZOOM'])\n"
       ]
      }
     ],
     "prompt_number": 29
    },
    {
     "cell_type": "code",
     "collapsed": false,
     "input": [
      "i_code = 'ZOOM'\n",
      "quandl_code = \"GOOG/NASDAQ_\" + i_code\n",
      "i_data = Quandl.get(quandl_code, trim_start=START_DATE, authtoken=\"XANwfFd9CmdoE3PdFzRg\")"
     ],
     "language": "python",
     "metadata": {},
     "outputs": [
      {
       "output_type": "stream",
       "stream": "stdout",
       "text": [
        "Token XANwfFd9CmdoE3PdFzRg activated and saved for later use.\n",
        "Returning Dataframe for "
       ]
      },
      {
       "output_type": "stream",
       "stream": "stdout",
       "text": [
        " GOOG/NASDAQ_ZOOM\n"
       ]
      }
     ],
     "prompt_number": 32
    },
    {
     "cell_type": "code",
     "collapsed": false,
     "input": [
      "NUM_DOWNLOADED = NUM_DOWNLOADED + 1\n",
      "i_data.to_csv(i_code + '.csv')\n",
      "SUCCESS_COMPANY.append(i_code)\n"
     ],
     "language": "python",
     "metadata": {},
     "outputs": [],
     "prompt_number": 33
    },
    {
     "cell_type": "code",
     "collapsed": false,
     "input": [
      "len(company_list.loc[FAILED_COMPANY,:])"
     ],
     "language": "python",
     "metadata": {},
     "outputs": [
      {
       "metadata": {},
       "output_type": "pyout",
       "prompt_number": 36,
       "text": [
        "31"
       ]
      }
     ],
     "prompt_number": 36
    },
    {
     "cell_type": "code",
     "collapsed": false,
     "input": [
      "failed_downloaded_companies = company_list.loc[FAILED_COMPANY,:]\n",
      "failed_downloaded_companies.to_csv('failed_downloaded_companies.csv')"
     ],
     "language": "python",
     "metadata": {},
     "outputs": [],
     "prompt_number": 39
    },
    {
     "cell_type": "code",
     "collapsed": false,
     "input": [
      "failed_company = pd.read_csv('failed_downloaded_companies.csv', index_col=0) # double check\n",
      "failed_company"
     ],
     "language": "python",
     "metadata": {},
     "outputs": [
      {
       "html": [
        "<div style=\"max-height:1000px;max-width:1500px;overflow:auto;\">\n",
        "<table border=\"1\" class=\"dataframe\">\n",
        "  <thead>\n",
        "    <tr style=\"text-align: right;\">\n",
        "      <th></th>\n",
        "      <th>Name</th>\n",
        "      <th>LastSale</th>\n",
        "      <th>MarketCap</th>\n",
        "      <th>ADR TSO</th>\n",
        "      <th>Country</th>\n",
        "      <th>IPOyear</th>\n",
        "      <th>Sector</th>\n",
        "      <th>Industry</th>\n",
        "      <th>Summary Quote</th>\n",
        "      <th>Unnamed: 10</th>\n",
        "    </tr>\n",
        "  </thead>\n",
        "  <tbody>\n",
        "    <tr>\n",
        "      <th>ACH</th>\n",
        "      <td>            Aluminum Corporation of China Limited</td>\n",
        "      <td>   9.0900</td>\n",
        "      <td> 4.917504e+09</td>\n",
        "      <td> n/a</td>\n",
        "      <td> China</td>\n",
        "      <td> 2001</td>\n",
        "      <td>      Basic Industries</td>\n",
        "      <td>                                          Aluminum</td>\n",
        "      <td>  http://www.nasdaq.com/symbol/ach</td>\n",
        "      <td>NaN</td>\n",
        "    </tr>\n",
        "    <tr>\n",
        "      <th>ALN</th>\n",
        "      <td>                      American Lorain Corporation</td>\n",
        "      <td>   1.1490</td>\n",
        "      <td> 3.977460e+07</td>\n",
        "      <td> n/a</td>\n",
        "      <td> China</td>\n",
        "      <td>  n/a</td>\n",
        "      <td> Consumer Non-Durables</td>\n",
        "      <td>                                    Packaged Foods</td>\n",
        "      <td>  http://www.nasdaq.com/symbol/aln</td>\n",
        "      <td>NaN</td>\n",
        "    </tr>\n",
        "    <tr>\n",
        "      <th>CCSC</th>\n",
        "      <td> Country Style Cooking Restaurant Chain Co., Ltd.</td>\n",
        "      <td>   8.9900</td>\n",
        "      <td> 2.394615e+08</td>\n",
        "      <td> n/a</td>\n",
        "      <td> China</td>\n",
        "      <td> 2010</td>\n",
        "      <td>     Consumer Services</td>\n",
        "      <td>                                       Restaurants</td>\n",
        "      <td> http://www.nasdaq.com/symbol/ccsc</td>\n",
        "      <td>NaN</td>\n",
        "    </tr>\n",
        "    <tr>\n",
        "      <th>CEA</th>\n",
        "      <td>          China Eastern Airlines Corporation Ltd.</td>\n",
        "      <td>  15.3600</td>\n",
        "      <td> 3.893535e+09</td>\n",
        "      <td> n/a</td>\n",
        "      <td> China</td>\n",
        "      <td> 1997</td>\n",
        "      <td>        Transportation</td>\n",
        "      <td>                     Air Freight/Delivery Services</td>\n",
        "      <td>  http://www.nasdaq.com/symbol/cea</td>\n",
        "      <td>NaN</td>\n",
        "    </tr>\n",
        "    <tr>\n",
        "      <th>CGA</th>\n",
        "      <td>                    China Green Agriculture, Inc.</td>\n",
        "      <td>   2.3400</td>\n",
        "      <td> 7.448072e+07</td>\n",
        "      <td> n/a</td>\n",
        "      <td> China</td>\n",
        "      <td>  n/a</td>\n",
        "      <td>      Basic Industries</td>\n",
        "      <td>                            Agricultural Chemicals</td>\n",
        "      <td>  http://www.nasdaq.com/symbol/cga</td>\n",
        "      <td>NaN</td>\n",
        "    </tr>\n",
        "    <tr>\n",
        "      <th>CPHI</th>\n",
        "      <td>                      China Pharma Holdings, Inc.</td>\n",
        "      <td>   0.4200</td>\n",
        "      <td> 1.830341e+07</td>\n",
        "      <td> n/a</td>\n",
        "      <td> China</td>\n",
        "      <td>  n/a</td>\n",
        "      <td>           Health Care</td>\n",
        "      <td>                             Major Pharmaceuticals</td>\n",
        "      <td> http://www.nasdaq.com/symbol/cphi</td>\n",
        "      <td>NaN</td>\n",
        "    </tr>\n",
        "    <tr>\n",
        "      <th>DANG</th>\n",
        "      <td>                   E-Commerce China Dangdang Inc.</td>\n",
        "      <td>  10.3900</td>\n",
        "      <td> 8.377681e+08</td>\n",
        "      <td> n/a</td>\n",
        "      <td> China</td>\n",
        "      <td> 2010</td>\n",
        "      <td>     Consumer Services</td>\n",
        "      <td>                            Other Specialty Stores</td>\n",
        "      <td> http://www.nasdaq.com/symbol/dang</td>\n",
        "      <td>NaN</td>\n",
        "    </tr>\n",
        "    <tr>\n",
        "      <th>EVK</th>\n",
        "      <td>             Ever-Glory International Group, Inc.</td>\n",
        "      <td>   5.3700</td>\n",
        "      <td> 7.937526e+07</td>\n",
        "      <td> n/a</td>\n",
        "      <td> China</td>\n",
        "      <td>  n/a</td>\n",
        "      <td> Consumer Non-Durables</td>\n",
        "      <td>                                           Apparel</td>\n",
        "      <td>  http://www.nasdaq.com/symbol/evk</td>\n",
        "      <td>NaN</td>\n",
        "    </tr>\n",
        "    <tr>\n",
        "      <th>GSH</th>\n",
        "      <td>                Guangshen Railway Company Limited</td>\n",
        "      <td>  18.5800</td>\n",
        "      <td> 2.632242e+09</td>\n",
        "      <td> n/a</td>\n",
        "      <td> China</td>\n",
        "      <td>  n/a</td>\n",
        "      <td>        Transportation</td>\n",
        "      <td>                                         Railroads</td>\n",
        "      <td>  http://www.nasdaq.com/symbol/gsh</td>\n",
        "      <td>NaN</td>\n",
        "    </tr>\n",
        "    <tr>\n",
        "      <th>GSI</th>\n",
        "      <td>                     General Steel Holdings, Inc.</td>\n",
        "      <td>   0.9501</td>\n",
        "      <td> 5.540479e+07</td>\n",
        "      <td> n/a</td>\n",
        "      <td> China</td>\n",
        "      <td>  n/a</td>\n",
        "      <td>         Capital Goods</td>\n",
        "      <td>                                    Steel/Iron Ore</td>\n",
        "      <td>  http://www.nasdaq.com/symbol/gsi</td>\n",
        "      <td>NaN</td>\n",
        "    </tr>\n",
        "    <tr>\n",
        "      <th>HNP</th>\n",
        "      <td>                Huaneng Power International, Inc.</td>\n",
        "      <td>  42.9400</td>\n",
        "      <td> 1.508845e+10</td>\n",
        "      <td> n/a</td>\n",
        "      <td> China</td>\n",
        "      <td> 1994</td>\n",
        "      <td>      Public Utilities</td>\n",
        "      <td>                       Electric Utilities: Central</td>\n",
        "      <td>  http://www.nasdaq.com/symbol/hnp</td>\n",
        "      <td>NaN</td>\n",
        "    </tr>\n",
        "    <tr>\n",
        "      <th>IDI</th>\n",
        "      <td>                                Tiger Media, Inc.</td>\n",
        "      <td>   0.9400</td>\n",
        "      <td> 3.346469e+07</td>\n",
        "      <td> n/a</td>\n",
        "      <td> China</td>\n",
        "      <td>  n/a</td>\n",
        "      <td>     Consumer Services</td>\n",
        "      <td>                                       Advertising</td>\n",
        "      <td>  http://www.nasdaq.com/symbol/idi</td>\n",
        "      <td>NaN</td>\n",
        "    </tr>\n",
        "    <tr>\n",
        "      <th>JD</th>\n",
        "      <td>                                     JD.com, Inc.</td>\n",
        "      <td>  26.5800</td>\n",
        "      <td> 3.633714e+10</td>\n",
        "      <td> n/a</td>\n",
        "      <td> China</td>\n",
        "      <td> 2014</td>\n",
        "      <td>     Consumer Services</td>\n",
        "      <td>                            Other Specialty Stores</td>\n",
        "      <td>   http://www.nasdaq.com/symbol/jd</td>\n",
        "      <td>NaN</td>\n",
        "    </tr>\n",
        "    <tr>\n",
        "      <th>KANG</th>\n",
        "      <td>                     iKang Healthcare Group, Inc.</td>\n",
        "      <td>  16.5000</td>\n",
        "      <td> 1.061510e+09</td>\n",
        "      <td> n/a</td>\n",
        "      <td> China</td>\n",
        "      <td> 2014</td>\n",
        "      <td>           Health Care</td>\n",
        "      <td>                          Medical/Nursing Services</td>\n",
        "      <td> http://www.nasdaq.com/symbol/kang</td>\n",
        "      <td>NaN</td>\n",
        "    </tr>\n",
        "    <tr>\n",
        "      <th>LFC</th>\n",
        "      <td>             China Life Insurance Company Limited</td>\n",
        "      <td>  41.1200</td>\n",
        "      <td> 7.748298e+10</td>\n",
        "      <td> n/a</td>\n",
        "      <td> China</td>\n",
        "      <td> 2003</td>\n",
        "      <td>               Finance</td>\n",
        "      <td>                                    Life Insurance</td>\n",
        "      <td>  http://www.nasdaq.com/symbol/lfc</td>\n",
        "      <td>NaN</td>\n",
        "    </tr>\n",
        "    <tr>\n",
        "      <th>NQ</th>\n",
        "      <td>                                   NQ Mobile Inc.</td>\n",
        "      <td>   9.3500</td>\n",
        "      <td> 4.987665e+08</td>\n",
        "      <td> n/a</td>\n",
        "      <td> China</td>\n",
        "      <td> 2011</td>\n",
        "      <td>            Technology</td>\n",
        "      <td>           Computer Software: Prepackaged Software</td>\n",
        "      <td>   http://www.nasdaq.com/symbol/nq</td>\n",
        "      <td>NaN</td>\n",
        "    </tr>\n",
        "    <tr>\n",
        "      <th>NTP</th>\n",
        "      <td>                            Nam Tai Property Inc.</td>\n",
        "      <td>   8.0500</td>\n",
        "      <td> 3.644455e+08</td>\n",
        "      <td> n/a</td>\n",
        "      <td> China</td>\n",
        "      <td>  n/a</td>\n",
        "      <td>         Capital Goods</td>\n",
        "      <td>                   Industrial Machinery/Components</td>\n",
        "      <td>  http://www.nasdaq.com/symbol/ntp</td>\n",
        "      <td>NaN</td>\n",
        "    </tr>\n",
        "    <tr>\n",
        "      <th>ONP</th>\n",
        "      <td>                               Orient Paper, Inc.</td>\n",
        "      <td>   2.3400</td>\n",
        "      <td> 4.388413e+07</td>\n",
        "      <td> n/a</td>\n",
        "      <td> China</td>\n",
        "      <td>  n/a</td>\n",
        "      <td>     Consumer Durables</td>\n",
        "      <td>                              Containers/Packaging</td>\n",
        "      <td>  http://www.nasdaq.com/symbol/onp</td>\n",
        "      <td>NaN</td>\n",
        "    </tr>\n",
        "    <tr>\n",
        "      <th>PTR</th>\n",
        "      <td>                       PetroChina Company Limited</td>\n",
        "      <td> 120.3500</td>\n",
        "      <td> 2.202657e+11</td>\n",
        "      <td> n/a</td>\n",
        "      <td> China</td>\n",
        "      <td>  n/a</td>\n",
        "      <td>                Energy</td>\n",
        "      <td>                              Oil &amp; Gas Production</td>\n",
        "      <td>  http://www.nasdaq.com/symbol/ptr</td>\n",
        "      <td>NaN</td>\n",
        "    </tr>\n",
        "    <tr>\n",
        "      <th>QUNR</th>\n",
        "      <td>                     Qunar Cayman Islands Limited</td>\n",
        "      <td>  24.0200</td>\n",
        "      <td> 2.739747e+09</td>\n",
        "      <td> n/a</td>\n",
        "      <td> China</td>\n",
        "      <td> 2013</td>\n",
        "      <td>         Miscellaneous</td>\n",
        "      <td>                                 Business Services</td>\n",
        "      <td> http://www.nasdaq.com/symbol/qunr</td>\n",
        "      <td>NaN</td>\n",
        "    </tr>\n",
        "    <tr>\n",
        "      <th>SHI</th>\n",
        "      <td>      SINOPEC Shangai Petrochemical Company, Ltd.</td>\n",
        "      <td>  25.5000</td>\n",
        "      <td> 2.754000e+09</td>\n",
        "      <td> n/a</td>\n",
        "      <td> China</td>\n",
        "      <td>  n/a</td>\n",
        "      <td>      Basic Industries</td>\n",
        "      <td>                                   Major Chemicals</td>\n",
        "      <td>  http://www.nasdaq.com/symbol/shi</td>\n",
        "      <td>NaN</td>\n",
        "    </tr>\n",
        "    <tr>\n",
        "      <th>SNP</th>\n",
        "      <td>           China Petroleum &amp; Chemical Corporation</td>\n",
        "      <td>  92.2000</td>\n",
        "      <td> 1.074732e+11</td>\n",
        "      <td> n/a</td>\n",
        "      <td> China</td>\n",
        "      <td>  n/a</td>\n",
        "      <td>                Energy</td>\n",
        "      <td>                          Integrated oil Companies</td>\n",
        "      <td>  http://www.nasdaq.com/symbol/snp</td>\n",
        "      <td>NaN</td>\n",
        "    </tr>\n",
        "    <tr>\n",
        "      <th>TAOM</th>\n",
        "      <td>                          Taomee Holdings Limited</td>\n",
        "      <td>   4.8800</td>\n",
        "      <td> 1.754923e+08</td>\n",
        "      <td> n/a</td>\n",
        "      <td> China</td>\n",
        "      <td> 2011</td>\n",
        "      <td>         Miscellaneous</td>\n",
        "      <td>                                 Business Services</td>\n",
        "      <td> http://www.nasdaq.com/symbol/taom</td>\n",
        "      <td>NaN</td>\n",
        "    </tr>\n",
        "    <tr>\n",
        "      <th>TEDU</th>\n",
        "      <td>                       Tarena International, Inc.</td>\n",
        "      <td>   9.9000</td>\n",
        "      <td> 5.015082e+08</td>\n",
        "      <td> n/a</td>\n",
        "      <td> China</td>\n",
        "      <td> 2014</td>\n",
        "      <td>     Consumer Services</td>\n",
        "      <td>                           Other Consumer Services</td>\n",
        "      <td> http://www.nasdaq.com/symbol/tedu</td>\n",
        "      <td>NaN</td>\n",
        "    </tr>\n",
        "    <tr>\n",
        "      <th>TOUR</th>\n",
        "      <td>                                Tuniu Corporation</td>\n",
        "      <td>  16.3000</td>\n",
        "      <td> 7.914171e+08</td>\n",
        "      <td> n/a</td>\n",
        "      <td> China</td>\n",
        "      <td> 2014</td>\n",
        "      <td>     Consumer Services</td>\n",
        "      <td>                           Transportation Services</td>\n",
        "      <td> http://www.nasdaq.com/symbol/tour</td>\n",
        "      <td>NaN</td>\n",
        "    </tr>\n",
        "    <tr>\n",
        "      <th>TPI</th>\n",
        "      <td>                 Tianyin Pharmaceutical Co., Inc.</td>\n",
        "      <td>   0.6800</td>\n",
        "      <td> 2.001430e+07</td>\n",
        "      <td> n/a</td>\n",
        "      <td> China</td>\n",
        "      <td>  n/a</td>\n",
        "      <td>           Health Care</td>\n",
        "      <td>                             Major Pharmaceuticals</td>\n",
        "      <td>  http://www.nasdaq.com/symbol/tpi</td>\n",
        "      <td>NaN</td>\n",
        "    </tr>\n",
        "    <tr>\n",
        "      <th>WB</th>\n",
        "      <td>                                Weibo Corporation</td>\n",
        "      <td>  18.5400</td>\n",
        "      <td> 3.710988e+09</td>\n",
        "      <td> n/a</td>\n",
        "      <td> China</td>\n",
        "      <td> 2014</td>\n",
        "      <td>            Technology</td>\n",
        "      <td>   Computer Software: Programming, Data Processing</td>\n",
        "      <td>   http://www.nasdaq.com/symbol/wb</td>\n",
        "      <td>NaN</td>\n",
        "    </tr>\n",
        "    <tr>\n",
        "      <th>YGE</th>\n",
        "      <td>      Yingli Green Energy Holding Company Limited</td>\n",
        "      <td>   2.8700</td>\n",
        "      <td> 4.499120e+08</td>\n",
        "      <td> n/a</td>\n",
        "      <td> China</td>\n",
        "      <td> 2007</td>\n",
        "      <td>            Technology</td>\n",
        "      <td>                                    Semiconductors</td>\n",
        "      <td>  http://www.nasdaq.com/symbol/yge</td>\n",
        "      <td>NaN</td>\n",
        "    </tr>\n",
        "    <tr>\n",
        "      <th>YOKU</th>\n",
        "      <td>                                 Youku Tudou Inc.</td>\n",
        "      <td>  19.0400</td>\n",
        "      <td> 3.206060e+09</td>\n",
        "      <td> n/a</td>\n",
        "      <td> China</td>\n",
        "      <td> 2010</td>\n",
        "      <td>            Technology</td>\n",
        "      <td> Radio And Television Broadcasting And Communic...</td>\n",
        "      <td> http://www.nasdaq.com/symbol/yoku</td>\n",
        "      <td>NaN</td>\n",
        "    </tr>\n",
        "    <tr>\n",
        "      <th>YZC</th>\n",
        "      <td>              Yanzhou Coal Mining Company Limited</td>\n",
        "      <td>   7.9900</td>\n",
        "      <td> 3.929802e+09</td>\n",
        "      <td> n/a</td>\n",
        "      <td> China</td>\n",
        "      <td> 1998</td>\n",
        "      <td>                Energy</td>\n",
        "      <td>                                       Coal Mining</td>\n",
        "      <td>  http://www.nasdaq.com/symbol/yzc</td>\n",
        "      <td>NaN</td>\n",
        "    </tr>\n",
        "    <tr>\n",
        "      <th>ZNH</th>\n",
        "      <td>          China Southern Airlines Company Limited</td>\n",
        "      <td>  14.6100</td>\n",
        "      <td> 2.868693e+09</td>\n",
        "      <td> n/a</td>\n",
        "      <td> China</td>\n",
        "      <td> 1997</td>\n",
        "      <td>        Transportation</td>\n",
        "      <td>                     Air Freight/Delivery Services</td>\n",
        "      <td>  http://www.nasdaq.com/symbol/znh</td>\n",
        "      <td>NaN</td>\n",
        "    </tr>\n",
        "  </tbody>\n",
        "</table>\n",
        "</div>"
       ],
       "metadata": {},
       "output_type": "pyout",
       "prompt_number": 40,
       "text": [
        "                                                  Name  LastSale  \\\n",
        "ACH              Aluminum Corporation of China Limited    9.0900   \n",
        "ALN                        American Lorain Corporation    1.1490   \n",
        "CCSC  Country Style Cooking Restaurant Chain Co., Ltd.    8.9900   \n",
        "CEA            China Eastern Airlines Corporation Ltd.   15.3600   \n",
        "CGA                      China Green Agriculture, Inc.    2.3400   \n",
        "CPHI                       China Pharma Holdings, Inc.    0.4200   \n",
        "DANG                    E-Commerce China Dangdang Inc.   10.3900   \n",
        "EVK               Ever-Glory International Group, Inc.    5.3700   \n",
        "GSH                  Guangshen Railway Company Limited   18.5800   \n",
        "GSI                       General Steel Holdings, Inc.    0.9501   \n",
        "HNP                  Huaneng Power International, Inc.   42.9400   \n",
        "IDI                                  Tiger Media, Inc.    0.9400   \n",
        "JD                                        JD.com, Inc.   26.5800   \n",
        "KANG                      iKang Healthcare Group, Inc.   16.5000   \n",
        "LFC               China Life Insurance Company Limited   41.1200   \n",
        "NQ                                      NQ Mobile Inc.    9.3500   \n",
        "NTP                              Nam Tai Property Inc.    8.0500   \n",
        "ONP                                 Orient Paper, Inc.    2.3400   \n",
        "PTR                         PetroChina Company Limited  120.3500   \n",
        "QUNR                      Qunar Cayman Islands Limited   24.0200   \n",
        "SHI        SINOPEC Shangai Petrochemical Company, Ltd.   25.5000   \n",
        "SNP             China Petroleum & Chemical Corporation   92.2000   \n",
        "TAOM                           Taomee Holdings Limited    4.8800   \n",
        "TEDU                        Tarena International, Inc.    9.9000   \n",
        "TOUR                                 Tuniu Corporation   16.3000   \n",
        "TPI                   Tianyin Pharmaceutical Co., Inc.    0.6800   \n",
        "WB                                   Weibo Corporation   18.5400   \n",
        "YGE        Yingli Green Energy Holding Company Limited    2.8700   \n",
        "YOKU                                  Youku Tudou Inc.   19.0400   \n",
        "YZC                Yanzhou Coal Mining Company Limited    7.9900   \n",
        "ZNH            China Southern Airlines Company Limited   14.6100   \n",
        "\n",
        "         MarketCap ADR TSO Country IPOyear                 Sector  \\\n",
        "ACH   4.917504e+09     n/a   China    2001       Basic Industries   \n",
        "ALN   3.977460e+07     n/a   China     n/a  Consumer Non-Durables   \n",
        "CCSC  2.394615e+08     n/a   China    2010      Consumer Services   \n",
        "CEA   3.893535e+09     n/a   China    1997         Transportation   \n",
        "CGA   7.448072e+07     n/a   China     n/a       Basic Industries   \n",
        "CPHI  1.830341e+07     n/a   China     n/a            Health Care   \n",
        "DANG  8.377681e+08     n/a   China    2010      Consumer Services   \n",
        "EVK   7.937526e+07     n/a   China     n/a  Consumer Non-Durables   \n",
        "GSH   2.632242e+09     n/a   China     n/a         Transportation   \n",
        "GSI   5.540479e+07     n/a   China     n/a          Capital Goods   \n",
        "HNP   1.508845e+10     n/a   China    1994       Public Utilities   \n",
        "IDI   3.346469e+07     n/a   China     n/a      Consumer Services   \n",
        "JD    3.633714e+10     n/a   China    2014      Consumer Services   \n",
        "KANG  1.061510e+09     n/a   China    2014            Health Care   \n",
        "LFC   7.748298e+10     n/a   China    2003                Finance   \n",
        "NQ    4.987665e+08     n/a   China    2011             Technology   \n",
        "NTP   3.644455e+08     n/a   China     n/a          Capital Goods   \n",
        "ONP   4.388413e+07     n/a   China     n/a      Consumer Durables   \n",
        "PTR   2.202657e+11     n/a   China     n/a                 Energy   \n",
        "QUNR  2.739747e+09     n/a   China    2013          Miscellaneous   \n",
        "SHI   2.754000e+09     n/a   China     n/a       Basic Industries   \n",
        "SNP   1.074732e+11     n/a   China     n/a                 Energy   \n",
        "TAOM  1.754923e+08     n/a   China    2011          Miscellaneous   \n",
        "TEDU  5.015082e+08     n/a   China    2014      Consumer Services   \n",
        "TOUR  7.914171e+08     n/a   China    2014      Consumer Services   \n",
        "TPI   2.001430e+07     n/a   China     n/a            Health Care   \n",
        "WB    3.710988e+09     n/a   China    2014             Technology   \n",
        "YGE   4.499120e+08     n/a   China    2007             Technology   \n",
        "YOKU  3.206060e+09     n/a   China    2010             Technology   \n",
        "YZC   3.929802e+09     n/a   China    1998                 Energy   \n",
        "ZNH   2.868693e+09     n/a   China    1997         Transportation   \n",
        "\n",
        "                                               Industry  \\\n",
        "ACH                                            Aluminum   \n",
        "ALN                                      Packaged Foods   \n",
        "CCSC                                        Restaurants   \n",
        "CEA                       Air Freight/Delivery Services   \n",
        "CGA                              Agricultural Chemicals   \n",
        "CPHI                              Major Pharmaceuticals   \n",
        "DANG                             Other Specialty Stores   \n",
        "EVK                                             Apparel   \n",
        "GSH                                           Railroads   \n",
        "GSI                                      Steel/Iron Ore   \n",
        "HNP                         Electric Utilities: Central   \n",
        "IDI                                         Advertising   \n",
        "JD                               Other Specialty Stores   \n",
        "KANG                           Medical/Nursing Services   \n",
        "LFC                                      Life Insurance   \n",
        "NQ              Computer Software: Prepackaged Software   \n",
        "NTP                     Industrial Machinery/Components   \n",
        "ONP                                Containers/Packaging   \n",
        "PTR                                Oil & Gas Production   \n",
        "QUNR                                  Business Services   \n",
        "SHI                                     Major Chemicals   \n",
        "SNP                            Integrated oil Companies   \n",
        "TAOM                                  Business Services   \n",
        "TEDU                            Other Consumer Services   \n",
        "TOUR                            Transportation Services   \n",
        "TPI                               Major Pharmaceuticals   \n",
        "WB      Computer Software: Programming, Data Processing   \n",
        "YGE                                      Semiconductors   \n",
        "YOKU  Radio And Television Broadcasting And Communic...   \n",
        "YZC                                         Coal Mining   \n",
        "ZNH                       Air Freight/Delivery Services   \n",
        "\n",
        "                          Summary Quote  Unnamed: 10  \n",
        "ACH    http://www.nasdaq.com/symbol/ach          NaN  \n",
        "ALN    http://www.nasdaq.com/symbol/aln          NaN  \n",
        "CCSC  http://www.nasdaq.com/symbol/ccsc          NaN  \n",
        "CEA    http://www.nasdaq.com/symbol/cea          NaN  \n",
        "CGA    http://www.nasdaq.com/symbol/cga          NaN  \n",
        "CPHI  http://www.nasdaq.com/symbol/cphi          NaN  \n",
        "DANG  http://www.nasdaq.com/symbol/dang          NaN  \n",
        "EVK    http://www.nasdaq.com/symbol/evk          NaN  \n",
        "GSH    http://www.nasdaq.com/symbol/gsh          NaN  \n",
        "GSI    http://www.nasdaq.com/symbol/gsi          NaN  \n",
        "HNP    http://www.nasdaq.com/symbol/hnp          NaN  \n",
        "IDI    http://www.nasdaq.com/symbol/idi          NaN  \n",
        "JD      http://www.nasdaq.com/symbol/jd          NaN  \n",
        "KANG  http://www.nasdaq.com/symbol/kang          NaN  \n",
        "LFC    http://www.nasdaq.com/symbol/lfc          NaN  \n",
        "NQ      http://www.nasdaq.com/symbol/nq          NaN  \n",
        "NTP    http://www.nasdaq.com/symbol/ntp          NaN  \n",
        "ONP    http://www.nasdaq.com/symbol/onp          NaN  \n",
        "PTR    http://www.nasdaq.com/symbol/ptr          NaN  \n",
        "QUNR  http://www.nasdaq.com/symbol/qunr          NaN  \n",
        "SHI    http://www.nasdaq.com/symbol/shi          NaN  \n",
        "SNP    http://www.nasdaq.com/symbol/snp          NaN  \n",
        "TAOM  http://www.nasdaq.com/symbol/taom          NaN  \n",
        "TEDU  http://www.nasdaq.com/symbol/tedu          NaN  \n",
        "TOUR  http://www.nasdaq.com/symbol/tour          NaN  \n",
        "TPI    http://www.nasdaq.com/symbol/tpi          NaN  \n",
        "WB      http://www.nasdaq.com/symbol/wb          NaN  \n",
        "YGE    http://www.nasdaq.com/symbol/yge          NaN  \n",
        "YOKU  http://www.nasdaq.com/symbol/yoku          NaN  \n",
        "YZC    http://www.nasdaq.com/symbol/yzc          NaN  \n",
        "ZNH    http://www.nasdaq.com/symbol/znh          NaN  "
       ]
      }
     ],
     "prompt_number": 40
    },
    {
     "cell_type": "code",
     "collapsed": false,
     "input": [
      "forex_usd_cny =  Quandl.get(\"QUANDL/USDARS\", trim_start=START_DATE, authtoken=\"XANwfFd9CmdoE3PdFzRg\");"
     ],
     "language": "python",
     "metadata": {},
     "outputs": [
      {
       "output_type": "stream",
       "stream": "stdout",
       "text": [
        "Token XANwfFd9CmdoE3PdFzRg activated and saved for later use.\n",
        "Returning Dataframe for "
       ]
      },
      {
       "output_type": "stream",
       "stream": "stdout",
       "text": [
        " QUANDL/USDARS\n"
       ]
      }
     ],
     "prompt_number": 41
    },
    {
     "cell_type": "code",
     "collapsed": false,
     "input": [
      "len(forex_usd_cny)"
     ],
     "language": "python",
     "metadata": {},
     "outputs": [
      {
       "metadata": {},
       "output_type": "pyout",
       "prompt_number": 42,
       "text": [
        "2461"
       ]
      }
     ],
     "prompt_number": 42
    },
    {
     "cell_type": "code",
     "collapsed": false,
     "input": [
      "forex_usd_cny"
     ],
     "language": "python",
     "metadata": {},
     "outputs": [
      {
       "html": [
        "<div style=\"max-height:1000px;max-width:1500px;overflow:auto;\">\n",
        "<table border=\"1\" class=\"dataframe\">\n",
        "  <thead>\n",
        "    <tr style=\"text-align: right;\">\n",
        "      <th></th>\n",
        "      <th>Rate</th>\n",
        "      <th>High (est)</th>\n",
        "      <th>Low (est)</th>\n",
        "    </tr>\n",
        "    <tr>\n",
        "      <th>Date</th>\n",
        "      <th></th>\n",
        "      <th></th>\n",
        "      <th></th>\n",
        "    </tr>\n",
        "  </thead>\n",
        "  <tbody>\n",
        "    <tr>\n",
        "      <th>2005-01-03</th>\n",
        "      <td> 2.97459</td>\n",
        "      <td> 0.0000</td>\n",
        "      <td> 0.0000</td>\n",
        "    </tr>\n",
        "    <tr>\n",
        "      <th>2005-01-04</th>\n",
        "      <td> 2.97165</td>\n",
        "      <td> 3.0057</td>\n",
        "      <td> 2.9380</td>\n",
        "    </tr>\n",
        "    <tr>\n",
        "      <th>2005-01-05</th>\n",
        "      <td> 2.96596</td>\n",
        "      <td> 3.0021</td>\n",
        "      <td> 2.9302</td>\n",
        "    </tr>\n",
        "    <tr>\n",
        "      <th>2005-01-06</th>\n",
        "      <td> 2.97140</td>\n",
        "      <td> 3.0076</td>\n",
        "      <td> 2.9357</td>\n",
        "    </tr>\n",
        "    <tr>\n",
        "      <th>2005-01-07</th>\n",
        "      <td> 2.96905</td>\n",
        "      <td> 0.0000</td>\n",
        "      <td> 0.0000</td>\n",
        "    </tr>\n",
        "    <tr>\n",
        "      <th>2005-01-10</th>\n",
        "      <td> 2.96317</td>\n",
        "      <td> 0.0000</td>\n",
        "      <td> 0.0000</td>\n",
        "    </tr>\n",
        "    <tr>\n",
        "      <th>2005-01-11</th>\n",
        "      <td> 2.96549</td>\n",
        "      <td> 3.0002</td>\n",
        "      <td> 2.9312</td>\n",
        "    </tr>\n",
        "    <tr>\n",
        "      <th>2005-01-12</th>\n",
        "      <td> 2.96264</td>\n",
        "      <td> 2.9994</td>\n",
        "      <td> 2.9263</td>\n",
        "    </tr>\n",
        "    <tr>\n",
        "      <th>2005-01-13</th>\n",
        "      <td> 2.95647</td>\n",
        "      <td> 2.9922</td>\n",
        "      <td> 2.9211</td>\n",
        "    </tr>\n",
        "    <tr>\n",
        "      <th>2005-01-14</th>\n",
        "      <td> 2.94601</td>\n",
        "      <td> 0.0000</td>\n",
        "      <td> 0.0000</td>\n",
        "    </tr>\n",
        "    <tr>\n",
        "      <th>2005-01-17</th>\n",
        "      <td> 2.93762</td>\n",
        "      <td> 2.9729</td>\n",
        "      <td> 2.9028</td>\n",
        "    </tr>\n",
        "    <tr>\n",
        "      <th>2005-01-18</th>\n",
        "      <td> 2.93632</td>\n",
        "      <td> 2.9727</td>\n",
        "      <td> 2.9004</td>\n",
        "    </tr>\n",
        "    <tr>\n",
        "      <th>2005-01-19</th>\n",
        "      <td> 2.93712</td>\n",
        "      <td> 0.0000</td>\n",
        "      <td> 0.0000</td>\n",
        "    </tr>\n",
        "    <tr>\n",
        "      <th>2005-01-20</th>\n",
        "      <td> 2.95454</td>\n",
        "      <td> 2.9887</td>\n",
        "      <td> 2.9208</td>\n",
        "    </tr>\n",
        "    <tr>\n",
        "      <th>2005-01-21</th>\n",
        "      <td> 2.95131</td>\n",
        "      <td> 2.9872</td>\n",
        "      <td> 2.9158</td>\n",
        "    </tr>\n",
        "    <tr>\n",
        "      <th>2005-01-24</th>\n",
        "      <td> 2.93327</td>\n",
        "      <td> 0.0000</td>\n",
        "      <td> 0.0000</td>\n",
        "    </tr>\n",
        "    <tr>\n",
        "      <th>2005-01-25</th>\n",
        "      <td> 2.92942</td>\n",
        "      <td> 2.9657</td>\n",
        "      <td> 2.8936</td>\n",
        "    </tr>\n",
        "    <tr>\n",
        "      <th>2005-01-26</th>\n",
        "      <td> 2.92250</td>\n",
        "      <td> 2.9561</td>\n",
        "      <td> 2.8893</td>\n",
        "    </tr>\n",
        "    <tr>\n",
        "      <th>2005-01-27</th>\n",
        "      <td> 2.92007</td>\n",
        "      <td> 2.9555</td>\n",
        "      <td> 2.8850</td>\n",
        "    </tr>\n",
        "    <tr>\n",
        "      <th>2005-01-28</th>\n",
        "      <td> 2.94863</td>\n",
        "      <td> 2.9827</td>\n",
        "      <td> 2.9150</td>\n",
        "    </tr>\n",
        "    <tr>\n",
        "      <th>2005-01-31</th>\n",
        "      <td> 2.93995</td>\n",
        "      <td> 2.9742</td>\n",
        "      <td> 2.9061</td>\n",
        "    </tr>\n",
        "    <tr>\n",
        "      <th>2005-02-01</th>\n",
        "      <td> 2.92366</td>\n",
        "      <td> 2.9586</td>\n",
        "      <td> 2.8892</td>\n",
        "    </tr>\n",
        "    <tr>\n",
        "      <th>2005-02-02</th>\n",
        "      <td> 2.92122</td>\n",
        "      <td> 2.9561</td>\n",
        "      <td> 2.8868</td>\n",
        "    </tr>\n",
        "    <tr>\n",
        "      <th>2005-02-03</th>\n",
        "      <td> 2.92502</td>\n",
        "      <td> 2.9610</td>\n",
        "      <td> 2.8895</td>\n",
        "    </tr>\n",
        "    <tr>\n",
        "      <th>2005-02-04</th>\n",
        "      <td> 2.92431</td>\n",
        "      <td> 2.9592</td>\n",
        "      <td> 2.8898</td>\n",
        "    </tr>\n",
        "    <tr>\n",
        "      <th>2005-02-07</th>\n",
        "      <td> 2.92649</td>\n",
        "      <td> 2.9607</td>\n",
        "      <td> 2.8927</td>\n",
        "    </tr>\n",
        "    <tr>\n",
        "      <th>2005-02-08</th>\n",
        "      <td> 2.92411</td>\n",
        "      <td> 2.9596</td>\n",
        "      <td> 2.8890</td>\n",
        "    </tr>\n",
        "    <tr>\n",
        "      <th>2005-02-09</th>\n",
        "      <td> 2.91898</td>\n",
        "      <td> 2.9525</td>\n",
        "      <td> 2.8858</td>\n",
        "    </tr>\n",
        "    <tr>\n",
        "      <th>2005-02-10</th>\n",
        "      <td> 2.91311</td>\n",
        "      <td> 2.9461</td>\n",
        "      <td> 2.8805</td>\n",
        "    </tr>\n",
        "    <tr>\n",
        "      <th>2005-02-11</th>\n",
        "      <td> 2.91018</td>\n",
        "      <td> 2.9450</td>\n",
        "      <td> 2.8758</td>\n",
        "    </tr>\n",
        "    <tr>\n",
        "      <th>...</th>\n",
        "      <td>...</td>\n",
        "      <td>...</td>\n",
        "      <td>...</td>\n",
        "    </tr>\n",
        "    <tr>\n",
        "      <th>2014-04-29</th>\n",
        "      <td> 8.00131</td>\n",
        "      <td> 0.0000</td>\n",
        "      <td> 0.0000</td>\n",
        "    </tr>\n",
        "    <tr>\n",
        "      <th>2014-04-30</th>\n",
        "      <td> 8.00149</td>\n",
        "      <td> 8.0956</td>\n",
        "      <td> 7.9085</td>\n",
        "    </tr>\n",
        "    <tr>\n",
        "      <th>2014-05-01</th>\n",
        "      <td> 8.00149</td>\n",
        "      <td> 0.0000</td>\n",
        "      <td> 0.0000</td>\n",
        "    </tr>\n",
        "    <tr>\n",
        "      <th>2014-05-02</th>\n",
        "      <td> 7.99652</td>\n",
        "      <td> 8.0894</td>\n",
        "      <td> 7.9047</td>\n",
        "    </tr>\n",
        "    <tr>\n",
        "      <th>2014-05-05</th>\n",
        "      <td> 7.99638</td>\n",
        "      <td> 8.0885</td>\n",
        "      <td> 7.9053</td>\n",
        "    </tr>\n",
        "    <tr>\n",
        "      <th>2014-05-06</th>\n",
        "      <td> 7.99881</td>\n",
        "      <td> 0.0000</td>\n",
        "      <td> 0.0000</td>\n",
        "    </tr>\n",
        "    <tr>\n",
        "      <th>2014-05-07</th>\n",
        "      <td> 8.00062</td>\n",
        "      <td> 0.0000</td>\n",
        "      <td> 0.0000</td>\n",
        "    </tr>\n",
        "    <tr>\n",
        "      <th>2014-05-08</th>\n",
        "      <td> 8.00159</td>\n",
        "      <td> 8.0911</td>\n",
        "      <td> 7.9131</td>\n",
        "    </tr>\n",
        "    <tr>\n",
        "      <th>2014-05-09</th>\n",
        "      <td> 8.00133</td>\n",
        "      <td> 8.0903</td>\n",
        "      <td> 7.9134</td>\n",
        "    </tr>\n",
        "    <tr>\n",
        "      <th>2014-05-12</th>\n",
        "      <td> 8.00166</td>\n",
        "      <td> 0.0000</td>\n",
        "      <td> 0.0000</td>\n",
        "    </tr>\n",
        "    <tr>\n",
        "      <th>2014-05-13</th>\n",
        "      <td> 8.00386</td>\n",
        "      <td> 0.0000</td>\n",
        "      <td> 0.0000</td>\n",
        "    </tr>\n",
        "    <tr>\n",
        "      <th>2014-05-14</th>\n",
        "      <td> 8.01143</td>\n",
        "      <td> 8.1113</td>\n",
        "      <td> 7.9128</td>\n",
        "    </tr>\n",
        "    <tr>\n",
        "      <th>2014-05-15</th>\n",
        "      <td> 8.02041</td>\n",
        "      <td> 0.0000</td>\n",
        "      <td> 0.0000</td>\n",
        "    </tr>\n",
        "    <tr>\n",
        "      <th>2014-05-16</th>\n",
        "      <td> 8.02797</td>\n",
        "      <td> 0.0000</td>\n",
        "      <td> 0.0000</td>\n",
        "    </tr>\n",
        "    <tr>\n",
        "      <th>2014-05-19</th>\n",
        "      <td> 8.04612</td>\n",
        "      <td> 0.0000</td>\n",
        "      <td> 0.0000</td>\n",
        "    </tr>\n",
        "    <tr>\n",
        "      <th>2014-05-20</th>\n",
        "      <td> 8.05732</td>\n",
        "      <td> 0.0000</td>\n",
        "      <td> 0.0000</td>\n",
        "    </tr>\n",
        "    <tr>\n",
        "      <th>2014-05-21</th>\n",
        "      <td> 8.06187</td>\n",
        "      <td> 8.1605</td>\n",
        "      <td> 7.9645</td>\n",
        "    </tr>\n",
        "    <tr>\n",
        "      <th>2014-05-22</th>\n",
        "      <td> 8.06139</td>\n",
        "      <td> 0.0000</td>\n",
        "      <td> 0.0000</td>\n",
        "    </tr>\n",
        "    <tr>\n",
        "      <th>2014-05-23</th>\n",
        "      <td> 8.06024</td>\n",
        "      <td> 8.1550</td>\n",
        "      <td> 7.9666</td>\n",
        "    </tr>\n",
        "    <tr>\n",
        "      <th>2014-05-26</th>\n",
        "      <td> 8.06013</td>\n",
        "      <td> 0.0000</td>\n",
        "      <td> 0.0000</td>\n",
        "    </tr>\n",
        "    <tr>\n",
        "      <th>2014-05-27</th>\n",
        "      <td> 8.06105</td>\n",
        "      <td> 0.0000</td>\n",
        "      <td> 0.0000</td>\n",
        "    </tr>\n",
        "    <tr>\n",
        "      <th>2014-05-28</th>\n",
        "      <td> 8.06345</td>\n",
        "      <td> 0.0000</td>\n",
        "      <td> 0.0000</td>\n",
        "    </tr>\n",
        "    <tr>\n",
        "      <th>2014-05-29</th>\n",
        "      <td> 8.06573</td>\n",
        "      <td> 0.0000</td>\n",
        "      <td> 0.0000</td>\n",
        "    </tr>\n",
        "    <tr>\n",
        "      <th>2014-05-30</th>\n",
        "      <td> 8.07137</td>\n",
        "      <td> 0.0000</td>\n",
        "      <td> 0.0000</td>\n",
        "    </tr>\n",
        "    <tr>\n",
        "      <th>2014-06-02</th>\n",
        "      <td> 8.07735</td>\n",
        "      <td> 8.1778</td>\n",
        "      <td> 7.9782</td>\n",
        "    </tr>\n",
        "    <tr>\n",
        "      <th>2014-06-03</th>\n",
        "      <td> 8.08030</td>\n",
        "      <td> 8.1759</td>\n",
        "      <td> 7.9858</td>\n",
        "    </tr>\n",
        "    <tr>\n",
        "      <th>2014-06-04</th>\n",
        "      <td> 8.08244</td>\n",
        "      <td> 0.0000</td>\n",
        "      <td> 0.0000</td>\n",
        "    </tr>\n",
        "    <tr>\n",
        "      <th>2014-06-05</th>\n",
        "      <td> 8.09172</td>\n",
        "      <td> 0.0000</td>\n",
        "      <td> 0.0000</td>\n",
        "    </tr>\n",
        "    <tr>\n",
        "      <th>2014-06-06</th>\n",
        "      <td> 8.10545</td>\n",
        "      <td> 8.2008</td>\n",
        "      <td> 8.0112</td>\n",
        "    </tr>\n",
        "    <tr>\n",
        "      <th>2014-06-09</th>\n",
        "      <td> 8.13114</td>\n",
        "      <td> 8.2309</td>\n",
        "      <td> 8.0326</td>\n",
        "    </tr>\n",
        "  </tbody>\n",
        "</table>\n",
        "<p>2461 rows \u00d7 3 columns</p>\n",
        "</div>"
       ],
       "metadata": {},
       "output_type": "pyout",
       "prompt_number": 43,
       "text": [
        "               Rate  High (est)  Low (est)\n",
        "Date                                      \n",
        "2005-01-03  2.97459      0.0000     0.0000\n",
        "2005-01-04  2.97165      3.0057     2.9380\n",
        "2005-01-05  2.96596      3.0021     2.9302\n",
        "2005-01-06  2.97140      3.0076     2.9357\n",
        "2005-01-07  2.96905      0.0000     0.0000\n",
        "2005-01-10  2.96317      0.0000     0.0000\n",
        "2005-01-11  2.96549      3.0002     2.9312\n",
        "2005-01-12  2.96264      2.9994     2.9263\n",
        "2005-01-13  2.95647      2.9922     2.9211\n",
        "2005-01-14  2.94601      0.0000     0.0000\n",
        "2005-01-17  2.93762      2.9729     2.9028\n",
        "2005-01-18  2.93632      2.9727     2.9004\n",
        "2005-01-19  2.93712      0.0000     0.0000\n",
        "2005-01-20  2.95454      2.9887     2.9208\n",
        "2005-01-21  2.95131      2.9872     2.9158\n",
        "2005-01-24  2.93327      0.0000     0.0000\n",
        "2005-01-25  2.92942      2.9657     2.8936\n",
        "2005-01-26  2.92250      2.9561     2.8893\n",
        "2005-01-27  2.92007      2.9555     2.8850\n",
        "2005-01-28  2.94863      2.9827     2.9150\n",
        "2005-01-31  2.93995      2.9742     2.9061\n",
        "2005-02-01  2.92366      2.9586     2.8892\n",
        "2005-02-02  2.92122      2.9561     2.8868\n",
        "2005-02-03  2.92502      2.9610     2.8895\n",
        "2005-02-04  2.92431      2.9592     2.8898\n",
        "2005-02-07  2.92649      2.9607     2.8927\n",
        "2005-02-08  2.92411      2.9596     2.8890\n",
        "2005-02-09  2.91898      2.9525     2.8858\n",
        "2005-02-10  2.91311      2.9461     2.8805\n",
        "2005-02-11  2.91018      2.9450     2.8758\n",
        "...             ...         ...        ...\n",
        "2014-04-29  8.00131      0.0000     0.0000\n",
        "2014-04-30  8.00149      8.0956     7.9085\n",
        "2014-05-01  8.00149      0.0000     0.0000\n",
        "2014-05-02  7.99652      8.0894     7.9047\n",
        "2014-05-05  7.99638      8.0885     7.9053\n",
        "2014-05-06  7.99881      0.0000     0.0000\n",
        "2014-05-07  8.00062      0.0000     0.0000\n",
        "2014-05-08  8.00159      8.0911     7.9131\n",
        "2014-05-09  8.00133      8.0903     7.9134\n",
        "2014-05-12  8.00166      0.0000     0.0000\n",
        "2014-05-13  8.00386      0.0000     0.0000\n",
        "2014-05-14  8.01143      8.1113     7.9128\n",
        "2014-05-15  8.02041      0.0000     0.0000\n",
        "2014-05-16  8.02797      0.0000     0.0000\n",
        "2014-05-19  8.04612      0.0000     0.0000\n",
        "2014-05-20  8.05732      0.0000     0.0000\n",
        "2014-05-21  8.06187      8.1605     7.9645\n",
        "2014-05-22  8.06139      0.0000     0.0000\n",
        "2014-05-23  8.06024      8.1550     7.9666\n",
        "2014-05-26  8.06013      0.0000     0.0000\n",
        "2014-05-27  8.06105      0.0000     0.0000\n",
        "2014-05-28  8.06345      0.0000     0.0000\n",
        "2014-05-29  8.06573      0.0000     0.0000\n",
        "2014-05-30  8.07137      0.0000     0.0000\n",
        "2014-06-02  8.07735      8.1778     7.9782\n",
        "2014-06-03  8.08030      8.1759     7.9858\n",
        "2014-06-04  8.08244      0.0000     0.0000\n",
        "2014-06-05  8.09172      0.0000     0.0000\n",
        "2014-06-06  8.10545      8.2008     8.0112\n",
        "2014-06-09  8.13114      8.2309     8.0326\n",
        "\n",
        "[2461 rows x 3 columns]"
       ]
      }
     ],
     "prompt_number": 43
    },
    {
     "cell_type": "code",
     "collapsed": false,
     "input": [
      "forex_usd_cny.to_csv('forex_usd_cny.csv')"
     ],
     "language": "python",
     "metadata": {},
     "outputs": [],
     "prompt_number": 48
    },
    {
     "cell_type": "code",
     "collapsed": false,
     "input": [
      "SUCCESS_COMPANY"
     ],
     "language": "python",
     "metadata": {},
     "outputs": [
      {
       "metadata": {},
       "output_type": "pyout",
       "prompt_number": 49,
       "text": [
        "['VNET',\n",
        " 'JOBS',\n",
        " 'ACTS',\n",
        " 'AMCN',\n",
        " 'AMCF',\n",
        " 'ATAI',\n",
        " 'AMAP',\n",
        " 'BIDU',\n",
        " 'BSPM',\n",
        " 'BONA',\n",
        " 'CSIQ',\n",
        " 'CYOU',\n",
        " 'CHRM',\n",
        " 'CADC',\n",
        " 'CALI',\n",
        " 'CAAS',\n",
        " 'CBAK',\n",
        " 'CBPO',\n",
        " 'CCCL',\n",
        " 'CCCR',\n",
        " 'JRJC',\n",
        " 'CHOP',\n",
        " 'HGSH',\n",
        " 'CHLN',\n",
        " 'CNIT',\n",
        " 'CJJD',\n",
        " 'HTHT',\n",
        " 'CREG',\n",
        " 'CPGI',\n",
        " 'CSUN',\n",
        " 'CNTF',\n",
        " 'CXDC',\n",
        " 'CNYD',\n",
        " 'CCIH',\n",
        " 'CNET',\n",
        " 'CLNT',\n",
        " 'CISG',\n",
        " 'CTRP',\n",
        " 'DHRM',\n",
        " 'EFUT',\n",
        " 'LONG',\n",
        " 'FFHL',\n",
        " 'GPRC',\n",
        " 'GURE',\n",
        " 'HSOL',\n",
        " 'HOLI',\n",
        " 'HMIN',\n",
        " 'JASO',\n",
        " 'DATE',\n",
        " 'JST',\n",
        " 'KNDI',\n",
        " 'KGJI',\n",
        " 'KONE',\n",
        " 'KONG',\n",
        " 'KUTV',\n",
        " 'LIWA',\n",
        " 'MCOX',\n",
        " 'MONT',\n",
        " 'NTES',\n",
        " 'NFEC',\n",
        " 'OSN',\n",
        " 'PWRD',\n",
        " 'PME',\n",
        " 'QKLS',\n",
        " 'RCON',\n",
        " 'SGOC',\n",
        " 'GAME',\n",
        " 'SINA',\n",
        " 'SCOK',\n",
        " 'SVA',\n",
        " 'MOBI',\n",
        " 'SPU',\n",
        " 'SKBI',\n",
        " 'SOHU',\n",
        " 'SORL',\n",
        " 'GOMO',\n",
        " 'SUTR',\n",
        " 'NCTY',\n",
        " 'THTI',\n",
        " 'OINK',\n",
        " 'UTSI',\n",
        " 'VIEW',\n",
        " 'VIMC',\n",
        " 'VISN',\n",
        " 'YONG',\n",
        " 'YY',\n",
        " 'ZOOM']"
       ]
      }
     ],
     "prompt_number": 49
    },
    {
     "cell_type": "code",
     "collapsed": false,
     "input": [
      "successfully_downloaded_companies = company_list.loc[SUCCESS_COMPANY,:]\n",
      "successfully_downloaded_companies.to_csv('successfully_downloaded_companies.csv')"
     ],
     "language": "python",
     "metadata": {},
     "outputs": [],
     "prompt_number": 50
    },
    {
     "cell_type": "code",
     "collapsed": false,
     "input": [
      "len(successfully_downloaded_companies)"
     ],
     "language": "python",
     "metadata": {},
     "outputs": [
      {
       "metadata": {},
       "output_type": "pyout",
       "prompt_number": 51,
       "text": [
        "87"
       ]
      }
     ],
     "prompt_number": 51
    },
    {
     "cell_type": "code",
     "collapsed": false,
     "input": [
      "len(failed_downloaded_companies)"
     ],
     "language": "python",
     "metadata": {},
     "outputs": [
      {
       "metadata": {},
       "output_type": "pyout",
       "prompt_number": 52,
       "text": [
        "31"
       ]
      }
     ],
     "prompt_number": 52
    },
    {
     "cell_type": "code",
     "collapsed": false,
     "input": [
      "!ls -l"
     ],
     "language": "python",
     "metadata": {},
     "outputs": [],
     "prompt_number": 54
    },
    {
     "cell_type": "code",
     "collapsed": false,
     "input": [],
     "language": "python",
     "metadata": {},
     "outputs": []
    }
   ],
   "metadata": {}
  }
 ]
}