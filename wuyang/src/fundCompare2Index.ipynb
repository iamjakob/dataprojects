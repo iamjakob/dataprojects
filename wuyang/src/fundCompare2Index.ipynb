{
 "metadata": {
  "name": "",
  "signature": "sha256:5c9cdce421761622efe7cff9f930d61f5e43cfe1559816180b0a8b5458ebb88a"
 },
 "nbformat": 3,
 "nbformat_minor": 0,
 "worksheets": [
  {
   "cells": [
    {
     "cell_type": "code",
     "collapsed": false,
     "input": [
      "def fundCompare2Index(fund_code, index_code, start_date, scale_factor=1):\n",
      "    # This function compares the track of a stock index with a fund that tracks it\n",
      "    # The relative difference (fund-index)/index will be returned\n",
      "    # A historgram will be ploted about the relative difference\n",
      "    # Note: input codes are for data pull from Quandl\n",
      "    import Quandl\n",
      "    import pandas as pd\n",
      "    import matplotlib.pyplot as plt\n",
      "    index_data = Quandl.get(index_code, trim_start=start_date, authtoken=\"XANwfFd9CmdoE3PdFzRg\")\n",
      "    fund_data = Quandl.get(fund_code, trim_start=start_date, authtoken=\"XANwfFd9CmdoE3PdFzRg\")\n",
      "    \n",
      "    index_data.columns = map(''.join, zip([index_code+'_']*index_data.shape[1], list(index_data.columns))) # rename the columns with index_code as prefix\n",
      "    fund_data.columns = map(''.join, zip([fund_code+'_']*fund_data.shape[1], list(fund_data.columns))) # rename the columns with fund_code as prefix    \n",
      "\n",
      "    fund_and_index = pd.concat([fund_data, index_data], axis=1, join='inner')\n",
      "    # percentage difference between fund and index    \n",
      "    # NOTICE: there's a 10x difference between sp500 index and the price of fund\n",
      "    diff_pcg = (fund_and_index[fund_code+'_'+\"Close\"] - (fund_and_index[index_code+'_'+\"Adjusted Close\"]/scale_factor))/(fund_and_index[index_code+'_'+\"Adjusted Close\"]/scale_factor)\n",
      "    plt.hist(diff_pcg, alpha = 0.5)\n",
      "    plt.grid()\n",
      "    plt.show()\n",
      "    \n",
      "    return diff_pcg, fund_and_index"
     ],
     "language": "python",
     "metadata": {},
     "outputs": [],
     "prompt_number": 1
    },
    {
     "cell_type": "code",
     "collapsed": false,
     "input": [
      "index_code = \"YAHOO/INDEX_GSPC\"\n",
      "fund_code = \"GOOG/AMEX_VOO\"\n",
      "start_date = \"2005-01-01\"\n",
      "scale_factor = 10"
     ],
     "language": "python",
     "metadata": {},
     "outputs": [],
     "prompt_number": 5
    },
    {
     "cell_type": "code",
     "collapsed": false,
     "input": [
      "diff_pcg_voo2sp500, fund_and_index_voo2sp500 = fundCompare2Index(fund_code, index_code, start_date, scale_factor)"
     ],
     "language": "python",
     "metadata": {},
     "outputs": [
      {
       "output_type": "stream",
       "stream": "stdout",
       "text": [
        "Token XANwfFd9CmdoE3PdFzRg activated and saved for later use.\n",
        "Returning Dataframe for "
       ]
      },
      {
       "output_type": "stream",
       "stream": "stdout",
       "text": [
        " YAHOO/INDEX_GSPC\n",
        "Token XANwfFd9CmdoE3PdFzRg activated and saved for later use.\n",
        "Returning Dataframe for "
       ]
      },
      {
       "output_type": "stream",
       "stream": "stdout",
       "text": [
        " GOOG/AMEX_VOO\n"
       ]
      },
      {
       "metadata": {},
       "output_type": "display_data",
       "png": "[encoded data removed]",
       "text": [
        "<matplotlib.figure.Figure at 0x4fa2810>"
       ]
      }
     ],
     "prompt_number": 6
    },
    {
     "cell_type": "code",
     "collapsed": false,
     "input": [
      "fund_code = \"GOOG/AMEX_SPY\"\n",
      "diff_pcg_spy2sp500, fund_and_index_spy2sp500 = fundCompare2Index(fund_code, index_code, start_date, scale_factor)"
     ],
     "language": "python",
     "metadata": {},
     "outputs": [
      {
       "output_type": "stream",
       "stream": "stdout",
       "text": [
        "Token XANwfFd9CmdoE3PdFzRg activated and saved for later use.\n",
        "Returning Dataframe for "
       ]
      },
      {
       "output_type": "stream",
       "stream": "stdout",
       "text": [
        " YAHOO/INDEX_GSPC\n",
        "Token XANwfFd9CmdoE3PdFzRg activated and saved for later use.\n",
        "Returning Dataframe for "
       ]
      },
      {
       "output_type": "stream",
       "stream": "stdout",
       "text": [
        " GOOG/AMEX_SPY\n"
       ]
      },
      {
       "metadata": {},
       "output_type": "display_data",
       "png": "[encoded data removed]",
       "text": [
        "<matplotlib.figure.Figure at 0x5136110>"
       ]
      }
     ],
     "prompt_number": 7
    },
    {
     "cell_type": "code",
     "collapsed": false,
     "input": [
      "fund_code = \"GOOG/NYSEARCA_IVV\"\n",
      "diff_pcg_ivv2sp500, fund_and_index_ivv2sp500 = fundCompare2Index(fund_code, index_code, start_date, scale_factor)"
     ],
     "language": "python",
     "metadata": {},
     "outputs": [
      {
       "output_type": "stream",
       "stream": "stdout",
       "text": [
        "Token XANwfFd9CmdoE3PdFzRg activated and saved for later use.\n",
        "Returning Dataframe for "
       ]
      },
      {
       "output_type": "stream",
       "stream": "stdout",
       "text": [
        " YAHOO/INDEX_GSPC\n",
        "Token XANwfFd9CmdoE3PdFzRg activated and saved for later use.\n",
        "Returning Dataframe for "
       ]
      },
      {
       "output_type": "stream",
       "stream": "stdout",
       "text": [
        " GOOG/NYSEARCA_IVV\n"
       ]
      },
      {
       "metadata": {},
       "output_type": "display_data",
       "png": "[encoded data removed]",
       "text": [
        "<matplotlib.figure.Figure at 0x4f847d0>"
       ]
      }
     ],
     "prompt_number": 8
    },
    {
     "cell_type": "code",
     "collapsed": false,
     "input": [
      "fund_code = \"GOOG/NYSEARCA_IWD\"\n",
      "index_code = \"YAHOO/INDEX_RUI\"\n",
      "diff_pcg_iwd2rui, fund_and_index_iwd2rui = fundCompare2Index(fund_code, index_code, start_date, scale_factor)"
     ],
     "language": "python",
     "metadata": {},
     "outputs": [
      {
       "output_type": "stream",
       "stream": "stdout",
       "text": [
        "Token XANwfFd9CmdoE3PdFzRg activated and saved for later use.\n",
        "Returning Dataframe for "
       ]
      },
      {
       "output_type": "stream",
       "stream": "stdout",
       "text": [
        " YAHOO/INDEX_RUI\n",
        "Token XANwfFd9CmdoE3PdFzRg activated and saved for later use.\n",
        "Returning Dataframe for "
       ]
      },
      {
       "output_type": "stream",
       "stream": "stdout",
       "text": [
        " GOOG/NYSEARCA_IWD\n"
       ]
      },
      {
       "metadata": {},
       "output_type": "display_data",
       "png": "[encoded data removed]",
       "text": [
        "<matplotlib.figure.Figure at 0x4f74f50>"
       ]
      }
     ],
     "prompt_number": 9
    },
    {
     "cell_type": "code",
     "collapsed": false,
     "input": [],
     "language": "python",
     "metadata": {},
     "outputs": []
    }
   ],
   "metadata": {}
  }
 ]
}