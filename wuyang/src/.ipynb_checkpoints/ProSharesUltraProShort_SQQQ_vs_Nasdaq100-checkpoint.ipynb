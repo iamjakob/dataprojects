{
 "metadata": {
  "name": "",
  "signature": "sha256:94927142cf33ea7adda32a3d3c3276daeafbefb1f417b1266ad954839a59f0eb"
 },
 "nbformat": 3,
 "nbformat_minor": 0,
 "worksheets": [
  {
   "cells": [
    {
     "cell_type": "code",
     "collapsed": false,
     "input": [
      "import Quandl\n",
      "import pandas as pd\n",
      "import matplotlib.pyplot as plt\n",
      "import os.path\n",
      "import numpy as np"
     ],
     "language": "python",
     "metadata": {},
     "outputs": [
      {
       "output_type": "stream",
       "stream": "stderr",
       "text": [
        "/home/wuyang/local-python/2.7.6/py-init-env/lib/python2.7/site-packages/pandas/io/excel.py:626: UserWarning: Installed openpyxl is not supported at this time. Use >=1.6.1 and <2.0.0.\n",
        "  .format(openpyxl_compat.start_ver, openpyxl_compat.stop_ver))\n"
       ]
      }
     ],
     "prompt_number": 1
    },
    {
     "cell_type": "code",
     "collapsed": false,
     "input": [
      "index_code = \"YAHOO/INDEX_NDX\"\n",
      "fund_code = \"GOOG/NYSE_SQQQ\"\n",
      "direction = -3\n",
      "start_date = \"2005-01-01\""
     ],
     "language": "python",
     "metadata": {},
     "outputs": [],
     "prompt_number": 2
    },
    {
     "cell_type": "code",
     "collapsed": false,
     "input": [
      "# load data either from Quandl or local csv if they exist there\n",
      "# local csv file names\n",
      "fund_file_name = \"../data/\" + fund_code.replace(\"/\", \"_\") + \".csv\"\n",
      "index_file_name = \"../data/\" + index_code.replace(\"/\", \"_\") + \".csv\"\n",
      "if os.path.isfile(fund_file_name): # file exists at local\n",
      "    fund_data = pd.io.parsers.read_csv(fund_file_name, index_col=0) # the csv file has to be parsed to have date as index\n",
      "else: # download from Quandl and save it to local as csv file\n",
      "    fund_data = Quandl.get(fund_code, trim_start=start_date, authtoken=\"XANwfFd9CmdoE3PdFzRg\")\n",
      "    fund_data.to_csv(fund_file_name)\n",
      "if os.path.isfile(index_file_name):\n",
      "    index_data = pd.io.parsers.read_csv(index_file_name, index_col=0) # the csv file has to be parsed to have date as index\n",
      "else:\n",
      "    index_data = Quandl.get(index_code, trim_start=start_date, authtoken=\"XANwfFd9CmdoE3PdFzRg\")\n",
      "    index_data.to_csv(index_file_name)\n",
      "\n",
      "# rename columns so that the two dataframes don't share any common names\n",
      "index_data.columns = map(''.join, zip([index_code+'_']*index_data.shape[1], list(index_data.columns))) # rename the columns with index_code as prefix\n",
      "fund_data.columns = map(''.join, zip([fund_code+'_']*fund_data.shape[1], list(fund_data.columns))) # rename the columns with fund_code as prefix    "
     ],
     "language": "python",
     "metadata": {},
     "outputs": [],
     "prompt_number": 3
    },
    {
     "cell_type": "code",
     "collapsed": false,
     "input": [
      "# join the two data frames by date\n",
      "fund_and_index = fund_data.join(index_data, how='inner')"
     ],
     "language": "python",
     "metadata": {},
     "outputs": [],
     "prompt_number": 4
    },
    {
     "cell_type": "code",
     "collapsed": false,
     "input": [
      "# check whether fund_close and index_adjusted_close have any NaN\n",
      "# fortunately NO\n",
      "print len(fund_and_index[fund_code+'_Close'].index[fund_and_index[fund_code+'_Close'].apply(np.isnan)])\n",
      "print len(fund_and_index[index_code+\"_Adjusted Close\"].index[fund_and_index[index_code+'_Adjusted Close'].apply(np.isnan)])"
     ],
     "language": "python",
     "metadata": {},
     "outputs": [
      {
       "output_type": "stream",
       "stream": "stdout",
       "text": [
        "0\n",
        "0\n"
       ]
      }
     ],
     "prompt_number": 5
    },
    {
     "cell_type": "code",
     "collapsed": false,
     "input": [
      "# checking how many nan's in this data. It turns out that only the open and close prices of fund contain nan's. \n",
      "# Most of them appear at the beginning of the time.\n",
      "index_list = fund_and_index.columns\n",
      "for i_ind in index_list:\n",
      "    print len(fund_and_index[i_ind].index[fund_and_index[i_ind].apply(np.isnan)])"
     ],
     "language": "python",
     "metadata": {},
     "outputs": [
      {
       "output_type": "stream",
       "stream": "stdout",
       "text": [
        "28\n",
        "28\n",
        "28\n",
        "0\n",
        "0\n",
        "0\n",
        "0\n",
        "0\n",
        "0\n",
        "0\n",
        "0\n"
       ]
      }
     ],
     "prompt_number": 51
    },
    {
     "cell_type": "code",
     "collapsed": false,
     "input": [
      "# transform the data into array for applying scikit learn\n",
      "# nan's are filled by interpolation.\n",
      "array_FnI = np.array(fund_and_index.interpolate())"
     ],
     "language": "python",
     "metadata": {},
     "outputs": [],
     "prompt_number": 6
    },
    {
     "cell_type": "code",
     "collapsed": false,
     "input": [
      "# screening outliers -- The data from Quandl could be wrong\n",
      "plt.plot(fund_and_index[fund_code+'_Close'])\n",
      "plt.show()\n",
      "plt.plot(fund_and_index[index_code+\"_Adjusted Close\"])\n",
      "plt.show()\n"
     ],
     "language": "python",
     "metadata": {},
     "outputs": [
      {
       "metadata": {},
       "output_type": "display_data",
       "png": "[encoded data removed]",
       "text": [
        "<matplotlib.figure.Figure at 0x386f790>"
       ]
      },
      {
       "metadata": {},
       "output_type": "display_data",
       "png": "[encoded data removed]",
       "text": [
        "<matplotlib.figure.Figure at 0x4519590>"
       ]
      }
     ],
     "prompt_number": 7
    },
    {
     "cell_type": "code",
     "collapsed": false,
     "input": [
      "# Remove Outliers\n",
      "def: outlier_index = outliers_by_moving_average(data, num_neighbor, threshold):\n",
      "    # This function returns the indexes of samples that moves far away (greater than a threshold)\n",
      "    # from the mean of its neighbors\n",
      "    # data: an array contains the data\n",
      "    # num_neighbor: number of neighbors\n",
      "    # threshold: threshold to be considered large\n",
      "    # Note: the first and last num_neighbor samples are simply considered normal\n",
      "    \n",
      "    import numpy as np\n",
      "    outlier = []\n",
      "    for i_spl in xrange(num_neighbor, len(data)-num_neighbor):\n",
      "        if num_neighbor/np.mean(data[i_spl-num_neighbor:i_spl].join(data[i_spl+1:i_spl+num_neighbor+1])) > threshold:\n",
      "            outlier.append(i_spl)\n"
     ],
     "language": "python",
     "metadata": {},
     "outputs": []
    },
    {
     "cell_type": "code",
     "collapsed": false,
     "input": [],
     "language": "python",
     "metadata": {},
     "outputs": []
    },
    {
     "cell_type": "code",
     "collapsed": false,
     "input": [
      "array_FnI.shape\n",
      "fund_and_index.columns"
     ],
     "language": "python",
     "metadata": {},
     "outputs": [
      {
       "metadata": {},
       "output_type": "pyout",
       "prompt_number": 8,
       "text": [
        "Index([u'GOOG/NYSE_SQQQ_Open', u'GOOG/NYSE_SQQQ_High', u'GOOG/NYSE_SQQQ_Low', u'GOOG/NYSE_SQQQ_Close', u'GOOG/NYSE_SQQQ_Volume', u'YAHOO/INDEX_NDX_Open', u'YAHOO/INDEX_NDX_High', u'YAHOO/INDEX_NDX_Low', u'YAHOO/INDEX_NDX_Close', u'YAHOO/INDEX_NDX_Volume', u'YAHOO/INDEX_NDX_Adjusted Close'], dtype='object')"
       ]
      }
     ],
     "prompt_number": 8
    },
    {
     "cell_type": "code",
     "collapsed": false,
     "input": [
      "fund_change_pcg = (array_FnI[1:,3:4] - array_FnI[:-1,3:4])/array_FnI[:-1,3:4]"
     ],
     "language": "python",
     "metadata": {},
     "outputs": [],
     "prompt_number": 9
    },
    {
     "cell_type": "code",
     "collapsed": false,
     "input": [
      "index_change_pcg = (array_FnI[1:,10:11] - array_FnI[:-1,10:11])/array_FnI[:-1,10:11]"
     ],
     "language": "python",
     "metadata": {},
     "outputs": [],
     "prompt_number": 10
    },
    {
     "cell_type": "code",
     "collapsed": false,
     "input": [
      "days_back = 3\n",
      "# target variable starting from days_back + 1 + 1 days since the history consisit days_back, \n",
      "# the change percentage requires another prior day, but note that python starts index from 0\n",
      "diff_pcg = fund_change_pcg - index_change_pcg*direction"
     ],
     "language": "python",
     "metadata": {},
     "outputs": [],
     "prompt_number": 11
    },
    {
     "cell_type": "code",
     "collapsed": false,
     "input": [
      "array_FnI.shape"
     ],
     "language": "python",
     "metadata": {},
     "outputs": [
      {
       "metadata": {},
       "output_type": "pyout",
       "prompt_number": 12,
       "text": [
        "(1864, 11)"
       ]
      }
     ],
     "prompt_number": 12
    },
    {
     "cell_type": "code",
     "collapsed": false,
     "input": [
      "target_variable = diff_pcg[days_back:]\n",
      "features = np.concatenate((array_FnI[days_back:-1,:], diff_pcg[(days_back-1):-1]), axis=1)\n",
      "for i_dayback in xrange(1, days_back):\n",
      "    features = np.concatenate((features, array_FnI[(days_back-i_dayback):(-1-i_dayback),:], diff_pcg[(days_back-i_dayback-1):(-1-i_dayback)]), axis=1)"
     ],
     "language": "python",
     "metadata": {},
     "outputs": [],
     "prompt_number": 19
    },
    {
     "cell_type": "code",
     "collapsed": false,
     "input": [
      "from sklearn import linear_model\n",
      "clf = linear_model.LinearRegression()"
     ],
     "language": "python",
     "metadata": {},
     "outputs": [],
     "prompt_number": 20
    },
    {
     "cell_type": "code",
     "collapsed": false,
     "input": [
      "clf.fit(features, target_variable)"
     ],
     "language": "python",
     "metadata": {},
     "outputs": [
      {
       "metadata": {},
       "output_type": "pyout",
       "prompt_number": 21,
       "text": [
        "LinearRegression(copy_X=True, fit_intercept=True, normalize=False)"
       ]
      }
     ],
     "prompt_number": 21
    },
    {
     "cell_type": "code",
     "collapsed": false,
     "input": [
      "clf.coef_"
     ],
     "language": "python",
     "metadata": {},
     "outputs": [
      {
       "metadata": {},
       "output_type": "pyout",
       "prompt_number": 22,
       "text": [
        "array([[ -1.02163753e-03,   5.89716899e-03,   1.02330947e-03,\n",
        "         -3.56466331e-03,   3.25973017e-09,   2.54275445e-04,\n",
        "         -8.22381567e-04,   6.34930604e-04,  -1.32018115e-04,\n",
        "         -5.96174089e-11,  -1.32018114e-04,  -4.02388762e-01,\n",
        "          8.24124444e-05,   1.06950715e-04,  -1.55478030e-03,\n",
        "         -4.56529724e-04,   1.60999724e-09,   5.17981460e-04,\n",
        "         -1.21963724e-03,  -5.26434071e-04,   7.23508301e-04,\n",
        "          1.46839222e-11,   7.23508301e-04,  -2.69452310e-01,\n",
        "          2.96550614e-04,  -9.87906221e-04,   4.24107226e-04,\n",
        "         -7.20369541e-04,   1.77443005e-10,  -4.96476248e-04,\n",
        "          1.16457205e-03,   2.14755265e-04,  -4.75995663e-04,\n",
        "         -4.48663462e-13,  -4.75995663e-04,  -6.84192407e-02]])"
       ]
      }
     ],
     "prompt_number": 22
    },
    {
     "cell_type": "code",
     "collapsed": false,
     "input": [
      "plt.plot(target_variable, label=\"Deviations\")\n",
      "plt.plot(np.inner(features, clf.coef_)+clf.intercept_, label=\"Prediction\")\n",
      "plt.plot(np.abs(target_variable-(np.inner(features, clf.coef_)+clf.intercept_)),label=\"Prediction Error\")\n",
      "plt.show()"
     ],
     "language": "python",
     "metadata": {},
     "outputs": [
      {
       "metadata": {},
       "output_type": "display_data",
       "png": "[encoded data removed]",
       "text": [
        "<matplotlib.figure.Figure at 0x4fa8e10>"
       ]
      }
     ],
     "prompt_number": 26
    },
    {
     "cell_type": "code",
     "collapsed": false,
     "input": [
      "clf.predict(features)"
     ],
     "language": "python",
     "metadata": {},
     "outputs": [
      {
       "metadata": {},
       "output_type": "pyout",
       "prompt_number": 30,
       "text": [
        "array([[-0.03247856],\n",
        "       [-0.03632812],\n",
        "       [-0.01853213],\n",
        "       ..., \n",
        "       [ 0.00713713],\n",
        "       [ 0.01493683],\n",
        "       [ 0.00016058]])"
       ]
      }
     ],
     "prompt_number": 30
    },
    {
     "cell_type": "code",
     "collapsed": false,
     "input": [
      "np.log(2)"
     ],
     "language": "python",
     "metadata": {},
     "outputs": [
      {
       "metadata": {},
       "output_type": "pyout",
       "prompt_number": 27,
       "text": [
        "0.69314718055994529"
       ]
      }
     ],
     "prompt_number": 27
    },
    {
     "cell_type": "code",
     "collapsed": false,
     "input": [
      "1./3.*np.log(3)+2./3.*np.log(3./2.)"
     ],
     "language": "python",
     "metadata": {},
     "outputs": [
      {
       "metadata": {},
       "output_type": "pyout",
       "prompt_number": 29,
       "text": [
        "0.63651416829481278"
       ]
      }
     ],
     "prompt_number": 29
    },
    {
     "cell_type": "code",
     "collapsed": false,
     "input": [],
     "language": "python",
     "metadata": {},
     "outputs": []
    }
   ],
   "metadata": {}
  }
 ]
}