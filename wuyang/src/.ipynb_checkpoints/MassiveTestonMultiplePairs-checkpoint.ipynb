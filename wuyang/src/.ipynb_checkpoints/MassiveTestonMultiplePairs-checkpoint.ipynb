{
 "metadata": {
  "name": "",
  "signature": "sha256:c41d51bc839e12d15919402be35b4137bcd850b02afa5fa5d94176cb30ef1d0d"
 },
 "nbformat": 3,
 "nbformat_minor": 0,
 "worksheets": [
  {
   "cells": [
    {
     "cell_type": "markdown",
     "metadata": {},
     "source": [
      "The program \"ProSharesUltraProShort_SQQQ_vs_Nasdaq100\" is used for single pair exploration so that we could understand the details of the problem and the data. This program is to apply what we formulate there to multiple fund-index pairs."
     ]
    },
    {
     "cell_type": "code",
     "collapsed": false,
     "input": [
      "# the data frame way is not quite convinient, so we make it dictionary\n",
      "# The last value of each fund index code pair is the direction that the fund claims to moving relative to the index\n",
      "start_date = \"2005-01-01\"\n",
      "fund_index_pair_codes = {\n",
      "\"GOOG/NYSE_SQQQ\": [\"YAHOO/INDEX_NDX\", -3],\n",
      "\"GOOG/NYSEARCA_QID\": [\"YAHOO/INDEX_NDX\", -2],\n",
      "\"GOOG/NYSE_TZA\": [\"YAHOO/INDEX_RUT\", -3],\n",
      "\"GOOG/NYSEARCA_SSO\": [\"YAHOO/INDEX_GSPC\", 2],\n",
      "\"GOOG/NYSEARCA_SPXL\": [\"YAHOO/INDEX_GSPC\", 3],\n",
      "\"GOOG/NYSEARCA_IYY\": [\"YAHOO/DWCF\", 1],\n",
      "\"GOOG/NYSEARCA_IVV\": [\"YAHOO/INDEX_GSPC\", 1]\n",
      "}"
     ],
     "language": "python",
     "metadata": {},
     "outputs": [],
     "prompt_number": 41
    },
    {
     "cell_type": "code",
     "collapsed": false,
     "input": [
      "def pull_fund_and_index_data(fund_code, index_code, start_date):\n",
      "    # load data either from Quandl or local csv if they exist there\n",
      "    # local csv file names\n",
      "    import Quandl\n",
      "    import pandas as pd\n",
      "    import os.path\n",
      "    fund_file_name = \"../data/\" + fund_code.replace(\"/\", \"_\") + \".csv\"\n",
      "    index_file_name = \"../data/\" + index_code.replace(\"/\", \"_\") + \".csv\"\n",
      "    if os.path.isfile(fund_file_name): # file exists at local\n",
      "        fund_data = pd.io.parsers.read_csv(fund_file_name, index_col=0) # the csv file has to be parsed to have date as index\n",
      "    else: # download from Quandl and save it to local as csv file\n",
      "        fund_data = Quandl.get(fund_code, trim_start=start_date, authtoken=\"XANwfFd9CmdoE3PdFzRg\")\n",
      "        fund_data.to_csv(fund_file_name)\n",
      "    if os.path.isfile(index_file_name):\n",
      "        index_data = pd.io.parsers.read_csv(index_file_name, index_col=0) # the csv file has to be parsed to have date as index\n",
      "    else:\n",
      "        index_data = Quandl.get(index_code, trim_start=start_date, authtoken=\"XANwfFd9CmdoE3PdFzRg\")\n",
      "        index_data.to_csv(index_file_name)\n",
      "\n",
      "    # rename columns so that the two dataframes don't share any common names\n",
      "    index_data.columns = map(''.join, zip([index_code+'_']*index_data.shape[1], list(index_data.columns))) # rename the columns with index_code as prefix\n",
      "    fund_data.columns = map(''.join, zip([fund_code+'_']*fund_data.shape[1], list(fund_data.columns)))\n",
      "    \n",
      "    # join the two data frames by date\n",
      "    fund_and_index = fund_data.join(index_data, how='inner') \n",
      "    \n",
      "    return fund_and_index    "
     ],
     "language": "python",
     "metadata": {},
     "outputs": [],
     "prompt_number": 39
    },
    {
     "cell_type": "code",
     "collapsed": false,
     "input": [
      "def feature_preparation(fund_and_index):\n",
      "    import numpy as np\n",
      "    # transform the data into array for applying scikit learn\n",
      "    # nan's are filled by interpolation.\n",
      "    array_fund_and_index = np.array(fund_and_index.interpolate())"
     ],
     "language": "python",
     "metadata": {},
     "outputs": [],
     "prompt_number": 43
    },
    {
     "cell_type": "code",
     "collapsed": false,
     "input": [
      "# Remove Outliers\n",
      "def outliers_by_moving_average(data, num_neighbor, threshold):\n",
      "    # This function returns the indexes of samples that moves far away (greater than a threshold)\n",
      "    # from the mean of its neighbors\n",
      "    # data: an array contains the data\n",
      "    # num_neighbor: number of neighbors\n",
      "    # threshold: threshold to be considered large\n",
      "    # Note: the first and last num_neighbor samples are simply considered normal\n",
      "    \n",
      "    import numpy as np\n",
      "    outlier = []\n",
      "    for i_spl in xrange(num_neighbor, len(data)-num_neighbor):\n",
      "        if np.abs(data[i_spl]/np.mean(np.append(data[i_spl-num_neighbor:i_spl],data[i_spl+1:i_spl+num_neighbor+1])) -1) > threshold:\n",
      "            outlier.append(i_spl)\n",
      "    return outlier"
     ],
     "language": "python",
     "metadata": {},
     "outputs": [],
     "prompt_number": 44
    },
    {
     "cell_type": "code",
     "collapsed": false,
     "input": [],
     "language": "python",
     "metadata": {},
     "outputs": []
    }
   ],
   "metadata": {}
  }
 ]
}