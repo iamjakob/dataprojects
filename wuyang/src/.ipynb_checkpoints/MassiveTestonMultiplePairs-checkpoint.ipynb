{
 "metadata": {
  "name": "",
  "signature": "sha256:3c8b666da946159f20f4200322d50a372f931be9f91e4544ad86ed86f1132d0e"
 },
 "nbformat": 3,
 "nbformat_minor": 0,
 "worksheets": [
  {
   "cells": [
    {
     "cell_type": "markdown",
     "metadata": {},
     "source": [
      "The program \"ProSharesUltraProShort_SQQQ_vs_Nasdaq100\" is used for single pair exploration so that we could understand the details of the problem and the data. This program is to apply what we formulate there to multiple fund-index pairs."
     ]
    },
    {
     "cell_type": "code",
     "collapsed": false,
     "input": [
      "# the data frame way is not quite convinient, so we make it dictionary way\n",
      "fund_index_pair_codes = {\n",
      "\"GOOG/NYSE_SQQQ\": [\"YAHOO/INDEX_NDX\", -3, \"2005-01-01\"],\n",
      "\"GOOG/NYSEARCA_QID\": [\"YAHOO/INDEX_NDX\", -2, \"2005-01-01\"],\n",
      "\"GOOG/NYSE_TZA\": [\"YAHOO/INDEX_RUT\", -3, \"2005-01-01\"],\n",
      "\"GOOG/NYSEARCA_SSO\": [\"YAHOO/INDEX_GSPC\", 2, \"2005-01-01\"],\n",
      "\"GOOG/NYSEARCA_SPXL\": [\"YAHOO/INDEX_GSPC\", 3, \"2005-01-01\"]\n",
      "}"
     ],
     "language": "python",
     "metadata": {},
     "outputs": [],
     "prompt_number": 32
    },
    {
     "cell_type": "code",
     "collapsed": false,
     "input": [
      "fund_index_pair_codes"
     ],
     "language": "python",
     "metadata": {},
     "outputs": [
      {
       "metadata": {},
       "output_type": "pyout",
       "prompt_number": 33,
       "text": [
        "{'GOOG/NYSEARCA_QID': ['YAHOO/INDEX_NDX', -2, '2005-01-01'],\n",
        " 'GOOG/NYSE_SQQQ': ['YAHOO/INDEX_NDX', -3, '2005-01-01'],\n",
        " 'GOOG/NYSE_TZA': ['YAHOO/INDEX_RUT', -3, '2005-01-01']}"
       ]
      }
     ],
     "prompt_number": 33
    },
    {
     "cell_type": "code",
     "collapsed": false,
     "input": [],
     "language": "python",
     "metadata": {},
     "outputs": []
    }
   ],
   "metadata": {}
  }
 ]
}