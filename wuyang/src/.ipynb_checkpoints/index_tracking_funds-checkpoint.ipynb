{
 "metadata": {
  "name": "",
  "signature": "sha256:6ee11293c0d9bca5f37f1810eac3e513cbfb8a716af4d2478d3269a7c0cb5e12"
 },
 "nbformat": 3,
 "nbformat_minor": 0,
 "worksheets": [
  {
   "cells": [
    {
     "cell_type": "code",
     "collapsed": false,
     "input": [
      "import pandas as pd\n",
      "import matplotlib.pyplot as plt\n",
      "import Quandl\n",
      "sp500 = Quandl.get(\"YAHOO/INDEX_GSPC\",trim_start=\"2005-01-01\", authtoken=\"XANwfFd9CmdoE3PdFzRg\")\n",
      "voo_data = Quandl.get(\"GOOG/AMEX_VOO\",trim_start=\"2005-01-01\", authtoken=\"XANwfFd9CmdoE3PdFzRg\")\n",
      "\n",
      "sp500_close_price = sp500['Adjusted Close']/10\n",
      "voo_close_price = voo_data['Close']\n",
      "voo_comb_sp500_close_price = pd.concat([voo_close_price, sp500_close_price], axis=1, join='inner')"
     ],
     "language": "python",
     "metadata": {},
     "outputs": [
      {
       "output_type": "stream",
       "stream": "stdout",
       "text": [
        "Token XANwfFd9CmdoE3PdFzRg activated and saved for later use.\n",
        "Returning Dataframe for "
       ]
      },
      {
       "output_type": "stream",
       "stream": "stdout",
       "text": [
        " YAHOO/INDEX_GSPC\n"
       ]
      },
      {
       "output_type": "stream",
       "stream": "stderr",
       "text": [
        "/home/wuyang/local-python/2.7.6/py-init-env/lib/python2.7/site-packages/pandas/io/excel.py:626: UserWarning: Installed openpyxl is not supported at this time. Use >=1.6.1 and <2.0.0.\n",
        "  .format(openpyxl_compat.start_ver, openpyxl_compat.stop_ver))\n"
       ]
      }
     ],
     "prompt_number": 3
    },
    {
     "cell_type": "code",
     "collapsed": false,
     "input": [
      "voo_comb_sp500 = pd.concat([voo_data, sp500], axis=1, join='inner')"
     ],
     "language": "python",
     "metadata": {},
     "outputs": [],
     "prompt_number": 79
    },
    {
     "cell_type": "code",
     "collapsed": false,
     "input": [
      "print len(voo_comb_sp500)"
     ],
     "language": "python",
     "metadata": {},
     "outputs": [
      {
       "output_type": "stream",
       "stream": "stdout",
       "text": [
        "945\n"
       ]
      }
     ],
     "prompt_number": 81
    },
    {
     "cell_type": "code",
     "collapsed": false,
     "input": [
      "map(''.join, zip(list(sp500.columns), ['_'+'sp500']*sp500.shape[1]))"
     ],
     "language": "python",
     "metadata": {},
     "outputs": [
      {
       "metadata": {},
       "output_type": "pyout",
       "prompt_number": 89,
       "text": [
        "['Open_sp500',\n",
        " 'High_sp500',\n",
        " 'Low_sp500',\n",
        " 'Close_sp500',\n",
        " 'Volume_sp500',\n",
        " 'Adjusted Close_sp500']"
       ]
      }
     ],
     "prompt_number": 89
    },
    {
     "cell_type": "code",
     "collapsed": false,
     "input": [
      "voo_comb_sp500[1:10]"
     ],
     "language": "python",
     "metadata": {},
     "outputs": [
      {
       "html": [
        "<div style=\"max-height:1000px;max-width:1500px;overflow:auto;\">\n",
        "<table border=\"1\" class=\"dataframe\">\n",
        "  <thead>\n",
        "    <tr style=\"text-align: right;\">\n",
        "      <th></th>\n",
        "      <th>Open</th>\n",
        "      <th>High</th>\n",
        "      <th>Low</th>\n",
        "      <th>Close</th>\n",
        "      <th>Volume</th>\n",
        "      <th>Open</th>\n",
        "      <th>High</th>\n",
        "      <th>Low</th>\n",
        "      <th>Close</th>\n",
        "      <th>Volume</th>\n",
        "      <th>Adjusted Close</th>\n",
        "    </tr>\n",
        "    <tr>\n",
        "      <th>Date</th>\n",
        "      <th></th>\n",
        "      <th></th>\n",
        "      <th></th>\n",
        "      <th></th>\n",
        "      <th></th>\n",
        "      <th></th>\n",
        "      <th></th>\n",
        "      <th></th>\n",
        "      <th></th>\n",
        "      <th></th>\n",
        "      <th></th>\n",
        "    </tr>\n",
        "  </thead>\n",
        "  <tbody>\n",
        "    <tr>\n",
        "      <th>2010-09-10</th>\n",
        "      <td> 101.68</td>\n",
        "      <td> 101.86</td>\n",
        "      <td> 101.30</td>\n",
        "      <td> 101.78</td>\n",
        "      <td>  8638</td>\n",
        "      <td> 1104.57</td>\n",
        "      <td> 1110.88</td>\n",
        "      <td> 1103.92</td>\n",
        "      <td> 1109.55</td>\n",
        "      <td> 3061160000</td>\n",
        "      <td> 1109.55</td>\n",
        "    </tr>\n",
        "    <tr>\n",
        "      <th>2010-09-13</th>\n",
        "      <td> 102.96</td>\n",
        "      <td> 103.14</td>\n",
        "      <td> 102.50</td>\n",
        "      <td> 103.06</td>\n",
        "      <td> 33752</td>\n",
        "      <td> 1113.38</td>\n",
        "      <td> 1123.87</td>\n",
        "      <td> 1113.38</td>\n",
        "      <td> 1121.90</td>\n",
        "      <td> 4521050000</td>\n",
        "      <td> 1121.90</td>\n",
        "    </tr>\n",
        "    <tr>\n",
        "      <th>2010-09-14</th>\n",
        "      <td> 102.84</td>\n",
        "      <td> 103.48</td>\n",
        "      <td> 102.38</td>\n",
        "      <td> 103.04</td>\n",
        "      <td> 59420</td>\n",
        "      <td> 1121.16</td>\n",
        "      <td> 1127.36</td>\n",
        "      <td> 1115.58</td>\n",
        "      <td> 1121.10</td>\n",
        "      <td> 4521050000</td>\n",
        "      <td> 1121.10</td>\n",
        "    </tr>\n",
        "    <tr>\n",
        "      <th>2010-09-15</th>\n",
        "      <td> 102.62</td>\n",
        "      <td> 103.38</td>\n",
        "      <td> 102.40</td>\n",
        "      <td> 103.30</td>\n",
        "      <td>  9283</td>\n",
        "      <td> 1119.43</td>\n",
        "      <td> 1126.46</td>\n",
        "      <td> 1114.63</td>\n",
        "      <td> 1125.07</td>\n",
        "      <td> 3369840000</td>\n",
        "      <td> 1125.07</td>\n",
        "    </tr>\n",
        "    <tr>\n",
        "      <th>2010-09-16</th>\n",
        "      <td> 103.02</td>\n",
        "      <td> 103.32</td>\n",
        "      <td> 102.70</td>\n",
        "      <td> 103.26</td>\n",
        "      <td> 59580</td>\n",
        "      <td> 1123.89</td>\n",
        "      <td> 1125.44</td>\n",
        "      <td> 1118.88</td>\n",
        "      <td> 1124.66</td>\n",
        "      <td> 3364080000</td>\n",
        "      <td> 1124.66</td>\n",
        "    </tr>\n",
        "    <tr>\n",
        "      <th>2010-09-17</th>\n",
        "      <td> 103.88</td>\n",
        "      <td> 103.88</td>\n",
        "      <td> 103.02</td>\n",
        "      <td> 103.36</td>\n",
        "      <td> 49365</td>\n",
        "      <td> 1126.39</td>\n",
        "      <td> 1131.47</td>\n",
        "      <td> 1122.43</td>\n",
        "      <td> 1125.59</td>\n",
        "      <td> 4086140000</td>\n",
        "      <td> 1125.59</td>\n",
        "    </tr>\n",
        "    <tr>\n",
        "      <th>2010-09-20</th>\n",
        "      <td> 103.74</td>\n",
        "      <td> 105.04</td>\n",
        "      <td> 103.46</td>\n",
        "      <td> 105.04</td>\n",
        "      <td> 19006</td>\n",
        "      <td> 1126.57</td>\n",
        "      <td> 1144.86</td>\n",
        "      <td> 1126.57</td>\n",
        "      <td> 1142.71</td>\n",
        "      <td> 3364080000</td>\n",
        "      <td> 1142.71</td>\n",
        "    </tr>\n",
        "    <tr>\n",
        "      <th>2010-09-21</th>\n",
        "      <td> 105.02</td>\n",
        "      <td> 105.44</td>\n",
        "      <td> 104.28</td>\n",
        "      <td> 104.72</td>\n",
        "      <td> 19286</td>\n",
        "      <td> 1142.82</td>\n",
        "      <td> 1148.59</td>\n",
        "      <td> 1136.22</td>\n",
        "      <td> 1139.78</td>\n",
        "      <td> 4175660000</td>\n",
        "      <td> 1139.78</td>\n",
        "    </tr>\n",
        "    <tr>\n",
        "      <th>2010-09-22</th>\n",
        "      <td> 104.56</td>\n",
        "      <td> 105.04</td>\n",
        "      <td> 103.96</td>\n",
        "      <td> 104.16</td>\n",
        "      <td> 18148</td>\n",
        "      <td> 1139.49</td>\n",
        "      <td> 1144.38</td>\n",
        "      <td> 1131.58</td>\n",
        "      <td> 1134.28</td>\n",
        "      <td> 3911070000</td>\n",
        "      <td> 1134.28</td>\n",
        "    </tr>\n",
        "  </tbody>\n",
        "</table>\n",
        "</div>"
       ],
       "metadata": {},
       "output_type": "pyout",
       "prompt_number": 82,
       "text": [
        "              Open    High     Low   Close  Volume     Open     High      Low  \\\n",
        "Date                                                                            \n",
        "2010-09-10  101.68  101.86  101.30  101.78    8638  1104.57  1110.88  1103.92   \n",
        "2010-09-13  102.96  103.14  102.50  103.06   33752  1113.38  1123.87  1113.38   \n",
        "2010-09-14  102.84  103.48  102.38  103.04   59420  1121.16  1127.36  1115.58   \n",
        "2010-09-15  102.62  103.38  102.40  103.30    9283  1119.43  1126.46  1114.63   \n",
        "2010-09-16  103.02  103.32  102.70  103.26   59580  1123.89  1125.44  1118.88   \n",
        "2010-09-17  103.88  103.88  103.02  103.36   49365  1126.39  1131.47  1122.43   \n",
        "2010-09-20  103.74  105.04  103.46  105.04   19006  1126.57  1144.86  1126.57   \n",
        "2010-09-21  105.02  105.44  104.28  104.72   19286  1142.82  1148.59  1136.22   \n",
        "2010-09-22  104.56  105.04  103.96  104.16   18148  1139.49  1144.38  1131.58   \n",
        "\n",
        "              Close      Volume  Adjusted Close  \n",
        "Date                                             \n",
        "2010-09-10  1109.55  3061160000         1109.55  \n",
        "2010-09-13  1121.90  4521050000         1121.90  \n",
        "2010-09-14  1121.10  4521050000         1121.10  \n",
        "2010-09-15  1125.07  3369840000         1125.07  \n",
        "2010-09-16  1124.66  3364080000         1124.66  \n",
        "2010-09-17  1125.59  4086140000         1125.59  \n",
        "2010-09-20  1142.71  3364080000         1142.71  \n",
        "2010-09-21  1139.78  4175660000         1139.78  \n",
        "2010-09-22  1134.28  3911070000         1134.28  "
       ]
      }
     ],
     "prompt_number": 82
    },
    {
     "cell_type": "code",
     "collapsed": false,
     "input": [
      "print type(voo_comb_sp500_close_price)"
     ],
     "language": "python",
     "metadata": {},
     "outputs": [
      {
       "output_type": "stream",
       "stream": "stdout",
       "text": [
        "<class 'pandas.core.frame.DataFrame'>\n"
       ]
      }
     ],
     "prompt_number": 60
    },
    {
     "cell_type": "code",
     "collapsed": false,
     "input": [
      "voo_comb_sp500_close_price.columns"
     ],
     "language": "python",
     "metadata": {},
     "outputs": [
      {
       "metadata": {},
       "output_type": "pyout",
       "prompt_number": 62,
       "text": [
        "Index([u'Close', u'Adjusted Close'], dtype='object')"
       ]
      }
     ],
     "prompt_number": 62
    },
    {
     "cell_type": "code",
     "collapsed": false,
     "input": [
      "voo_diff_pcg = (voo_comb_sp500_close_price[\"Close\"] - voo_comb_sp500_close_price[\"Adjusted Close\"])/voo_comb_sp500_close_price[\"Adjusted Close\"]"
     ],
     "language": "python",
     "metadata": {},
     "outputs": [],
     "prompt_number": 92
    },
    {
     "cell_type": "code",
     "collapsed": false,
     "input": [
      "plt.hist(voo_diff_pcg, alpha = 0.5)\n",
      "plt.grid()\n",
      "plt.show()"
     ],
     "language": "python",
     "metadata": {},
     "outputs": [
      {
       "metadata": {},
       "output_type": "display_data",
       "png": "[encoded data removed]",
       "text": [
        "<matplotlib.figure.Figure at 0x3c2c4d0>"
       ]
      }
     ],
     "prompt_number": 93
    },
    {
     "cell_type": "code",
     "collapsed": false,
     "input": [
      "spy_data = Quandl.get(\"GOOG/AMEX_SPY\",trim_start=\"2005-01-01\", authtoken=\"XANwfFd9CmdoE3PdFzRg\")"
     ],
     "language": "python",
     "metadata": {},
     "outputs": [
      {
       "output_type": "stream",
       "stream": "stdout",
       "text": [
        "Token XANwfFd9CmdoE3PdFzRg activated and saved for later use.\n",
        "Returning Dataframe for "
       ]
      },
      {
       "output_type": "stream",
       "stream": "stdout",
       "text": [
        " GOOG/AMEX_SPY\n"
       ]
      }
     ],
     "prompt_number": 44
    },
    {
     "cell_type": "code",
     "collapsed": false,
     "input": [
      "voo_comb_sp500_close_price.sort_index(ascending=False)[0:1]"
     ],
     "language": "python",
     "metadata": {},
     "outputs": [
      {
       "html": [
        "<div style=\"max-height:1000px;max-width:1500px;overflow:auto;\">\n",
        "<table border=\"1\" class=\"dataframe\">\n",
        "  <thead>\n",
        "    <tr style=\"text-align: right;\">\n",
        "      <th></th>\n",
        "      <th>Close</th>\n",
        "      <th>Adjusted Close</th>\n",
        "    </tr>\n",
        "    <tr>\n",
        "      <th>Date</th>\n",
        "      <th></th>\n",
        "      <th></th>\n",
        "    </tr>\n",
        "  </thead>\n",
        "  <tbody>\n",
        "    <tr>\n",
        "      <th>2014-06-11</th>\n",
        "      <td> 178.69</td>\n",
        "      <td> 194.389</td>\n",
        "    </tr>\n",
        "  </tbody>\n",
        "</table>\n",
        "</div>"
       ],
       "metadata": {},
       "output_type": "pyout",
       "prompt_number": 99,
       "text": [
        "             Close  Adjusted Close\n",
        "Date                              \n",
        "2014-06-11  178.69         194.389"
       ]
      }
     ],
     "prompt_number": 99
    },
    {
     "cell_type": "code",
     "collapsed": false,
     "input": [
      "RUI_data = Quandl.get(\"YAHOO/INDEX_RUI\",trim_start=\"2005-01-01\", authtoken=\"XANwfFd9CmdoE3PdFzRg\")"
     ],
     "language": "python",
     "metadata": {},
     "outputs": [
      {
       "output_type": "stream",
       "stream": "stdout",
       "text": [
        "Token XANwfFd9CmdoE3PdFzRg activated and saved for later use.\n",
        "Returning Dataframe for "
       ]
      },
      {
       "output_type": "stream",
       "stream": "stdout",
       "text": [
        " YAHOO/INDEX_RUI\n"
       ]
      }
     ],
     "prompt_number": 95
    },
    {
     "cell_type": "code",
     "collapsed": false,
     "input": [
      "RUI_data[0:1]"
     ],
     "language": "python",
     "metadata": {},
     "outputs": [
      {
       "html": [
        "<div style=\"max-height:1000px;max-width:1500px;overflow:auto;\">\n",
        "<table border=\"1\" class=\"dataframe\">\n",
        "  <thead>\n",
        "    <tr style=\"text-align: right;\">\n",
        "      <th></th>\n",
        "      <th>Open</th>\n",
        "      <th>High</th>\n",
        "      <th>Low</th>\n",
        "      <th>Close</th>\n",
        "      <th>Volume</th>\n",
        "      <th>Adjusted Close</th>\n",
        "    </tr>\n",
        "    <tr>\n",
        "      <th>Date</th>\n",
        "      <th></th>\n",
        "      <th></th>\n",
        "      <th></th>\n",
        "      <th></th>\n",
        "      <th></th>\n",
        "      <th></th>\n",
        "    </tr>\n",
        "  </thead>\n",
        "  <tbody>\n",
        "    <tr>\n",
        "      <th>2005-01-03</th>\n",
        "      <td> 651.26</td>\n",
        "      <td> 653.91</td>\n",
        "      <td> 644.23</td>\n",
        "      <td> 645.13</td>\n",
        "      <td> 0</td>\n",
        "      <td> 645.13</td>\n",
        "    </tr>\n",
        "  </tbody>\n",
        "</table>\n",
        "</div>"
       ],
       "metadata": {},
       "output_type": "pyout",
       "prompt_number": 98,
       "text": [
        "              Open    High     Low   Close  Volume  Adjusted Close\n",
        "Date                                                              \n",
        "2005-01-03  651.26  653.91  644.23  645.13       0          645.13"
       ]
      }
     ],
     "prompt_number": 98
    },
    {
     "cell_type": "code",
     "collapsed": false,
     "input": [],
     "language": "python",
     "metadata": {},
     "outputs": []
    }
   ],
   "metadata": {}
  }
 ]
}