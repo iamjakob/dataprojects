{
 "metadata": {
  "name": "",
  "signature": "sha256:ff5c0a84f8901543cd03d5bee0c0bd0d7d17f5f6402fa8c4659bad8ef9749cb9"
 },
 "nbformat": 3,
 "nbformat_minor": 0,
 "worksheets": [
  {
   "cells": [
    {
     "cell_type": "code",
     "collapsed": false,
     "input": [
      "%load_ext sql"
     ],
     "language": "python",
     "metadata": {},
     "outputs": [],
     "prompt_number": 1
    },
    {
     "cell_type": "code",
     "collapsed": false,
     "input": [
      "%%sql sqlite://\n",
      "DROP TABLE IF EXISTS Employees;\n",
      "CREATE TABLE Employees (\n",
      "    employee_id INTEGER PRIMARY KEY AUTOINCREMENT,\n",
      "    name TEXT NOT NULL,\n",
      "    hire_date DATE NOT NULL,\n",
      "    title TEXT NOT NULL,\n",
      "    phone_number TEXT NOT NULL\n",
      ");\n",
      "\n",
      "DROP TABLE IF EXISTS Tasks;\n",
      "CREATE TABLE Tasks (\n",
      "    task_id INTEGER PRIMARY KEY AUTOINCREMENT,\n",
      "    deadline DATE NOT NULL,\n",
      "    status INT NOT NULL DEFAULT 0,\n",
      "    description TEXT\n",
      ");\n",
      "\n",
      "\n",
      "DROP TABLE IF EXISTS Assignments;\n",
      "CREATE TABLE Assignments (\n",
      "    assignment_id INTEGER PRIMARY KEY AUTOINCREMENT,\n",
      "    task_id INTEGER NOT NULL,\n",
      "    employee_id INTEGER NOT NULL,\n",
      "    start_date DATE NOT NULL,\n",
      "    end_date DATE NOT NULL,\n",
      "    charge_code TEXT NOT NULL,  -- This should probably be its own table!\n",
      "    fraction_assignment REAL NOT NULL\n",
      ");\n"
     ],
     "language": "python",
     "metadata": {},
     "outputs": [
      {
       "output_type": "stream",
       "stream": "stdout",
       "text": [
        "Done.\n",
        "Done.\n",
        "Done.\n",
        "Done.\n",
        "Done.\n",
        "Done.\n"
       ]
      },
      {
       "metadata": {},
       "output_type": "pyout",
       "prompt_number": 2,
       "text": [
        "[]"
       ]
      }
     ],
     "prompt_number": 2
    },
    {
     "cell_type": "code",
     "collapsed": false,
     "input": [
      "%%sql\n",
      "INSERT INTO Employees VALUES (1, 'Jenny Smith', '2010-12-1', 'Chief Music Office', '867-5309');\n",
      "INSERT INTO Employees (title, name, phone_number, hire_date) VALUES ('CEO', 'John Doe', '555-1234', '2011-12-1');\n",
      "INSERT INTO Employees (title, name, phone_number, hire_date) VALUES ('Worker', 'Worker Bee 1', '555-1201', '2012-12-01');\n",
      "INSERT INTO Employees (title, name, phone_number, hire_date) VALUES ('Worker', 'Worker Bee 2', '555-1202', '2012-12-03');\n",
      "INSERT INTO Employees (title, name, phone_number, hire_date) VALUES ('Worker', 'Worker Bee 3', '555-1203', '2012-12-05');\n",
      "INSERT INTO Employees (title, name, phone_number, hire_date) VALUES ('Worker', 'Worker Bee 4', '555-1204', '2012-12-07');\n",
      "\n",
      "INSERT INTO Tasks (deadline, description, status) VALUES ('2012-12-11', 'Hire worker bees.', 1);\n",
      "INSERT INTO Tasks (deadline, description) VALUES ('2014-07-18', 'Save the world.');\n",
      "INSERT INTO Tasks (deadline, description, status) VALUES ('2014-12-11', 'Cost cutting on worker bees.', 0);\n",
      "\n",
      "\n",
      "INSERT INTO Assignments (task_id, employee_id, start_date, end_date, fraction_assignment, charge_code) VALUES (1, 2, '2012-01-01', '2012-12-31', 0.5, 'INTERNAL');\n",
      "INSERT INTO Assignments (task_id, employee_id, start_date, end_date, fraction_assignment, charge_code) VALUES (2, 3, '2013-01-01', '2014-07-18', 1.0, 'CJX5');\n",
      "INSERT INTO Assignments (task_id, employee_id, start_date, end_date, fraction_assignment, charge_code) VALUES (2, 4, '2013-01-01', '2014-07-18', 1.0, 'CJX5');\n",
      "INSERT INTO Assignments (task_id, employee_id, start_date, end_date, fraction_assignment, charge_code) VALUES (2, 5, '2013-01-01', '2014-07-18', 1.0, 'CJX5');\n",
      "INSERT INTO Assignments (task_id, employee_id, start_date, end_date, fraction_assignment, charge_code) VALUES (2, 6, '2013-01-01', '2014-07-18', 1.0, 'CJX5');\n",
      "INSERT INTO Assignments (task_id, employee_id, start_date, end_date, fraction_assignment, charge_code) VALUES (2, 2, '2013-01-01', '2014-07-18', 0.75, 'CJX5');\n",
      "INSERT INTO Assignments (task_id, employee_id, start_date, end_date, fraction_assignment, charge_code) VALUES (3, 2, '2013-01-01', '2014-07-18', 0.25, 'INTERNAL');\n"
     ],
     "language": "python",
     "metadata": {},
     "outputs": [
      {
       "output_type": "stream",
       "stream": "stdout",
       "text": [
        "1 rows affected.\n",
        "1 rows affected.\n",
        "1 rows affected.\n",
        "1 rows affected.\n",
        "1 rows affected.\n",
        "1 rows affected.\n",
        "1 rows affected.\n",
        "1 rows affected.\n",
        "1 rows affected.\n",
        "1 rows affected.\n",
        "1 rows affected.\n",
        "1 rows affected.\n",
        "1 rows affected.\n",
        "1 rows affected.\n",
        "1 rows affected.\n",
        "1 rows affected.\n"
       ]
      },
      {
       "metadata": {},
       "output_type": "pyout",
       "prompt_number": 3,
       "text": [
        "[]"
       ]
      }
     ],
     "prompt_number": 3
    },
    {
     "cell_type": "code",
     "collapsed": false,
     "input": [],
     "language": "python",
     "metadata": {},
     "outputs": []
    }
   ],
   "metadata": {}
  }
 ]
}