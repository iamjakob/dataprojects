{
 "metadata": {
  "name": "",
  "signature": "sha256:f9d736ec5dc5e8aa9bf0aaee707a0d61cadfdf40864fedb2ec2453214294142d"
 },
 "nbformat": 3,
 "nbformat_minor": 0,
 "worksheets": [
  {
   "cells": [
    {
     "cell_type": "code",
     "collapsed": false,
     "input": [
      "%load_ext sql"
     ],
     "language": "python",
     "metadata": {},
     "outputs": [],
     "prompt_number": 1
    },
    {
     "cell_type": "code",
     "collapsed": false,
     "input": [
      "%%sql sqlite://\n",
      "DROP TABLE IF EXISTS Employees;\n",
      "CREATE TABLE Employees (\n",
      "    employee_id INTEGER PRIMARY KEY AUTOINCREMENT,\n",
      "    name TEXT NOT NULL,\n",
      "    hire_date DATE NOT NULL,\n",
      "    title TEXT NOT NULL,\n",
      "    phone_number TEXT NOT NULL\n",
      ");\n",
      "\n",
      "DROP TABLE IF EXISTS Tasks;\n",
      "CREATE TABLE Tasks (\n",
      "    task_id INTEGER PRIMARY KEY AUTOINCREMENT,\n",
      "    deadline DATE NOT NULL,\n",
      "    status INT NOT NULL DEFAULT 0,\n",
      "    description TEXT\n",
      ");\n",
      "\n",
      "\n",
      "DROP TABLE IF EXISTS Assignments;\n",
      "CREATE TABLE Assignments (\n",
      "    assignment_id INTEGER PRIMARY KEY AUTOINCREMENT,\n",
      "    task_id INTEGER NOT NULL,\n",
      "    employee_id INTEGER NOT NULL,\n",
      "    start_date DATE NOT NULL,\n",
      "    end_date DATE NOT NULL,\n",
      "    charge_code TEXT NOT NULL,  -- This should probably be its own table!\n",
      "    fraction_assignment REAL NOT NULL\n",
      ");\n"
     ],
     "language": "python",
     "metadata": {},
     "outputs": [
      {
       "output_type": "stream",
       "stream": "stdout",
       "text": [
        "Done.\n",
        "Done.\n",
        "Done.\n",
        "Done.\n",
        "Done.\n",
        "Done.\n"
       ]
      },
      {
       "metadata": {},
       "output_type": "pyout",
       "prompt_number": 2,
       "text": [
        "[]"
       ]
      }
     ],
     "prompt_number": 2
    },
    {
     "cell_type": "code",
     "collapsed": false,
     "input": [
      "%%sql\n",
      "INSERT INTO Employees VALUES (1, 'Jenny Smith', '2010-12-1', 'Chief Music Office', '867-5309');\n",
      "INSERT INTO Employees (title, name, phone_number, hire_date) VALUES ('CEO', 'John Doe', '555-1234', '2011-12-1');\n",
      "INSERT INTO Employees (title, name, phone_number, hire_date) VALUES ('Worker', 'Worker Bee 1', '555-1201', '2012-12-01');\n",
      "INSERT INTO Employees (title, name, phone_number, hire_date) VALUES ('Worker', 'Worker Bee 2', '555-1202', '2012-12-03');\n",
      "INSERT INTO Employees (title, name, phone_number, hire_date) VALUES ('Worker', 'Worker Bee 3', '555-1203', '2012-12-05');\n",
      "INSERT INTO Employees (title, name, phone_number, hire_date) VALUES ('Worker', 'Worker Bee 4', '555-1204', '2012-12-07');\n",
      "\n",
      "INSERT INTO Tasks (deadline, description, status) VALUES ('2012-12-11', 'Hire worker bees.', 1);\n",
      "INSERT INTO Tasks (deadline, description) VALUES ('2014-07-18', 'Save the world.');\n",
      "INSERT INTO Tasks (deadline, description, status) VALUES ('2014-12-11', 'Cost cutting on worker bees.', 0);\n",
      "\n",
      "\n",
      "INSERT INTO Assignments (task_id, employee_id, start_date, end_date, fraction_assignment, charge_code) VALUES (1, 2, '2012-01-01', '2012-12-31', 0.5, 'INTERNAL');\n",
      "INSERT INTO Assignments (task_id, employee_id, start_date, end_date, fraction_assignment, charge_code) VALUES (2, 3, '2013-01-01', '2014-07-18', 1.0, 'CJX5');\n",
      "INSERT INTO Assignments (task_id, employee_id, start_date, end_date, fraction_assignment, charge_code) VALUES (2, 4, '2013-01-01', '2014-07-18', 1.0, 'CJX5');\n",
      "INSERT INTO Assignments (task_id, employee_id, start_date, end_date, fraction_assignment, charge_code) VALUES (2, 5, '2013-01-01', '2014-07-18', 1.0, 'CJX5');\n",
      "INSERT INTO Assignments (task_id, employee_id, start_date, end_date, fraction_assignment, charge_code) VALUES (2, 6, '2013-01-01', '2014-07-18', 1.0, 'CJX5');\n",
      "INSERT INTO Assignments (task_id, employee_id, start_date, end_date, fraction_assignment, charge_code) VALUES (2, 2, '2013-01-01', '2014-07-18', 0.75, 'CJX5');\n",
      "INSERT INTO Assignments (task_id, employee_id, start_date, end_date, fraction_assignment, charge_code) VALUES (3, 2, '2013-01-01', '2014-07-18', 0.25, 'INTERNAL');\n"
     ],
     "language": "python",
     "metadata": {},
     "outputs": [
      {
       "output_type": "stream",
       "stream": "stdout",
       "text": [
        "1 rows affected.\n",
        "1 rows affected.\n",
        "1 rows affected.\n",
        "1 rows affected.\n",
        "1 rows affected.\n",
        "1 rows affected.\n",
        "1 rows affected.\n",
        "1 rows affected.\n",
        "1 rows affected.\n",
        "1 rows affected.\n",
        "1 rows affected.\n",
        "1 rows affected.\n",
        "1 rows affected.\n",
        "1 rows affected.\n",
        "1 rows affected.\n",
        "1 rows affected.\n"
       ]
      },
      {
       "metadata": {},
       "output_type": "pyout",
       "prompt_number": 3,
       "text": [
        "[]"
       ]
      }
     ],
     "prompt_number": 3
    },
    {
     "cell_type": "code",
     "collapsed": false,
     "input": [
      "%sql select * from Employees"
     ],
     "language": "python",
     "metadata": {},
     "outputs": [
      {
       "output_type": "stream",
       "stream": "stdout",
       "text": [
        "Done.\n"
       ]
      },
      {
       "html": [
        "<table>\n",
        "    <tr>\n",
        "        <th>employee_id</th>\n",
        "        <th>name</th>\n",
        "        <th>hire_date</th>\n",
        "        <th>title</th>\n",
        "        <th>phone_number</th>\n",
        "    </tr>\n",
        "    <tr>\n",
        "        <td>1</td>\n",
        "        <td>Jenny Smith</td>\n",
        "        <td>2010-12-1</td>\n",
        "        <td>Chief Music Office</td>\n",
        "        <td>867-5309</td>\n",
        "    </tr>\n",
        "    <tr>\n",
        "        <td>2</td>\n",
        "        <td>John Doe</td>\n",
        "        <td>2011-12-1</td>\n",
        "        <td>CEO</td>\n",
        "        <td>555-1234</td>\n",
        "    </tr>\n",
        "    <tr>\n",
        "        <td>3</td>\n",
        "        <td>Worker Bee 1</td>\n",
        "        <td>2012-12-01</td>\n",
        "        <td>Worker</td>\n",
        "        <td>555-1201</td>\n",
        "    </tr>\n",
        "    <tr>\n",
        "        <td>4</td>\n",
        "        <td>Worker Bee 2</td>\n",
        "        <td>2012-12-03</td>\n",
        "        <td>Worker</td>\n",
        "        <td>555-1202</td>\n",
        "    </tr>\n",
        "    <tr>\n",
        "        <td>5</td>\n",
        "        <td>Worker Bee 3</td>\n",
        "        <td>2012-12-05</td>\n",
        "        <td>Worker</td>\n",
        "        <td>555-1203</td>\n",
        "    </tr>\n",
        "    <tr>\n",
        "        <td>6</td>\n",
        "        <td>Worker Bee 4</td>\n",
        "        <td>2012-12-07</td>\n",
        "        <td>Worker</td>\n",
        "        <td>555-1204</td>\n",
        "    </tr>\n",
        "</table>"
       ],
       "metadata": {},
       "output_type": "pyout",
       "prompt_number": 5,
       "text": [
        "[(1, u'Jenny Smith', u'2010-12-1', u'Chief Music Office', u'867-5309'),\n",
        " (2, u'John Doe', u'2011-12-1', u'CEO', u'555-1234'),\n",
        " (3, u'Worker Bee 1', u'2012-12-01', u'Worker', u'555-1201'),\n",
        " (4, u'Worker Bee 2', u'2012-12-03', u'Worker', u'555-1202'),\n",
        " (5, u'Worker Bee 3', u'2012-12-05', u'Worker', u'555-1203'),\n",
        " (6, u'Worker Bee 4', u'2012-12-07', u'Worker', u'555-1204')]"
       ]
      }
     ],
     "prompt_number": 5
    },
    {
     "cell_type": "code",
     "collapsed": false,
     "input": [
      "%%sql\n",
      "SELECT task_id, SUM((julianday(end_date) - julianday(start_date))*fraction_assignment) as Total_Worker_Days\n",
      "    FROM Assignments\n",
      "    GROUP BY task_id\n",
      "    ORDER BY Total_Worker_Days DESC;"
     ],
     "language": "python",
     "metadata": {},
     "outputs": [
      {
       "output_type": "stream",
       "stream": "stdout",
       "text": [
        "Done.\n"
       ]
      },
      {
       "html": [
        "<table>\n",
        "    <tr>\n",
        "        <th>task_id</th>\n",
        "        <th>Total_Worker_Days</th>\n",
        "    </tr>\n",
        "    <tr>\n",
        "        <td>2</td>\n",
        "        <td>2674.25</td>\n",
        "    </tr>\n",
        "    <tr>\n",
        "        <td>1</td>\n",
        "        <td>182.5</td>\n",
        "    </tr>\n",
        "    <tr>\n",
        "        <td>3</td>\n",
        "        <td>140.75</td>\n",
        "    </tr>\n",
        "</table>"
       ],
       "metadata": {},
       "output_type": "pyout",
       "prompt_number": 6,
       "text": [
        "[(2, 2674.25), (1, 182.5), (3, 140.75)]"
       ]
      }
     ],
     "prompt_number": 6
    },
    {
     "cell_type": "code",
     "collapsed": false,
     "input": [
      "%sql select column_names from Assignments"
     ],
     "language": "python",
     "metadata": {},
     "outputs": [
      {
       "output_type": "stream",
       "stream": "stdout",
       "text": [
        "(OperationalError) no such column: column_names u'select column_names from Assignments' ()\n"
       ]
      }
     ],
     "prompt_number": 18
    },
    {
     "cell_type": "code",
     "collapsed": false,
     "input": [
      "%%sql\n",
      "SELECT a.task_id, (SELECT description FROM Tasks t WHERE t.task_id=a.task_id) as description, SUM((julianday(a.end_date) - julianday(a.start_date))*a.fraction_assignment) as Total_Worker_Days\n",
      "    FROM Assignments a\n",
      "    GROUP BY a.task_id\n",
      "    ORDER BY Total_Worker_Days DESC;"
     ],
     "language": "python",
     "metadata": {},
     "outputs": [
      {
       "output_type": "stream",
       "stream": "stdout",
       "text": [
        "Done.\n"
       ]
      },
      {
       "html": [
        "<table>\n",
        "    <tr>\n",
        "        <th>task_id</th>\n",
        "        <th>description</th>\n",
        "        <th>Total_Worker_Days</th>\n",
        "    </tr>\n",
        "    <tr>\n",
        "        <td>2</td>\n",
        "        <td>Save the world.</td>\n",
        "        <td>2674.25</td>\n",
        "    </tr>\n",
        "    <tr>\n",
        "        <td>1</td>\n",
        "        <td>Hire worker bees.</td>\n",
        "        <td>182.5</td>\n",
        "    </tr>\n",
        "    <tr>\n",
        "        <td>3</td>\n",
        "        <td>Cost cutting on worker bees.</td>\n",
        "        <td>140.75</td>\n",
        "    </tr>\n",
        "</table>"
       ],
       "metadata": {},
       "output_type": "pyout",
       "prompt_number": 19,
       "text": [
        "[(2, u'Save the world.', 2674.25),\n",
        " (1, u'Hire worker bees.', 182.5),\n",
        " (3, u'Cost cutting on worker bees.', 140.75)]"
       ]
      }
     ],
     "prompt_number": 19
    },
    {
     "cell_type": "code",
     "collapsed": false,
     "input": [
      "%%sql\n",
      "SELECT ad.task_id, ad.Total_Worker_Days \n",
      "    FROM (SELECT task_id, SUM((julianday(end_date) - julianday(start_date))*fraction_assignment) as Total_Worker_Days\n",
      "            FROM Assignments\n",
      "            GROUP BY task_id\n",
      "            ORDER BY Total_Worker_Days DESC) as ad\n",
      "    WHERE ad.task_id=(SELECT task_id FROM Tasks WHERE description LIKE 'Save%');"
     ],
     "language": "python",
     "metadata": {},
     "outputs": [
      {
       "output_type": "stream",
       "stream": "stdout",
       "text": [
        "Done.\n"
       ]
      },
      {
       "html": [
        "<table>\n",
        "    <tr>\n",
        "        <th>task_id</th>\n",
        "        <th>Total_Worker_Days</th>\n",
        "    </tr>\n",
        "    <tr>\n",
        "        <td>2</td>\n",
        "        <td>2674.25</td>\n",
        "    </tr>\n",
        "</table>"
       ],
       "metadata": {},
       "output_type": "pyout",
       "prompt_number": 20,
       "text": [
        "[(2, 2674.25)]"
       ]
      }
     ],
     "prompt_number": 20
    },
    {
     "cell_type": "code",
     "collapsed": false,
     "input": [
      "%%sql \n",
      "SELECT a.*, t.* \n",
      "  FROM Assignments a, Tasks t \n",
      "  WHERE a.task_id=t.task_id \n",
      "    AND employee_id=2 \n",
      "    AND status=0\n",
      "  ORDER BY t.deadline;"
     ],
     "language": "python",
     "metadata": {},
     "outputs": [
      {
       "output_type": "stream",
       "stream": "stdout",
       "text": [
        "Done.\n"
       ]
      },
      {
       "html": [
        "<table>\n",
        "    <tr>\n",
        "        <th>assignment_id</th>\n",
        "        <th>task_id</th>\n",
        "        <th>employee_id</th>\n",
        "        <th>start_date</th>\n",
        "        <th>end_date</th>\n",
        "        <th>charge_code</th>\n",
        "        <th>fraction_assignment</th>\n",
        "        <th>task_id_1</th>\n",
        "        <th>deadline</th>\n",
        "        <th>status</th>\n",
        "        <th>description</th>\n",
        "    </tr>\n",
        "    <tr>\n",
        "        <td>6</td>\n",
        "        <td>2</td>\n",
        "        <td>2</td>\n",
        "        <td>2013-01-01</td>\n",
        "        <td>2014-07-18</td>\n",
        "        <td>CJX5</td>\n",
        "        <td>0.75</td>\n",
        "        <td>2</td>\n",
        "        <td>2014-07-18</td>\n",
        "        <td>0</td>\n",
        "        <td>Save the world.</td>\n",
        "    </tr>\n",
        "    <tr>\n",
        "        <td>7</td>\n",
        "        <td>3</td>\n",
        "        <td>2</td>\n",
        "        <td>2013-01-01</td>\n",
        "        <td>2014-07-18</td>\n",
        "        <td>INTERNAL</td>\n",
        "        <td>0.25</td>\n",
        "        <td>3</td>\n",
        "        <td>2014-12-11</td>\n",
        "        <td>0</td>\n",
        "        <td>Cost cutting on worker bees.</td>\n",
        "    </tr>\n",
        "</table>"
       ],
       "metadata": {},
       "output_type": "pyout",
       "prompt_number": 22,
       "text": [
        "[(6, 2, 2, u'2013-01-01', u'2014-07-18', u'CJX5', 0.75, 2, u'2014-07-18', 0, u'Save the world.'),\n",
        " (7, 3, 2, u'2013-01-01', u'2014-07-18', u'INTERNAL', 0.25, 3, u'2014-12-11', 0, u'Cost cutting on worker bees.')]"
       ]
      }
     ],
     "prompt_number": 22
    },
    {
     "cell_type": "code",
     "collapsed": false,
     "input": [],
     "language": "python",
     "metadata": {},
     "outputs": []
    }
   ],
   "metadata": {}
  }
 ]
}