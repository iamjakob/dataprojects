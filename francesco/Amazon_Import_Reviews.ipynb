{
 "metadata": {
  "name": ""
 },
 "nbformat": 3,
 "nbformat_minor": 0,
 "worksheets": [
  {
   "cells": [
    {
     "cell_type": "code",
     "collapsed": false,
     "input": [
      "import pandas as pd\n",
      "import gzip\n",
      "import json\n",
      "\n",
      "categories = ['Arts',\n",
      "              'Automotive',\n",
      "              'Baby',\n",
      "              'Beauty',\n",
      "              'CellPhones_&_Accessories',\n",
      "              'Clothing_&_Accessories',\n",
      "              'Electronics',\n",
      "              'finefoods',\n",
      "              'movies',\n",
      "              'Gourmet_Foods']\n",
      "\n",
      "def clean(eName):\n",
      "    i = eName.find('/')\n",
      "    return eName[i+1:]\n",
      "\n",
      "def set_type(entry):\n",
      "    entry['score'] = float(entry['score'])\n",
      "\n",
      "def parse(category):\n",
      "    \"\"\"\n",
      "    Ex: parse('Electronics')\n",
      "    \"\"\"\n",
      "    f = gzip.open('./Data/{0}.txt.gz'.format(category), 'r')\n",
      "    entry = {}\n",
      "    for l in f:\n",
      "        try:\n",
      "            l = l.strip().decode(encoding = 'utf8')\n",
      "        except:\n",
      "            continue\n",
      "        colonPos = l.find(': ')\n",
      "        if colonPos == -1:\n",
      "            try:\n",
      "                set_type(entry)\n",
      "            except:\n",
      "                continue\n",
      "            yield entry\n",
      "            entry = {}\n",
      "            continue\n",
      "        eName = clean(l[:colonPos])\n",
      "        rest = l[colonPos+2:]\n",
      "        entry[eName] = rest\n",
      "\n",
      "gen = parse('Electronics')"
     ],
     "language": "python",
     "metadata": {},
     "outputs": [],
     "prompt_number": 1
    },
    {
     "cell_type": "code",
     "collapsed": false,
     "input": [
      "df = pd.DataFrame([x for x in gen])"
     ],
     "language": "python",
     "metadata": {},
     "outputs": [],
     "prompt_number": 2
    },
    {
     "cell_type": "code",
     "collapsed": false,
     "input": [
      "#Empty reviews appear as NaN. Remove NaN reviews:\n",
      "df.text[df.text.isnull()] = ''"
     ],
     "language": "python",
     "metadata": {},
     "outputs": [],
     "prompt_number": 3
    },
    {
     "cell_type": "code",
     "collapsed": false,
     "input": [
      "total = df.shape[0]\n",
      "columns = df.columns\n",
      "print \"{0} observations\\n\".format(total), \"Columns: \"+\", \".join(columns)"
     ],
     "language": "python",
     "metadata": {},
     "outputs": [
      {
       "output_type": "stream",
       "stream": "stdout",
       "text": [
        "1241778 observations\n",
        "Columns: helpfulness, price, productId, profileName, score, summary, text, time, title, userId\n"
       ]
      }
     ],
     "prompt_number": 6
    },
    {
     "cell_type": "markdown",
     "metadata": {},
     "source": [
      "###Review distribution\n",
      "\n",
      "Reviews split to the sides"
     ]
    },
    {
     "cell_type": "code",
     "collapsed": false,
     "input": [
      "hist(df.score, bins = 5)\n",
      "plot()"
     ],
     "language": "python",
     "metadata": {},
     "outputs": [
      {
       "metadata": {},
       "output_type": "pyout",
       "prompt_number": 90,
       "text": [
        "[]"
       ]
      },
      {
       "metadata": {},
       "output_type": "display_data",
       "png": "[encoded data removed]",
       "text": [
        "<matplotlib.figure.Figure at 0x7f69f6626f60>"
       ]
      }
     ],
     "prompt_number": 90
    },
    {
     "cell_type": "markdown",
     "metadata": {},
     "source": [
      "Average review length:"
     ]
    },
    {
     "cell_type": "code",
     "collapsed": false,
     "input": [
      "lengths = [len(x) for x in df.text]"
     ],
     "language": "python",
     "metadata": {},
     "outputs": [],
     "prompt_number": 66
    },
    {
     "cell_type": "code",
     "collapsed": false,
     "input": [
      "pd.DataFrame(lengths).describe()"
     ],
     "language": "python",
     "metadata": {},
     "outputs": [
      {
       "html": [
        "<div style=\"max-height:1000px;max-width:1500px;overflow:auto;\">\n",
        "<table border=\"1\" class=\"dataframe\">\n",
        "  <thead>\n",
        "    <tr style=\"text-align: right;\">\n",
        "      <th></th>\n",
        "      <th>0</th>\n",
        "    </tr>\n",
        "  </thead>\n",
        "  <tbody>\n",
        "    <tr>\n",
        "      <th>count</th>\n",
        "      <td> 1241778.000000</td>\n",
        "    </tr>\n",
        "    <tr>\n",
        "      <th>mean</th>\n",
        "      <td>     582.611794</td>\n",
        "    </tr>\n",
        "    <tr>\n",
        "      <th>std</th>\n",
        "      <td>     679.160203</td>\n",
        "    </tr>\n",
        "    <tr>\n",
        "      <th>min</th>\n",
        "      <td>       0.000000</td>\n",
        "    </tr>\n",
        "    <tr>\n",
        "      <th>25%</th>\n",
        "      <td>     197.000000</td>\n",
        "    </tr>\n",
        "    <tr>\n",
        "      <th>50%</th>\n",
        "      <td>     375.000000</td>\n",
        "    </tr>\n",
        "    <tr>\n",
        "      <th>75%</th>\n",
        "      <td>     704.000000</td>\n",
        "    </tr>\n",
        "    <tr>\n",
        "      <th>max</th>\n",
        "      <td>   31642.000000</td>\n",
        "    </tr>\n",
        "  </tbody>\n",
        "</table>\n",
        "<p>8 rows \u00d7 1 columns</p>\n",
        "</div>"
       ],
       "metadata": {},
       "output_type": "pyout",
       "prompt_number": 68,
       "text": [
        "                    0\n",
        "count  1241778.000000\n",
        "mean       582.611794\n",
        "std        679.160203\n",
        "min          0.000000\n",
        "25%        197.000000\n",
        "50%        375.000000\n",
        "75%        704.000000\n",
        "max      31642.000000\n",
        "\n",
        "[8 rows x 1 columns]"
       ]
      }
     ],
     "prompt_number": 68
    },
    {
     "cell_type": "code",
     "collapsed": false,
     "input": [
      "short_review = [rev for rev in lengths if rev < 5000]\n",
      "long_review  = [rev for rev in lengths if rev >= 5000]"
     ],
     "language": "python",
     "metadata": {},
     "outputs": [],
     "prompt_number": 73
    },
    {
     "cell_type": "code",
     "collapsed": false,
     "input": [
      "hist(short_review, bins = 100)\n",
      "show()"
     ],
     "language": "python",
     "metadata": {},
     "outputs": [
      {
       "metadata": {},
       "output_type": "display_data",
       "png": "[encoded data removed]",
       "text": [
        "<matplotlib.figure.Figure at 0x7f69f68869e8>"
       ]
      }
     ],
     "prompt_number": 80
    },
    {
     "cell_type": "code",
     "collapsed": false,
     "input": [
      "short_review = [rev for rev in lengths if rev < 500]"
     ],
     "language": "python",
     "metadata": {},
     "outputs": [],
     "prompt_number": 82
    },
    {
     "cell_type": "code",
     "collapsed": false,
     "input": [
      "hist(short_review, bins = 100)\n",
      "show()"
     ],
     "language": "python",
     "metadata": {},
     "outputs": [
      {
       "metadata": {},
       "output_type": "display_data",
       "png": "[encoded data removed]",
       "text": [
        "<matplotlib.figure.Figure at 0x7f69f671b710>"
       ]
      }
     ],
     "prompt_number": 83
    },
    {
     "cell_type": "code",
     "collapsed": false,
     "input": [
      "hist(df[df.text.map(len) > 150].score, bins = 5)\n",
      "plot()"
     ],
     "language": "python",
     "metadata": {},
     "outputs": [
      {
       "metadata": {},
       "output_type": "pyout",
       "prompt_number": 100,
       "text": [
        "[]"
       ]
      },
      {
       "metadata": {},
       "output_type": "display_data",
       "png": "[encoded data removed]",
       "text": [
        "<matplotlib.figure.Figure at 0x7f69f647f0b8>"
       ]
      }
     ],
     "prompt_number": 100
    },
    {
     "cell_type": "code",
     "collapsed": false,
     "input": [],
     "language": "python",
     "metadata": {},
     "outputs": []
    }
   ],
   "metadata": {}
  }
 ]
}