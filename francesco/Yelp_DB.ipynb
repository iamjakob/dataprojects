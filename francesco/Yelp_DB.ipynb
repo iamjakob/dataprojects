{
 "metadata": {
  "name": ""
 },
 "nbformat": 3,
 "nbformat_minor": 0,
 "worksheets": [
  {
   "cells": [
    {
     "cell_type": "code",
     "collapsed": false,
     "input": [
      "import pandas as pd\n",
      "import json\n",
      "import psycopg2\n",
      "\n",
      "%run auth.nogit.py"
     ],
     "language": "python",
     "metadata": {},
     "outputs": [],
     "prompt_number": 1
    },
    {
     "cell_type": "code",
     "collapsed": false,
     "input": [
      "review = pd.read_csv(\"Data/review.csv\")\n",
      "business = pd.read_csv(\"Data/business.csv\")\n",
      "user = pd.read_csv(\"Data/user.csv\")"
     ],
     "language": "python",
     "metadata": {},
     "outputs": [],
     "prompt_number": 2
    },
    {
     "cell_type": "markdown",
     "metadata": {},
     "source": [
      "Instead of the hash, use integers for\n",
      "`busines_id`,\n",
      "`user_id` and `review_id`.\n",
      "\n",
      "The `votes` column in review needs to be expanded into three columns\n",
      "`cool`, `useful` and `funny`.\n",
      "\n",
      "I will need another table for `categories` in `business`, while drop `neighborhoods` and `school`.\n",
      "\n",
      "Also for user, `votes` will be expanded."
     ]
    },
    {
     "cell_type": "markdown",
     "metadata": {},
     "source": [
      "##User Table"
     ]
    },
    {
     "cell_type": "code",
     "collapsed": false,
     "input": [
      "user.head(2)"
     ],
     "language": "python",
     "metadata": {},
     "outputs": [
      {
       "html": [
        "<div style=\"max-height:1000px;max-width:1500px;overflow:auto;\">\n",
        "<table border=\"1\" class=\"dataframe\">\n",
        "  <thead>\n",
        "    <tr style=\"text-align: right;\">\n",
        "      <th></th>\n",
        "      <th>Unnamed: 0</th>\n",
        "      <th>average_stars</th>\n",
        "      <th>name</th>\n",
        "      <th>review_count</th>\n",
        "      <th>type</th>\n",
        "      <th>url</th>\n",
        "      <th>user_id</th>\n",
        "      <th>votes</th>\n",
        "    </tr>\n",
        "  </thead>\n",
        "  <tbody>\n",
        "    <tr>\n",
        "      <th>0</th>\n",
        "      <td> 0</td>\n",
        "      <td> 3.225806</td>\n",
        "      <td>    LiiLii C.</td>\n",
        "      <td> 31</td>\n",
        "      <td> user</td>\n",
        "      <td> http://www.yelp.com/user_details?userid=JkeCKy...</td>\n",
        "      <td> JkeCKyEaQlbLd9uZYl4DjA</td>\n",
        "      <td> {'cool': 18, 'useful': 48, 'funny': 15}</td>\n",
        "    </tr>\n",
        "    <tr>\n",
        "      <th>1</th>\n",
        "      <td> 1</td>\n",
        "      <td> 3.000000</td>\n",
        "      <td> Jan Ellen T.</td>\n",
        "      <td>  4</td>\n",
        "      <td> user</td>\n",
        "      <td> http://www.yelp.com/user_details?userid=cs91PA...</td>\n",
        "      <td> cs91PAsv6esdWAaSkzm2lg</td>\n",
        "      <td>    {'cool': 0, 'useful': 2, 'funny': 0}</td>\n",
        "    </tr>\n",
        "  </tbody>\n",
        "</table>\n",
        "<p>2 rows \u00d7 8 columns</p>\n",
        "</div>"
       ],
       "metadata": {},
       "output_type": "pyout",
       "prompt_number": 3,
       "text": [
        "   Unnamed: 0  average_stars          name  review_count  type  \\\n",
        "0           0       3.225806     LiiLii C.            31  user   \n",
        "1           1       3.000000  Jan Ellen T.             4  user   \n",
        "\n",
        "                                                 url                 user_id  \\\n",
        "0  http://www.yelp.com/user_details?userid=JkeCKy...  JkeCKyEaQlbLd9uZYl4DjA   \n",
        "1  http://www.yelp.com/user_details?userid=cs91PA...  cs91PAsv6esdWAaSkzm2lg   \n",
        "\n",
        "                                     votes  \n",
        "0  {'cool': 18, 'useful': 48, 'funny': 15}  \n",
        "1     {'cool': 0, 'useful': 2, 'funny': 0}  \n",
        "\n",
        "[2 rows x 8 columns]"
       ]
      }
     ],
     "prompt_number": 3
    },
    {
     "cell_type": "code",
     "collapsed": false,
     "input": [
      "cols = user.columns\n",
      "user = user[cols[1:4]+cols[5:]]"
     ],
     "language": "python",
     "metadata": {},
     "outputs": [],
     "prompt_number": 4
    },
    {
     "cell_type": "code",
     "collapsed": false,
     "input": [
      "votes = pd.DataFrame([json.loads(entry.replace(\"'\", '\"')) for entry in user.votes])"
     ],
     "language": "python",
     "metadata": {},
     "outputs": [],
     "prompt_number": 5
    },
    {
     "cell_type": "code",
     "collapsed": false,
     "input": [
      "user['cool'] = votes.cool\n",
      "user['funny'] = votes.funny\n",
      "user['useful'] = votes.useful"
     ],
     "language": "python",
     "metadata": {},
     "outputs": [],
     "prompt_number": 6
    },
    {
     "cell_type": "markdown",
     "metadata": {},
     "source": [
      "Remove the old votes column."
     ]
    },
    {
     "cell_type": "code",
     "collapsed": false,
     "input": [
      "user_hash_to_id = {x[1]['user_id']: i for i, x in enumerate(user.iterrows())}\n",
      "user_id_to_hash = {i: x[1]['user_id'] for i, x in enumerate(user.iterrows())}"
     ],
     "language": "python",
     "metadata": {},
     "outputs": [],
     "prompt_number": 7
    },
    {
     "cell_type": "code",
     "collapsed": false,
     "input": [
      "user = user.drop('user_id', 1)\n",
      "user = user.drop('votes', 1)"
     ],
     "language": "python",
     "metadata": {},
     "outputs": [],
     "prompt_number": 8
    },
    {
     "cell_type": "markdown",
     "metadata": {},
     "source": [
      "Replace hash id with integer id."
     ]
    },
    {
     "cell_type": "code",
     "collapsed": false,
     "input": [
      "user['id'] = range(len(user))\n",
      "user.head(3)"
     ],
     "language": "python",
     "metadata": {},
     "outputs": [
      {
       "html": [
        "<div style=\"max-height:1000px;max-width:1500px;overflow:auto;\">\n",
        "<table border=\"1\" class=\"dataframe\">\n",
        "  <thead>\n",
        "    <tr style=\"text-align: right;\">\n",
        "      <th></th>\n",
        "      <th>average_stars</th>\n",
        "      <th>name</th>\n",
        "      <th>review_count</th>\n",
        "      <th>url</th>\n",
        "      <th>cool</th>\n",
        "      <th>funny</th>\n",
        "      <th>useful</th>\n",
        "      <th>id</th>\n",
        "    </tr>\n",
        "  </thead>\n",
        "  <tbody>\n",
        "    <tr>\n",
        "      <th>0</th>\n",
        "      <td> 3.225806</td>\n",
        "      <td>    LiiLii C.</td>\n",
        "      <td> 31</td>\n",
        "      <td> http://www.yelp.com/user_details?userid=JkeCKy...</td>\n",
        "      <td> 18</td>\n",
        "      <td> 15</td>\n",
        "      <td> 48</td>\n",
        "      <td> 0</td>\n",
        "    </tr>\n",
        "    <tr>\n",
        "      <th>1</th>\n",
        "      <td> 3.000000</td>\n",
        "      <td> Jan Ellen T.</td>\n",
        "      <td>  4</td>\n",
        "      <td> http://www.yelp.com/user_details?userid=cs91PA...</td>\n",
        "      <td>  0</td>\n",
        "      <td>  0</td>\n",
        "      <td>  2</td>\n",
        "      <td> 1</td>\n",
        "    </tr>\n",
        "    <tr>\n",
        "      <th>2</th>\n",
        "      <td> 3.606061</td>\n",
        "      <td>      Saki U.</td>\n",
        "      <td> 33</td>\n",
        "      <td> http://www.yelp.com/user_details?userid=cMgGj2...</td>\n",
        "      <td> 10</td>\n",
        "      <td>  8</td>\n",
        "      <td> 19</td>\n",
        "      <td> 2</td>\n",
        "    </tr>\n",
        "  </tbody>\n",
        "</table>\n",
        "<p>3 rows \u00d7 8 columns</p>\n",
        "</div>"
       ],
       "metadata": {},
       "output_type": "pyout",
       "prompt_number": 9,
       "text": [
        "   average_stars          name  review_count  \\\n",
        "0       3.225806     LiiLii C.            31   \n",
        "1       3.000000  Jan Ellen T.             4   \n",
        "2       3.606061       Saki U.            33   \n",
        "\n",
        "                                                 url  cool  funny  useful  id  \n",
        "0  http://www.yelp.com/user_details?userid=JkeCKy...    18     15      48   0  \n",
        "1  http://www.yelp.com/user_details?userid=cs91PA...     0      0       2   1  \n",
        "2  http://www.yelp.com/user_details?userid=cMgGj2...    10      8      19   2  \n",
        "\n",
        "[3 rows x 8 columns]"
       ]
      }
     ],
     "prompt_number": 9
    },
    {
     "cell_type": "markdown",
     "metadata": {},
     "source": [
      "###Schema\n",
      "\n",
      "Our yelp_user table will look like this:\n",
      "\n",
      "`user_id serial`<br>\n",
      "`name varchar(33)`<br>\n",
      "`review_count int`<br>\n",
      "`average_stars real`<br>\n",
      "`url varchar(62)`<br>\n",
      "`cool int`<br>\n",
      "`funny int`<br>\n",
      "`useful int`"
     ]
    },
    {
     "cell_type": "code",
     "collapsed": false,
     "input": [
      "conct = psycopg2.connect(\"dbname=yelp_academic user=%s\" % username)\n",
      "cursr = conct.cursor()"
     ],
     "language": "python",
     "metadata": {},
     "outputs": [],
     "prompt_number": 10
    },
    {
     "cell_type": "code",
     "collapsed": false,
     "input": [
      "cursr.execute(\"DROP TABLE IF EXISTS yelp_user\")\n",
      "cursr.execute(\"CREATE TABLE yelp_user (\"\n",
      "              \" id serial PRIMARY KEY,\"\n",
      "              \" name varchar(33),\"\n",
      "              \" review_count int,\"\n",
      "              \" average_stars real,\"\n",
      "              \" url varchar(62),\"\n",
      "              \" cool int,\"\n",
      "              \" funny int,\"\n",
      "              \" useful int);\")"
     ],
     "language": "python",
     "metadata": {},
     "outputs": [],
     "prompt_number": 11
    },
    {
     "cell_type": "code",
     "collapsed": false,
     "input": [
      "for i, row in user.iterrows():\n",
      "    cursr.execute(\"\"\"INSERT INTO yelp_user\n",
      "        (id, name, review_count, average_stars, url, cool, funny, useful) VALUES\n",
      "        (%(id)s, %(name)s, %(review_count)s, %(average_stars)s, %(url)s, %(cool)s, %(funny)s, %(useful)s);\"\"\", row)"
     ],
     "language": "python",
     "metadata": {},
     "outputs": [],
     "prompt_number": 12
    },
    {
     "cell_type": "code",
     "collapsed": false,
     "input": [
      "conct.commit()\n",
      "cursr.close()\n",
      "conct.close()"
     ],
     "language": "python",
     "metadata": {},
     "outputs": [],
     "prompt_number": 13
    },
    {
     "cell_type": "markdown",
     "metadata": {},
     "source": [
      "##Business Table"
     ]
    },
    {
     "cell_type": "code",
     "collapsed": false,
     "input": [
      "business.drop(['Unnamed: 0', 'neighborhoods', 'schools', 'categories', 'type'], axis=1, inplace=True)"
     ],
     "language": "python",
     "metadata": {},
     "outputs": [],
     "prompt_number": 14
    },
    {
     "cell_type": "code",
     "collapsed": false,
     "input": [
      "business.head(3)"
     ],
     "language": "python",
     "metadata": {},
     "outputs": [
      {
       "html": [
        "<div style=\"max-height:1000px;max-width:1500px;overflow:auto;\">\n",
        "<table border=\"1\" class=\"dataframe\">\n",
        "  <thead>\n",
        "    <tr style=\"text-align: right;\">\n",
        "      <th></th>\n",
        "      <th>business_id</th>\n",
        "      <th>city</th>\n",
        "      <th>full_address</th>\n",
        "      <th>latitude</th>\n",
        "      <th>longitude</th>\n",
        "      <th>name</th>\n",
        "      <th>open</th>\n",
        "      <th>photo_url</th>\n",
        "      <th>review_count</th>\n",
        "      <th>stars</th>\n",
        "      <th>state</th>\n",
        "      <th>url</th>\n",
        "    </tr>\n",
        "  </thead>\n",
        "  <tbody>\n",
        "    <tr>\n",
        "      <th>0</th>\n",
        "      <td> Iu-oeVzv8ZgP18NIB0UMqg</td>\n",
        "      <td> Los Angeles</td>\n",
        "      <td> 3320 S Hill St\\nSouth East LA\\nLos Angeles, CA...</td>\n",
        "      <td> 34.019710</td>\n",
        "      <td>-118.274281</td>\n",
        "      <td> Southern California Medical Group</td>\n",
        "      <td> True</td>\n",
        "      <td> http://s3-media1.ak.yelpcdn.com/bphoto/SdUWxRE...</td>\n",
        "      <td> 2</td>\n",
        "      <td> 3.5</td>\n",
        "      <td> CA</td>\n",
        "      <td> http://www.yelp.com/biz/southern-california-me...</td>\n",
        "    </tr>\n",
        "    <tr>\n",
        "      <th>1</th>\n",
        "      <td> ae5tm46-ewAhUJ6HR4fXFA</td>\n",
        "      <td>   Cambridge</td>\n",
        "      <td> 12 Arrow St\\nSte 108\\nHarvard Square\\nCambridg...</td>\n",
        "      <td> 42.371133</td>\n",
        "      <td> -71.114816</td>\n",
        "      <td>            Harvard Square Shiatsu</td>\n",
        "      <td> True</td>\n",
        "      <td> http://s3-media1.ak.yelpcdn.com/bphoto/IGjhD4m...</td>\n",
        "      <td> 4</td>\n",
        "      <td> 4.0</td>\n",
        "      <td> MA</td>\n",
        "      <td> http://www.yelp.com/biz/harvard-square-shiatsu...</td>\n",
        "    </tr>\n",
        "    <tr>\n",
        "      <th>2</th>\n",
        "      <td> lb9qELwduFgBo408x2VKOA</td>\n",
        "      <td>   Kitchener</td>\n",
        "      <td>        19 King St E\\n2nd floor\\nKitchener, ON N2G</td>\n",
        "      <td> 43.449645</td>\n",
        "      <td> -80.488824</td>\n",
        "      <td>          Faith &amp; Glory Collective</td>\n",
        "      <td> True</td>\n",
        "      <td> http://s3-media1.ak.yelpcdn.com/assets/2/www/i...</td>\n",
        "      <td> 2</td>\n",
        "      <td> 4.0</td>\n",
        "      <td> ON</td>\n",
        "      <td> http://www.yelp.ca/biz/faith-and-glory-collect...</td>\n",
        "    </tr>\n",
        "  </tbody>\n",
        "</table>\n",
        "<p>3 rows \u00d7 12 columns</p>\n",
        "</div>"
       ],
       "metadata": {},
       "output_type": "pyout",
       "prompt_number": 15,
       "text": [
        "              business_id         city  \\\n",
        "0  Iu-oeVzv8ZgP18NIB0UMqg  Los Angeles   \n",
        "1  ae5tm46-ewAhUJ6HR4fXFA    Cambridge   \n",
        "2  lb9qELwduFgBo408x2VKOA    Kitchener   \n",
        "\n",
        "                                        full_address   latitude   longitude  \\\n",
        "0  3320 S Hill St\\nSouth East LA\\nLos Angeles, CA...  34.019710 -118.274281   \n",
        "1  12 Arrow St\\nSte 108\\nHarvard Square\\nCambridg...  42.371133  -71.114816   \n",
        "2         19 King St E\\n2nd floor\\nKitchener, ON N2G  43.449645  -80.488824   \n",
        "\n",
        "                                name  open  \\\n",
        "0  Southern California Medical Group  True   \n",
        "1             Harvard Square Shiatsu  True   \n",
        "2           Faith & Glory Collective  True   \n",
        "\n",
        "                                           photo_url  review_count  stars  \\\n",
        "0  http://s3-media1.ak.yelpcdn.com/bphoto/SdUWxRE...             2    3.5   \n",
        "1  http://s3-media1.ak.yelpcdn.com/bphoto/IGjhD4m...             4    4.0   \n",
        "2  http://s3-media1.ak.yelpcdn.com/assets/2/www/i...             2    4.0   \n",
        "\n",
        "  state                                                url  \n",
        "0    CA  http://www.yelp.com/biz/southern-california-me...  \n",
        "1    MA  http://www.yelp.com/biz/harvard-square-shiatsu...  \n",
        "2    ON  http://www.yelp.ca/biz/faith-and-glory-collect...  \n",
        "\n",
        "[3 rows x 12 columns]"
       ]
      }
     ],
     "prompt_number": 15
    },
    {
     "cell_type": "code",
     "collapsed": false,
     "input": [
      "len(business)"
     ],
     "language": "python",
     "metadata": {},
     "outputs": [
      {
       "metadata": {},
       "output_type": "pyout",
       "prompt_number": 4,
       "text": [
        "13490"
       ]
      }
     ],
     "prompt_number": 4
    },
    {
     "cell_type": "code",
     "collapsed": false,
     "input": [
      "bsn_hash_to_id = {x[1]['business_id']: i for i, x in enumerate(business.iterrows())}\n",
      "bsn_id_to_hash = {i: x[1]['business_id'] for i, x in enumerate(business.iterrows())}"
     ],
     "language": "python",
     "metadata": {},
     "outputs": [],
     "prompt_number": 16
    },
    {
     "cell_type": "code",
     "collapsed": false,
     "input": [
      "business.drop('business_id', axis = 1, inplace=True)\n",
      "business['id'] = range(len(business))"
     ],
     "language": "python",
     "metadata": {},
     "outputs": [],
     "prompt_number": 17
    },
    {
     "cell_type": "code",
     "collapsed": false,
     "input": [
      "business.head(1)"
     ],
     "language": "python",
     "metadata": {},
     "outputs": [
      {
       "html": [
        "<div style=\"max-height:1000px;max-width:1500px;overflow:auto;\">\n",
        "<table border=\"1\" class=\"dataframe\">\n",
        "  <thead>\n",
        "    <tr style=\"text-align: right;\">\n",
        "      <th></th>\n",
        "      <th>city</th>\n",
        "      <th>full_address</th>\n",
        "      <th>latitude</th>\n",
        "      <th>longitude</th>\n",
        "      <th>name</th>\n",
        "      <th>open</th>\n",
        "      <th>photo_url</th>\n",
        "      <th>review_count</th>\n",
        "      <th>stars</th>\n",
        "      <th>state</th>\n",
        "      <th>url</th>\n",
        "      <th>id</th>\n",
        "    </tr>\n",
        "  </thead>\n",
        "  <tbody>\n",
        "    <tr>\n",
        "      <th>0</th>\n",
        "      <td> Los Angeles</td>\n",
        "      <td> 3320 S Hill St\\nSouth East LA\\nLos Angeles, CA...</td>\n",
        "      <td> 34.01971</td>\n",
        "      <td>-118.274281</td>\n",
        "      <td> Southern California Medical Group</td>\n",
        "      <td> True</td>\n",
        "      <td> http://s3-media1.ak.yelpcdn.com/bphoto/SdUWxRE...</td>\n",
        "      <td> 2</td>\n",
        "      <td> 3.5</td>\n",
        "      <td> CA</td>\n",
        "      <td> http://www.yelp.com/biz/southern-california-me...</td>\n",
        "      <td> 0</td>\n",
        "    </tr>\n",
        "  </tbody>\n",
        "</table>\n",
        "<p>1 rows \u00d7 12 columns</p>\n",
        "</div>"
       ],
       "metadata": {},
       "output_type": "pyout",
       "prompt_number": 18,
       "text": [
        "          city                                       full_address  latitude  \\\n",
        "0  Los Angeles  3320 S Hill St\\nSouth East LA\\nLos Angeles, CA...  34.01971   \n",
        "\n",
        "    longitude                               name  open  \\\n",
        "0 -118.274281  Southern California Medical Group  True   \n",
        "\n",
        "                                           photo_url  review_count  stars  \\\n",
        "0  http://s3-media1.ak.yelpcdn.com/bphoto/SdUWxRE...             2    3.5   \n",
        "\n",
        "  state                                                url  id  \n",
        "0    CA  http://www.yelp.com/biz/southern-california-me...   0  \n",
        "\n",
        "[1 rows x 12 columns]"
       ]
      }
     ],
     "prompt_number": 18
    },
    {
     "cell_type": "markdown",
     "metadata": {},
     "source": [
      "###Schema\n",
      "\n",
      "`business_id serial PRIMARY KEY`<br/>\n",
      "`name varchar(64)`<br/>\n",
      "`url varchar(97)`<br/>\n",
      "`stars double`<br/>\n",
      "`review_count int`<br/>\n",
      "`photo_url varchar(86)`<br/>\n",
      "`city varchar(37)`<br/>\n",
      "`full_address varchar(135)`<br/>\n",
      "`state varchar(2)`<br/>\n",
      "`latitude real`<br/>\n",
      "`longitude real`<br/>\n",
      "`open boolean`"
     ]
    },
    {
     "cell_type": "code",
     "collapsed": false,
     "input": [
      "conct = psycopg2.connect(\"dbname=yelp_academic user=%s\" % username)\n",
      "cursr = conct.cursor()"
     ],
     "language": "python",
     "metadata": {},
     "outputs": [],
     "prompt_number": 19
    },
    {
     "cell_type": "code",
     "collapsed": false,
     "input": [
      "cursr.execute(\"DROP TABLE IF EXISTS business\")\n",
      "cursr.execute(\"CREATE TABLE business (\"\n",
      "              \"id serial PRIMARY KEY,\"\n",
      "              \" name varchar(64),\"\n",
      "              \" url varchar(97),\"\n",
      "              \" stars real,\"\n",
      "              \" review_count int,\"\n",
      "              \" photo_url varchar(86),\"\n",
      "              \" city varchar(37),\"\n",
      "              \" full_address varchar(135),\"\n",
      "              \" state varchar(2),\"\n",
      "              \" latitude real,\"\n",
      "              \" longitude real,\"\n",
      "              \" open boolean);\")"
     ],
     "language": "python",
     "metadata": {},
     "outputs": [],
     "prompt_number": 20
    },
    {
     "cell_type": "code",
     "collapsed": false,
     "input": [
      "for i, row in business.iterrows():\n",
      "    cursr.execute(\"\"\"INSERT INTO business (id, name, url, stars, review_count,\n",
      "                     photo_url, city, full_address, state, latitude, longitude, open)\n",
      "                     VALUES (%(id)s, %(name)s, %(url)s, %(stars)s, %(review_count)s,\n",
      "                     %(photo_url)s, %(city)s, %(full_address)s, %(state)s, %(latitude)s, %(longitude)s, %(open)s);\"\"\", row)"
     ],
     "language": "python",
     "metadata": {},
     "outputs": [],
     "prompt_number": 21
    },
    {
     "cell_type": "code",
     "collapsed": false,
     "input": [
      "conct.commit()\n",
      "cursr.close()\n",
      "conct.close()"
     ],
     "language": "python",
     "metadata": {},
     "outputs": [],
     "prompt_number": 22
    },
    {
     "cell_type": "heading",
     "level": 2,
     "metadata": {},
     "source": [
      "Review Table"
     ]
    },
    {
     "cell_type": "code",
     "collapsed": false,
     "input": [
      "review.drop(['Unnamed: 0', 'type', 'review_id'], axis=1, inplace=True)\n",
      "review.head(2)"
     ],
     "language": "python",
     "metadata": {},
     "outputs": [
      {
       "html": [
        "<div style=\"max-height:1000px;max-width:1500px;overflow:auto;\">\n",
        "<table border=\"1\" class=\"dataframe\">\n",
        "  <thead>\n",
        "    <tr style=\"text-align: right;\">\n",
        "      <th></th>\n",
        "      <th>business_id</th>\n",
        "      <th>date</th>\n",
        "      <th>stars</th>\n",
        "      <th>text</th>\n",
        "      <th>user_id</th>\n",
        "      <th>votes</th>\n",
        "    </tr>\n",
        "  </thead>\n",
        "  <tbody>\n",
        "    <tr>\n",
        "      <th>0</th>\n",
        "      <td> wbpbaWBfU54JbjLIDwERQA</td>\n",
        "      <td> 2009-06-09</td>\n",
        "      <td> 5</td>\n",
        "      <td> I'm a fan of soft serve ice cream and Guptill'...</td>\n",
        "      <td> kT43SxDgMGzbeXpO51f0hQ</td>\n",
        "      <td> {'cool': 1, 'useful': 0, 'funny': 0}</td>\n",
        "    </tr>\n",
        "    <tr>\n",
        "      <th>1</th>\n",
        "      <td> 4iTRjN_uAdAb7_YZDVHJdg</td>\n",
        "      <td> 2011-02-17</td>\n",
        "      <td> 5</td>\n",
        "      <td> The nurses here were very  attentive and wonde...</td>\n",
        "      <td> T9hGHsbJW9Hw1cJAlIAWmw</td>\n",
        "      <td> {'cool': 0, 'useful': 0, 'funny': 0}</td>\n",
        "    </tr>\n",
        "  </tbody>\n",
        "</table>\n",
        "<p>2 rows \u00d7 6 columns</p>\n",
        "</div>"
       ],
       "metadata": {},
       "output_type": "pyout",
       "prompt_number": 23,
       "text": [
        "              business_id        date  stars  \\\n",
        "0  wbpbaWBfU54JbjLIDwERQA  2009-06-09      5   \n",
        "1  4iTRjN_uAdAb7_YZDVHJdg  2011-02-17      5   \n",
        "\n",
        "                                                text                 user_id  \\\n",
        "0  I'm a fan of soft serve ice cream and Guptill'...  kT43SxDgMGzbeXpO51f0hQ   \n",
        "1  The nurses here were very  attentive and wonde...  T9hGHsbJW9Hw1cJAlIAWmw   \n",
        "\n",
        "                                  votes  \n",
        "0  {'cool': 1, 'useful': 0, 'funny': 0}  \n",
        "1  {'cool': 0, 'useful': 0, 'funny': 0}  \n",
        "\n",
        "[2 rows x 6 columns]"
       ]
      }
     ],
     "prompt_number": 23
    },
    {
     "cell_type": "code",
     "collapsed": false,
     "input": [
      "review['id'] = range(len(review))"
     ],
     "language": "python",
     "metadata": {},
     "outputs": [],
     "prompt_number": 24
    },
    {
     "cell_type": "markdown",
     "metadata": {},
     "source": [
      "Replace hash with id"
     ]
    },
    {
     "cell_type": "code",
     "collapsed": false,
     "input": [
      "user_id = [user_hash_to_id[row.user_id] for i, row in review.iterrows()]\n",
      "busn_id = [bsn_hash_to_id[row.business_id] for i, row in review.iterrows()]\n",
      "review.drop(['business_id', 'user_id'], axis=1, inplace=True)\n",
      "review['business_id'] = busn_id\n",
      "review['user_id'] = user_id"
     ],
     "language": "python",
     "metadata": {},
     "outputs": [],
     "prompt_number": 26
    },
    {
     "cell_type": "code",
     "collapsed": false,
     "input": [
      "votes = pd.DataFrame([json.loads(entry.replace(\"'\", '\"')) for entry in review.votes])\n",
      "review['cool'] = votes.cool\n",
      "review['useful'] = votes.useful\n",
      "review['funny'] = votes.funny\n",
      "review.drop('votes', axis=1, inplace=True)"
     ],
     "language": "python",
     "metadata": {},
     "outputs": [],
     "prompt_number": 27
    },
    {
     "cell_type": "code",
     "collapsed": false,
     "input": [
      "review.head(3)"
     ],
     "language": "python",
     "metadata": {},
     "outputs": [
      {
       "html": [
        "<div style=\"max-height:1000px;max-width:1500px;overflow:auto;\">\n",
        "<table border=\"1\" class=\"dataframe\">\n",
        "  <thead>\n",
        "    <tr style=\"text-align: right;\">\n",
        "      <th></th>\n",
        "      <th>date</th>\n",
        "      <th>stars</th>\n",
        "      <th>text</th>\n",
        "      <th>id</th>\n",
        "      <th>business_id</th>\n",
        "      <th>user_id</th>\n",
        "      <th>cool</th>\n",
        "      <th>useful</th>\n",
        "      <th>funny</th>\n",
        "    </tr>\n",
        "  </thead>\n",
        "  <tbody>\n",
        "    <tr>\n",
        "      <th>0</th>\n",
        "      <td> 2009-06-09</td>\n",
        "      <td> 5</td>\n",
        "      <td> I'm a fan of soft serve ice cream and Guptill'...</td>\n",
        "      <td> 0</td>\n",
        "      <td> 2836</td>\n",
        "      <td>  95374</td>\n",
        "      <td> 1</td>\n",
        "      <td> 0</td>\n",
        "      <td> 0</td>\n",
        "    </tr>\n",
        "    <tr>\n",
        "      <th>1</th>\n",
        "      <td> 2011-02-17</td>\n",
        "      <td> 5</td>\n",
        "      <td> The nurses here were very  attentive and wonde...</td>\n",
        "      <td> 1</td>\n",
        "      <td>  672</td>\n",
        "      <td>  55784</td>\n",
        "      <td> 0</td>\n",
        "      <td> 0</td>\n",
        "      <td> 0</td>\n",
        "    </tr>\n",
        "    <tr>\n",
        "      <th>2</th>\n",
        "      <td> 2011-11-12</td>\n",
        "      <td> 4</td>\n",
        "      <td> Pretty great!  Okay, so this place is obviousl...</td>\n",
        "      <td> 2</td>\n",
        "      <td> 2338</td>\n",
        "      <td> 107522</td>\n",
        "      <td> 0</td>\n",
        "      <td> 0</td>\n",
        "      <td> 1</td>\n",
        "    </tr>\n",
        "  </tbody>\n",
        "</table>\n",
        "<p>3 rows \u00d7 9 columns</p>\n",
        "</div>"
       ],
       "metadata": {},
       "output_type": "pyout",
       "prompt_number": 28,
       "text": [
        "         date  stars                                               text  id  \\\n",
        "0  2009-06-09      5  I'm a fan of soft serve ice cream and Guptill'...   0   \n",
        "1  2011-02-17      5  The nurses here were very  attentive and wonde...   1   \n",
        "2  2011-11-12      4  Pretty great!  Okay, so this place is obviousl...   2   \n",
        "\n",
        "   business_id  user_id  cool  useful  funny  \n",
        "0         2836    95374     1       0      0  \n",
        "1          672    55784     0       0      0  \n",
        "2         2338   107522     0       0      1  \n",
        "\n",
        "[3 rows x 9 columns]"
       ]
      }
     ],
     "prompt_number": 28
    },
    {
     "cell_type": "markdown",
     "metadata": {},
     "source": [
      "###Schema\n",
      "\n",
      "`review_id serial PRIMARY KEY`<br/>\n",
      "`stars integer`<br/>\n",
      "`text text`<br/>\n",
      "`cool integer`<br/>\n",
      "`useful integer`<br/>\n",
      "`funny integer`<br/>\n",
      "`user_id integer references yelp_academic(yelp_user)`<br/>\n",
      "`business_id integer references yelp_academic(business)`<br/>\n",
      "`date date`"
     ]
    },
    {
     "cell_type": "code",
     "collapsed": false,
     "input": [
      "conct = psycopg2.connect(\"dbname=yelp_academic user=%s\" % username)\n",
      "cursr = conct.cursor()"
     ],
     "language": "python",
     "metadata": {},
     "outputs": [],
     "prompt_number": 32
    },
    {
     "cell_type": "code",
     "collapsed": false,
     "input": [
      "cursr.execute(\"DROP TABLE IF EXISTS review\")\n",
      "cursr.execute(\"CREATE TABLE review (\"\n",
      "              \"id serial PRIMARY KEY,\"\n",
      "              \" stars integer,\"\n",
      "              \" text text,\"\n",
      "              \" cool integer,\"\n",
      "              \" useful integer,\"\n",
      "              \" funny integer,\"\n",
      "              \" user_id integer references yelp_user(id),\"\n",
      "              \" business_id integer references business(id),\"\n",
      "              \" date date);\")"
     ],
     "language": "python",
     "metadata": {},
     "outputs": [],
     "prompt_number": 33
    },
    {
     "cell_type": "code",
     "collapsed": false,
     "input": [
      "for i, row in review.iterrows():\n",
      "    cursr.execute(\"\"\"INSERT INTO review (id, stars, text, cool, useful, funny, user_id, business_id, date)\n",
      "                     VALUES\n",
      "                     (%(id)s, %(stars)s, %(text)s, %(cool)s, %(useful)s, %(funny)s,\n",
      "                      %(user_id)s, %(business_id)s, %(date)s);\"\"\", row)"
     ],
     "language": "python",
     "metadata": {},
     "outputs": [],
     "prompt_number": 34
    },
    {
     "cell_type": "code",
     "collapsed": false,
     "input": [
      "conct.commit()\n",
      "cursr.close()\n",
      "conct.close()"
     ],
     "language": "python",
     "metadata": {},
     "outputs": [],
     "prompt_number": 35
    },
    {
     "cell_type": "code",
     "collapsed": false,
     "input": [],
     "language": "python",
     "metadata": {},
     "outputs": []
    }
   ],
   "metadata": {}
  }
 ]
}