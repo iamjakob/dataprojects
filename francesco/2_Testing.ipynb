{
 "metadata": {
  "name": ""
 },
 "nbformat": 3,
 "nbformat_minor": 0,
 "worksheets": [
  {
   "cells": [
    {
     "cell_type": "code",
     "collapsed": false,
     "input": [
      "from __future__ import division\n",
      "import numpy as np\n",
      "import pandas as pd\n",
      "import classifiers\n",
      "\n",
      "from yelp_data import test_set"
     ],
     "language": "python",
     "metadata": {},
     "outputs": [],
     "prompt_number": 1
    },
    {
     "cell_type": "code",
     "collapsed": false,
     "input": [
      "# load classifiers...\n",
      "vectorizer, nbclassifier = classifiers.load('naivebayes')\n",
      "lrclassifier = classifiers.load_classifier('logistic')\n",
      "testdf = test_set()"
     ],
     "language": "python",
     "metadata": {},
     "outputs": [],
     "prompt_number": 2
    },
    {
     "cell_type": "markdown",
     "metadata": {},
     "source": [
      "##Accuracy\n",
      "\n",
      "The number of correctly predicted ratings:\n",
      "\n",
      "- Logistic regression correctly identifies 62% of the ratings in the test set.\n",
      "- Blind guessing would give ~20% accuracy.\n",
      "- Guessing the most frequent rating in the training set (4) would achieve slightly less than 30%."
     ]
    },
    {
     "cell_type": "code",
     "collapsed": false,
     "input": [
      "X = vectorizer.transform(testdf.text) # takes a few seconds\n",
      "y = testdf.stars\n",
      "\n",
      "nbpredictions = nbclassifier.predict(X)            # predictions according to naive Bayes\n",
      "lrpredictions = lrclassifier.predict(X)            # predictions according to logistic regression\n",
      "mfpredictions = np.zeros_like(lrpredictions) + 4   # always predict 4 - most frequent rating in training set"
     ],
     "language": "python",
     "metadata": {},
     "outputs": [],
     "prompt_number": 3
    },
    {
     "cell_type": "code",
     "collapsed": false,
     "input": [
      "print(\"Accuracy for predict most frequent: %.2f%%\" % (100*sum(mfpredictions==y) / len(y)))\n",
      "print(\"Accuracy for naive Bayes on the test set: %.2f%%\" % (nbclassifier.score(X, y)*100))\n",
      "print(\"Accuracy for logistic regression classifier: %.2f%%\" % (lrclassifier.score(X, y)*100))"
     ],
     "language": "python",
     "metadata": {},
     "outputs": [
      {
       "output_type": "stream",
       "stream": "stdout",
       "text": [
        "Accuracy for predict most frequent: 29.98%\n",
        "Accuracy for naive Bayes on the test set: 57.89%\n",
        "Accuracy for logistic regression classifier: 62.43%\n"
       ]
      }
     ],
     "prompt_number": 4
    },
    {
     "cell_type": "markdown",
     "metadata": {},
     "source": [
      "##Other metrics\n",
      "\n",
      "- mean square error\n",
      "- mean absolute error\n",
      "- ratio of label predicted with an error of at most one. "
     ]
    },
    {
     "cell_type": "code",
     "collapsed": false,
     "input": [
      "from helper.metrics import *"
     ],
     "language": "python",
     "metadata": {},
     "outputs": [],
     "prompt_number": 5
    },
    {
     "cell_type": "markdown",
     "metadata": {},
     "source": [
      "###Mean square error"
     ]
    },
    {
     "cell_type": "code",
     "collapsed": false,
     "input": [
      "print(\"MSE, predict most frequent: %s\" % mean_square_error(y, mfpredictions))\n",
      "print(\"MSE, naive Bayes: %s\" % mean_square_error(y, nbpredictions))\n",
      "print(\"MSE, logistic regression: %s\" % mean_square_error(y, lrpredictions))"
     ],
     "language": "python",
     "metadata": {},
     "outputs": [
      {
       "output_type": "stream",
       "stream": "stdout",
       "text": [
        "MSE, predict most frequent: 1.79709008538\n",
        "MSE, naive Bayes: 1.14641052448\n",
        "MSE, logistic regression: 0.739719463321\n"
       ]
      }
     ],
     "prompt_number": 6
    },
    {
     "cell_type": "markdown",
     "metadata": {},
     "source": [
      "###Absolute error"
     ]
    },
    {
     "cell_type": "code",
     "collapsed": false,
     "input": [
      "print(\"Absolute error, predict most frequent: %s\" % mean_abs_error(y, mfpredictions))\n",
      "print(\"Absolute error, naive Bayes: %s\" % mean_abs_error(y, nbpredictions))\n",
      "print(\"Absolute error, logistic regression: %s\" % mean_abs_error(y, lrpredictions))"
     ],
     "language": "python",
     "metadata": {},
     "outputs": [
      {
       "output_type": "stream",
       "stream": "stdout",
       "text": [
        "Absolute error, predict most frequent: 0.996689318697\n",
        "Absolute error, naive Bayes: 0.594049485973\n",
        "Absolute error, logistic regression: 0.470073183481\n"
       ]
      }
     ],
     "prompt_number": 7
    },
    {
     "cell_type": "markdown",
     "metadata": {},
     "source": [
      "###One-away ratio:\n",
      "\n",
      "- Guessing the most frequently occurring label in the training set we would predict within 1 from the truth in 81% of cases."
     ]
    },
    {
     "cell_type": "code",
     "collapsed": false,
     "input": [
      "print(\"One-away percentage, predict most frequent: %.2f%%\" % (one_away_ratio(y, mfpredictions)*100))\n",
      "print(\"One-away percentage, naive Bayes: %.2f%%\" % (one_away_ratio(y, nbpredictions)*100))\n",
      "print(\"One-away percentage, logistic regression: %.2f%%\" % (one_away_ratio(y, lrpredictions)*100))"
     ],
     "language": "python",
     "metadata": {},
     "outputs": [
      {
       "output_type": "stream",
       "stream": "stdout",
       "text": [
        "One-away percentage, predict most frequent: 80.72%\n",
        "One-away percentage, naive Bayes: 90.37%"
       ]
      },
      {
       "output_type": "stream",
       "stream": "stdout",
       "text": [
        "\n",
        "One-away percentage, logistic regression: 93.78%"
       ]
      },
      {
       "output_type": "stream",
       "stream": "stdout",
       "text": [
        "\n"
       ]
      }
     ],
     "prompt_number": 8
    }
   ],
   "metadata": {}
  }
 ]
}