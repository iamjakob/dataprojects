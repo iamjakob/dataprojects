{
 "metadata": {
  "name": "",
  "signature": "sha256:7bdbf0ed07fa14c5a51ba5e3df00a53e011a5485ff91ca70cf6f9176a17e9059"
 },
 "nbformat": 3,
 "nbformat_minor": 0,
 "worksheets": [
  {
   "cells": [
    {
     "cell_type": "code",
     "collapsed": false,
     "input": [
      "import urllib3\n",
      "import pandas as pd\n",
      "from bs4 import BeautifulSoup\n",
      "\n",
      "base_url = \"http://games.crossfit.com/scores/leaderboard.php?\"\n",
      "\n",
      "default_params = {'stage':         5,\n",
      "                  'sort':          0,\n",
      "                  'page':          1,\n",
      "                  'division':      1,\n",
      "                  'region':        0,\n",
      "                  'numberperpage': 100,\n",
      "                  'competition':   0,\n",
      "                  'frontpage':     0,\n",
      "                  'expanded':      0,\n",
      "                  'year':          14,\n",
      "                  'full':          1,\n",
      "                  'showtoggles':   0,\n",
      "                  'hidedropdowns': 1,\n",
      "                  'showathleteac': 1,\n",
      "                  'is_mobile':     1}"
     ],
     "language": "python",
     "metadata": {},
     "outputs": [
      {
       "output_type": "stream",
       "stream": "stderr",
       "text": [
        "/home/sam/local-python/2.7.6/py-init-env/lib/python2.7/site-packages/pandas/io/excel.py:626: UserWarning: Installed openpyxl is not supported at this time. Use >=1.6.1 and <2.0.0.\n",
        "  .format(openpyxl_compat.start_ver, openpyxl_compat.stop_ver))\n"
       ]
      }
     ],
     "prompt_number": 1
    },
    {
     "cell_type": "code",
     "collapsed": false,
     "input": [],
     "language": "python",
     "metadata": {},
     "outputs": []
    }
   ],
   "metadata": {}
  }
 ]
}